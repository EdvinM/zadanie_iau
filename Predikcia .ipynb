{
 "cells": [
  {
   "cell_type": "markdown",
   "metadata": {},
   "source": [
    "# Predikcia "
   ]
  },
  {
   "cell_type": "code",
   "execution_count": 1,
   "metadata": {},
   "outputs": [],
   "source": [
    "%matplotlib inline\n",
    "import pandas as pd\n",
    "import numpy as np\n",
    "import matplotlib.pyplot as plt\n",
    "import seaborn as sns\n",
    "import scipy.stats as stats\n",
    "import statsmodels.api as sm\n",
    "import statsmodels.stats.api as sms\n",
    "from sklearn.pipeline import Pipeline"
   ]
  },
  {
   "cell_type": "code",
   "execution_count": 2,
   "metadata": {},
   "outputs": [],
   "source": [
    "pd.options.display.width = None\n",
    "pd.options.display.max_columns = None"
   ]
  },
  {
   "cell_type": "code",
   "execution_count": 3,
   "metadata": {},
   "outputs": [],
   "source": [
    "from Models import CombineDatasets as d1\n",
    "from Models import DecodeJSONColumn as d2\n",
    "from Models import ColumnDropper as d3\n",
    "from Models import BinaryEncoder as d4\n",
    "from Models import ClassFixer as d5\n",
    "from Models import FixDates as d6\n",
    "from Models import ComputeCurYear as d7\n",
    "from Models import Replacer as d8\n",
    "from Models import FillMeasuredColumns as d9\n",
    "from Models import CountMeasuredHormones as d10\n",
    "from Models import FillNanNumeric as d11\n",
    "from Models import PredictNanNumeric as d12\n",
    "from Models import Classifier as d13\n",
    "from Models import QuantileReplacer as d14\n",
    "from Models import Fitter as d15"
   ]
  },
  {
   "cell_type": "code",
   "execution_count": 4,
   "metadata": {},
   "outputs": [],
   "source": [
    "bool_columns = [\n",
    "    'FTI measured',\n",
    "    'I131 treatment',\n",
    "    'T3 measured',\n",
    "    'goitre',\n",
    "    'lithium',\n",
    "    'on thyroxine',\n",
    "    'pregnant',\n",
    "    'tumor',\n",
    "    'query on thyroxine',\n",
    "    'thyroid surgery',\n",
    "    'TSH measured',\n",
    "    'query hyperthyroid',\n",
    "    'TT4 measured',\n",
    "    'on antithyroid medication',\n",
    "    'sick',\n",
    "    'T4U measured',\n",
    "    'psych',\n",
    "    'query hypothyroid'\n",
    "]"
   ]
  },
  {
   "cell_type": "markdown",
   "metadata": {},
   "source": [
    "# Zadefinovanie pipelinov pomocou ktorych budeme spracovavat data"
   ]
  },
  {
   "cell_type": "code",
   "execution_count": 5,
   "metadata": {},
   "outputs": [],
   "source": [
    "from sklearn.pipeline import FeatureUnion"
   ]
  },
  {
   "cell_type": "code",
   "execution_count": 6,
   "metadata": {},
   "outputs": [],
   "source": [
    "# Transformacna pipelina, ktora robi transformacie nad zadanymi datasetmi\n",
    "transf_ppl = Pipeline([\n",
    "    ('combination', d1.CombineDatasets()),\n",
    "    ('json_decode', d2.DecodeJSONColumn('medical_info')),\n",
    "    ('drop_columns', d3.ColumnDropper(['hypopituitary', 'TBG measured', 'TBG'])),\n",
    "    ('binary_fixer', d4.BinaryEncoder(bool_columns)),\n",
    "    ('class_fix', d5.ClassFixer()),\n",
    "    ('fix_dates', d6.FixDates()),\n",
    "    ('compute_cur_year', d7.ComputeCurYear()),\n",
    "    ('fti_question_mark_to_nan2', d8.Replacer(['FTI'], '?.4', float('nan'), str)),\n",
    "    ('fti_question_mark_to_nan', d8.Replacer(['FTI'], '?', float('nan'), str)),\n",
    "    ('fti_question_mark_to_nan1', d8.Replacer(['FTI'], np.nan, float('nan'), str)),\n",
    "    ('fti_question_mark_to_nan3', d8.Replacer(['FTI'], np.nan, float('nan'), float)),\n",
    "    ('fill_measured_columns', d9.FillMeasuredColumns()),\n",
    "    ('count_measured', d10.CountMeasuredHormones('measured_hormones'))])\n",
    "    \n",
    "# Pipelina ktora doplna chybajuce hodnoty\n",
    "pred_ppl = Pipeline([\n",
    "    # Fill hormony\n",
    "    ('fitter', d15.Fitter()),\n",
    "    ('fill_tt4', d11.FillNanNumeric('mean', 'TT4')),\n",
    "    ('fill_tsh', d11.FillNanNumeric('median', 'TSH')),\n",
    "    ('predicted_t3', d12.PredictNanNumeric('T3', ['TT4', 'TSH'])),\n",
    "    ('predicted_t4u', d12.PredictNanNumeric('T4U', ['TT4', 'TSH'])),\n",
    "    ('predicted_fti', d12.PredictNanNumeric('FTI', ['TT4', 'TSH', 'T4U'])),\n",
    "    \n",
    "    # Fill pregnant\n",
    "    ('pregnant_predict', d13.Classifier('pregnant', ['T3', 'T4U', 'TT4'])),\n",
    "    \n",
    "    # Fill other variables\n",
    "    ('fill_tumor', d11.FillNanNumeric('median', 'tumor')),\n",
    "    ('fill_lithium', d11.FillNanNumeric('mean', 'lithium')),\n",
    "    ('fill_on_thyroxine', d11.FillNanNumeric('mean', 'on thyroxine')),\n",
    "    ('fill_goitre', d11.FillNanNumeric('most_frequent', 'goitre')),\n",
    "     ('fill_q_on_thyroxine', d11.FillNanNumeric('mean', 'query on thyroxine')),\n",
    "    \n",
    "    #Replace outlier\n",
    "    ('replace_t3', d14.QuantileReplacer('T3')),\n",
    "    ('replace_age', d14.QuantileReplacer('age')),\n",
    "    ('replace_t4u', d14.QuantileReplacer('T4U')),\n",
    "    ('replace_tsh', d14.QuantileReplacer('TSH')),\n",
    "    ('replace_tt4', d14.QuantileReplacer('TT4')),\n",
    "    ('replace_fti', d14.QuantileReplacer('FTI'))\n",
    "])"
   ]
  },
  {
   "cell_type": "markdown",
   "metadata": {},
   "source": [
    "## Nacitanie trenovacich data a ich spracovanie"
   ]
  },
  {
   "cell_type": "code",
   "execution_count": 7,
   "metadata": {},
   "outputs": [],
   "source": [
    "data_personal_train = pd.read_csv(\"data/personal_train.csv\")\n",
    "data_other_train = pd.read_csv(\"data/other_train.csv\")"
   ]
  },
  {
   "cell_type": "code",
   "execution_count": 8,
   "metadata": {},
   "outputs": [],
   "source": [
    "data_train = transf_ppl.fit_transform(data_personal_train, data_other_train)\n",
    "data_train = pred_ppl.fit_transform(data_train, data_train)"
   ]
  },
  {
   "cell_type": "markdown",
   "metadata": {},
   "source": [
    "## Nacitanie testovacich dat a ich spracovanie"
   ]
  },
  {
   "cell_type": "code",
   "execution_count": 10,
   "metadata": {},
   "outputs": [],
   "source": [
    "data_personal_test = pd.read_csv(\"data/personal_test.csv\")\n",
    "data_other_test = pd.read_csv(\"data/other_test.csv\")"
   ]
  },
  {
   "cell_type": "code",
   "execution_count": 11,
   "metadata": {
    "scrolled": false
   },
   "outputs": [],
   "source": [
    "data_test = transf_ppl.fit_transform(data_personal_test, data_other_test)"
   ]
  },
  {
   "cell_type": "code",
   "execution_count": 12,
   "metadata": {
    "scrolled": false
   },
   "outputs": [],
   "source": [
    "mdl = pred_ppl.fit(data_train_2)\n",
    "data_test = mdl.transform(data_test)"
   ]
  }
 ],
 "metadata": {
  "kernelspec": {
   "display_name": "Python 3",
   "language": "python",
   "name": "python3"
  },
  "language_info": {
   "codemirror_mode": {
    "name": "ipython",
    "version": 3
   },
   "file_extension": ".py",
   "mimetype": "text/x-python",
   "name": "python",
   "nbconvert_exporter": "python",
   "pygments_lexer": "ipython3",
   "version": "3.6.6"
  }
 },
 "nbformat": 4,
 "nbformat_minor": 2
}
