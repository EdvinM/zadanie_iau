{
 "cells": [
  {
   "cell_type": "markdown",
   "metadata": {},
   "source": [
    "# Predikcia pohlavia v cupid datasete"
   ]
  },
  {
   "cell_type": "code",
   "execution_count": 1,
   "metadata": {},
   "outputs": [],
   "source": [
    "import pandas as pd\n",
    "import numpy as np\n",
    "import matplotlib.pyplot as plt\n",
    "import seaborn as sns\n",
    "import collections as col\n",
    "import missingno as msno\n",
    "import category_encoders as ce\n",
    "\n",
    "from sklearn.neighbors import KNeighborsClassifier\n",
    "from sklearn.tree import DecisionTreeClassifier\n",
    "\n",
    "from sklearn.preprocessing import Imputer\n",
    "from sklearn.preprocessing import minmax_scale\n",
    "from sklearn import model_selection as ms\n",
    "from sklearn import preprocessing\n",
    "\n",
    "from transformers import ModelTransformer as mt\n",
    "from sklearn.pipeline import Pipeline, FeatureUnion\n",
    "\n",
    "%matplotlib inline\n",
    "\n",
    "pd.options.mode.chained_assignment = None\n",
    "pd.options.display.max_columns = None"
   ]
  },
  {
   "cell_type": "code",
   "execution_count": 2,
   "metadata": {},
   "outputs": [
    {
     "data": {
      "text/plain": [
       "Index(['age', 'body_type', 'diet', 'drinks', 'drugs', 'education', 'essay0',\n",
       "       'essay1', 'essay2', 'essay3', 'essay4', 'essay5', 'essay6', 'essay7',\n",
       "       'essay8', 'essay9', 'ethnicity', 'height', 'income', 'job',\n",
       "       'last_online', 'location', 'offspring', 'orientation', 'pets',\n",
       "       'religion', 'sex', 'sign', 'smokes', 'speaks', 'status'],\n",
       "      dtype='object')"
      ]
     },
     "execution_count": 2,
     "metadata": {},
     "output_type": "execute_result"
    }
   ],
   "source": [
    "data = pd.read_csv(\"data/profiles.csv\")\n",
    "data.columns"
   ]
  },
  {
   "cell_type": "markdown",
   "metadata": {},
   "source": [
    "# Rozdelime si data na trenovacie a testovacie"
   ]
  },
  {
   "cell_type": "code",
   "execution_count": 3,
   "metadata": {},
   "outputs": [],
   "source": [
    "data_train, data_test = ms.train_test_split(data, test_size=0.2, random_state=42)"
   ]
  },
  {
   "cell_type": "markdown",
   "metadata": {},
   "source": [
    "Pozrieme sa na dlzky tychto dvoch datasetov"
   ]
  },
  {
   "cell_type": "code",
   "execution_count": 4,
   "metadata": {},
   "outputs": [
    {
     "data": {
      "text/plain": [
       "(47956, 11990)"
      ]
     },
     "execution_count": 4,
     "metadata": {},
     "output_type": "execute_result"
    }
   ],
   "source": [
    "len(data_train), len(data_test)"
   ]
  },
  {
   "cell_type": "code",
   "execution_count": 7,
   "metadata": {},
   "outputs": [
    {
     "data": {
      "text/html": [
       "<div>\n",
       "<style scoped>\n",
       "    .dataframe tbody tr th:only-of-type {\n",
       "        vertical-align: middle;\n",
       "    }\n",
       "\n",
       "    .dataframe tbody tr th {\n",
       "        vertical-align: top;\n",
       "    }\n",
       "\n",
       "    .dataframe thead th {\n",
       "        text-align: right;\n",
       "    }\n",
       "</style>\n",
       "<table border=\"1\" class=\"dataframe\">\n",
       "  <thead>\n",
       "    <tr style=\"text-align: right;\">\n",
       "      <th></th>\n",
       "      <th>age</th>\n",
       "      <th>body_type</th>\n",
       "      <th>diet</th>\n",
       "      <th>drinks</th>\n",
       "      <th>drugs</th>\n",
       "      <th>education</th>\n",
       "      <th>essay0</th>\n",
       "      <th>essay1</th>\n",
       "      <th>essay2</th>\n",
       "      <th>essay3</th>\n",
       "      <th>essay4</th>\n",
       "      <th>essay5</th>\n",
       "      <th>essay6</th>\n",
       "      <th>essay7</th>\n",
       "      <th>essay8</th>\n",
       "      <th>essay9</th>\n",
       "      <th>ethnicity</th>\n",
       "      <th>height</th>\n",
       "      <th>income</th>\n",
       "      <th>job</th>\n",
       "      <th>last_online</th>\n",
       "      <th>location</th>\n",
       "      <th>offspring</th>\n",
       "      <th>orientation</th>\n",
       "      <th>pets</th>\n",
       "      <th>religion</th>\n",
       "      <th>sex</th>\n",
       "      <th>sign</th>\n",
       "      <th>smokes</th>\n",
       "      <th>speaks</th>\n",
       "      <th>status</th>\n",
       "    </tr>\n",
       "  </thead>\n",
       "  <tbody>\n",
       "    <tr>\n",
       "      <th>8414</th>\n",
       "      <td>42</td>\n",
       "      <td>average</td>\n",
       "      <td>mostly anything</td>\n",
       "      <td>not at all</td>\n",
       "      <td>never</td>\n",
       "      <td>working on college/university</td>\n",
       "      <td>things i like (taken with a grain of salt)!&lt;br...</td>\n",
       "      <td>well....back to school after doing my undergra...</td>\n",
       "      <td>NaN</td>\n",
       "      <td>i like hats.</td>\n",
       "      <td>how many characters can i use?&lt;br /&gt;\\n&lt;br /&gt;\\n...</td>\n",
       "      <td>family. friends. love. knowledge. computer. ch...</td>\n",
       "      <td>the nature of existence. why people do/think w...</td>\n",
       "      <td>watching movies and eating popcorn with my chi...</td>\n",
       "      <td>i like to sleep with a pillow on my tummy.</td>\n",
       "      <td>you like my profile. oh, and if you're smart a...</td>\n",
       "      <td>white</td>\n",
       "      <td>64.0</td>\n",
       "      <td>-1</td>\n",
       "      <td>student</td>\n",
       "      <td>2012-06-30-00-53</td>\n",
       "      <td>corte madera, california</td>\n",
       "      <td>has kids, but doesn&amp;rsquo;t want more</td>\n",
       "      <td>straight</td>\n",
       "      <td>NaN</td>\n",
       "      <td>other and somewhat serious about it</td>\n",
       "      <td>f</td>\n",
       "      <td>sagittarius and it&amp;rsquo;s fun to think about</td>\n",
       "      <td>no</td>\n",
       "      <td>english (fluently)</td>\n",
       "      <td>single</td>\n",
       "    </tr>\n",
       "    <tr>\n",
       "      <th>35088</th>\n",
       "      <td>55</td>\n",
       "      <td>fit</td>\n",
       "      <td>NaN</td>\n",
       "      <td>often</td>\n",
       "      <td>NaN</td>\n",
       "      <td>graduated from college/university</td>\n",
       "      <td>i am a fairly simple individual (though not si...</td>\n",
       "      <td>seriously doing my best not to take life so se...</td>\n",
       "      <td>better, i'm working at being more forgiving, t...</td>\n",
       "      <td>hmmm, i dunno, that i smile easily? it's been ...</td>\n",
       "      <td>i had a list here &amp;amp; apparently forgot to s...</td>\n",
       "      <td>three more wishes...&lt;br /&gt;\\n&lt;br /&gt;\\nbeyond wis...</td>\n",
       "      <td>well, i think about a lot of things... but her...</td>\n",
       "      <td>glad tomorrow's saturday. otherwise, they are ...</td>\n",
       "      <td>is that if i told you here, it wouldn't be so ...</td>\n",
       "      <td>if you're interested in opening communication ...</td>\n",
       "      <td>asian</td>\n",
       "      <td>65.0</td>\n",
       "      <td>-1</td>\n",
       "      <td>sales / marketing / biz dev</td>\n",
       "      <td>2012-06-30-15-35</td>\n",
       "      <td>oakland, california</td>\n",
       "      <td>has kids</td>\n",
       "      <td>straight</td>\n",
       "      <td>likes dogs and likes cats</td>\n",
       "      <td>other</td>\n",
       "      <td>m</td>\n",
       "      <td>libra</td>\n",
       "      <td>no</td>\n",
       "      <td>english (fluently)</td>\n",
       "      <td>single</td>\n",
       "    </tr>\n",
       "    <tr>\n",
       "      <th>24943</th>\n",
       "      <td>33</td>\n",
       "      <td>fit</td>\n",
       "      <td>NaN</td>\n",
       "      <td>rarely</td>\n",
       "      <td>never</td>\n",
       "      <td>graduated from college/university</td>\n",
       "      <td>i am looking for something pretty specific. i ...</td>\n",
       "      <td>i have a pretty cool career i enjoy. i also ha...</td>\n",
       "      <td>communication. my work. sex. having fun. writi...</td>\n",
       "      <td>that i am funny. and kinda' cute.</td>\n",
       "      <td>NaN</td>\n",
       "      <td>iphone.&lt;br /&gt;\\ngreat friends.&lt;br /&gt;\\na bad gir...</td>\n",
       "      <td>how i can have everything i want in life.</td>\n",
       "      <td>causing almost prosecutable amounts of trouble...</td>\n",
       "      <td>that i want a swinger girlfriend! and don't wo...</td>\n",
       "      <td>you are interested in this kind of dating scen...</td>\n",
       "      <td>white</td>\n",
       "      <td>72.0</td>\n",
       "      <td>-1</td>\n",
       "      <td>executive / management</td>\n",
       "      <td>2011-11-15-15-44</td>\n",
       "      <td>san francisco, california</td>\n",
       "      <td>NaN</td>\n",
       "      <td>straight</td>\n",
       "      <td>NaN</td>\n",
       "      <td>catholicism but not too serious about it</td>\n",
       "      <td>m</td>\n",
       "      <td>virgo but it doesn&amp;rsquo;t matter</td>\n",
       "      <td>no</td>\n",
       "      <td>english</td>\n",
       "      <td>single</td>\n",
       "    </tr>\n",
       "    <tr>\n",
       "      <th>33238</th>\n",
       "      <td>57</td>\n",
       "      <td>athletic</td>\n",
       "      <td>mostly other</td>\n",
       "      <td>not at all</td>\n",
       "      <td>sometimes</td>\n",
       "      <td>graduated from masters program</td>\n",
       "      <td>most of all, i want a beloved to share my spir...</td>\n",
       "      <td>loving&lt;br /&gt;\\nopening&lt;br /&gt;\\nbreathing&lt;br /&gt;\\n...</td>\n",
       "      <td>loving, exposing my ego, opening, being of ser...</td>\n",
       "      <td>NaN</td>\n",
       "      <td>all spiritual movies/tv shows....cirque du sol...</td>\n",
       "      <td>my spiritual path and inner growth and awakeni...</td>\n",
       "      <td>my true nature.... and how i can be of service...</td>\n",
       "      <td>NaN</td>\n",
       "      <td>NaN</td>\n",
       "      <td>you are a waking down or diamond heart practit...</td>\n",
       "      <td>white</td>\n",
       "      <td>68.0</td>\n",
       "      <td>-1</td>\n",
       "      <td>medicine / health</td>\n",
       "      <td>2012-06-14-15-13</td>\n",
       "      <td>fairfax, california</td>\n",
       "      <td>has a kid, but doesn&amp;rsquo;t want more</td>\n",
       "      <td>straight</td>\n",
       "      <td>likes dogs and likes cats</td>\n",
       "      <td>buddhism and laughing about it</td>\n",
       "      <td>f</td>\n",
       "      <td>sagittarius and it&amp;rsquo;s fun to think about</td>\n",
       "      <td>no</td>\n",
       "      <td>english (fluently)</td>\n",
       "      <td>single</td>\n",
       "    </tr>\n",
       "    <tr>\n",
       "      <th>195</th>\n",
       "      <td>32</td>\n",
       "      <td>a little extra</td>\n",
       "      <td>mostly anything</td>\n",
       "      <td>socially</td>\n",
       "      <td>never</td>\n",
       "      <td>graduated from masters program</td>\n",
       "      <td>NaN</td>\n",
       "      <td>currently i'm a high school teacher who teache...</td>\n",
       "      <td>NaN</td>\n",
       "      <td>my humor and my eyes</td>\n",
       "      <td>favorite books--east of eden, pillars of the e...</td>\n",
       "      <td>my family&lt;br /&gt;\\nmy friends&lt;br /&gt;\\nmy passport...</td>\n",
       "      <td>NaN</td>\n",
       "      <td>either winding down from a busy school week wi...</td>\n",
       "      <td>NaN</td>\n",
       "      <td>NaN</td>\n",
       "      <td>white</td>\n",
       "      <td>63.0</td>\n",
       "      <td>-1</td>\n",
       "      <td>education / academia</td>\n",
       "      <td>2012-06-25-22-50</td>\n",
       "      <td>san francisco, california</td>\n",
       "      <td>doesn&amp;rsquo;t have kids, but wants them</td>\n",
       "      <td>straight</td>\n",
       "      <td>likes dogs and dislikes cats</td>\n",
       "      <td>catholicism and somewhat serious about it</td>\n",
       "      <td>f</td>\n",
       "      <td>capricorn and it&amp;rsquo;s fun to think about</td>\n",
       "      <td>sometimes</td>\n",
       "      <td>english (fluently)</td>\n",
       "      <td>single</td>\n",
       "    </tr>\n",
       "  </tbody>\n",
       "</table>\n",
       "</div>"
      ],
      "text/plain": [
       "       age       body_type             diet      drinks      drugs  \\\n",
       "8414    42         average  mostly anything  not at all      never   \n",
       "35088   55             fit              NaN       often        NaN   \n",
       "24943   33             fit              NaN      rarely      never   \n",
       "33238   57        athletic     mostly other  not at all  sometimes   \n",
       "195     32  a little extra  mostly anything    socially      never   \n",
       "\n",
       "                               education  \\\n",
       "8414       working on college/university   \n",
       "35088  graduated from college/university   \n",
       "24943  graduated from college/university   \n",
       "33238     graduated from masters program   \n",
       "195       graduated from masters program   \n",
       "\n",
       "                                                  essay0  \\\n",
       "8414   things i like (taken with a grain of salt)!<br...   \n",
       "35088  i am a fairly simple individual (though not si...   \n",
       "24943  i am looking for something pretty specific. i ...   \n",
       "33238  most of all, i want a beloved to share my spir...   \n",
       "195                                                  NaN   \n",
       "\n",
       "                                                  essay1  \\\n",
       "8414   well....back to school after doing my undergra...   \n",
       "35088  seriously doing my best not to take life so se...   \n",
       "24943  i have a pretty cool career i enjoy. i also ha...   \n",
       "33238  loving<br />\\nopening<br />\\nbreathing<br />\\n...   \n",
       "195    currently i'm a high school teacher who teache...   \n",
       "\n",
       "                                                  essay2  \\\n",
       "8414                                                 NaN   \n",
       "35088  better, i'm working at being more forgiving, t...   \n",
       "24943  communication. my work. sex. having fun. writi...   \n",
       "33238  loving, exposing my ego, opening, being of ser...   \n",
       "195                                                  NaN   \n",
       "\n",
       "                                                  essay3  \\\n",
       "8414                                        i like hats.   \n",
       "35088  hmmm, i dunno, that i smile easily? it's been ...   \n",
       "24943                  that i am funny. and kinda' cute.   \n",
       "33238                                                NaN   \n",
       "195                                 my humor and my eyes   \n",
       "\n",
       "                                                  essay4  \\\n",
       "8414   how many characters can i use?<br />\\n<br />\\n...   \n",
       "35088  i had a list here &amp; apparently forgot to s...   \n",
       "24943                                                NaN   \n",
       "33238  all spiritual movies/tv shows....cirque du sol...   \n",
       "195    favorite books--east of eden, pillars of the e...   \n",
       "\n",
       "                                                  essay5  \\\n",
       "8414   family. friends. love. knowledge. computer. ch...   \n",
       "35088  three more wishes...<br />\\n<br />\\nbeyond wis...   \n",
       "24943  iphone.<br />\\ngreat friends.<br />\\na bad gir...   \n",
       "33238  my spiritual path and inner growth and awakeni...   \n",
       "195    my family<br />\\nmy friends<br />\\nmy passport...   \n",
       "\n",
       "                                                  essay6  \\\n",
       "8414   the nature of existence. why people do/think w...   \n",
       "35088  well, i think about a lot of things... but her...   \n",
       "24943          how i can have everything i want in life.   \n",
       "33238  my true nature.... and how i can be of service...   \n",
       "195                                                  NaN   \n",
       "\n",
       "                                                  essay7  \\\n",
       "8414   watching movies and eating popcorn with my chi...   \n",
       "35088  glad tomorrow's saturday. otherwise, they are ...   \n",
       "24943  causing almost prosecutable amounts of trouble...   \n",
       "33238                                                NaN   \n",
       "195    either winding down from a busy school week wi...   \n",
       "\n",
       "                                                  essay8  \\\n",
       "8414          i like to sleep with a pillow on my tummy.   \n",
       "35088  is that if i told you here, it wouldn't be so ...   \n",
       "24943  that i want a swinger girlfriend! and don't wo...   \n",
       "33238                                                NaN   \n",
       "195                                                  NaN   \n",
       "\n",
       "                                                  essay9 ethnicity  height  \\\n",
       "8414   you like my profile. oh, and if you're smart a...     white    64.0   \n",
       "35088  if you're interested in opening communication ...     asian    65.0   \n",
       "24943  you are interested in this kind of dating scen...     white    72.0   \n",
       "33238  you are a waking down or diamond heart practit...     white    68.0   \n",
       "195                                                  NaN     white    63.0   \n",
       "\n",
       "       income                          job       last_online  \\\n",
       "8414       -1                      student  2012-06-30-00-53   \n",
       "35088      -1  sales / marketing / biz dev  2012-06-30-15-35   \n",
       "24943      -1       executive / management  2011-11-15-15-44   \n",
       "33238      -1            medicine / health  2012-06-14-15-13   \n",
       "195        -1         education / academia  2012-06-25-22-50   \n",
       "\n",
       "                        location                                offspring  \\\n",
       "8414    corte madera, california    has kids, but doesn&rsquo;t want more   \n",
       "35088        oakland, california                                 has kids   \n",
       "24943  san francisco, california                                      NaN   \n",
       "33238        fairfax, california   has a kid, but doesn&rsquo;t want more   \n",
       "195    san francisco, california  doesn&rsquo;t have kids, but wants them   \n",
       "\n",
       "      orientation                          pets  \\\n",
       "8414     straight                           NaN   \n",
       "35088    straight     likes dogs and likes cats   \n",
       "24943    straight                           NaN   \n",
       "33238    straight     likes dogs and likes cats   \n",
       "195      straight  likes dogs and dislikes cats   \n",
       "\n",
       "                                        religion sex  \\\n",
       "8414         other and somewhat serious about it   f   \n",
       "35088                                      other   m   \n",
       "24943   catholicism but not too serious about it   m   \n",
       "33238             buddhism and laughing about it   f   \n",
       "195    catholicism and somewhat serious about it   f   \n",
       "\n",
       "                                                sign     smokes  \\\n",
       "8414   sagittarius and it&rsquo;s fun to think about         no   \n",
       "35088                                          libra         no   \n",
       "24943              virgo but it doesn&rsquo;t matter         no   \n",
       "33238  sagittarius and it&rsquo;s fun to think about         no   \n",
       "195      capricorn and it&rsquo;s fun to think about  sometimes   \n",
       "\n",
       "                   speaks  status  \n",
       "8414   english (fluently)  single  \n",
       "35088  english (fluently)  single  \n",
       "24943             english  single  \n",
       "33238  english (fluently)  single  \n",
       "195    english (fluently)  single  "
      ]
     },
     "execution_count": 7,
     "metadata": {},
     "output_type": "execute_result"
    }
   ],
   "source": [
    "data_train.head()"
   ]
  },
  {
   "cell_type": "markdown",
   "metadata": {},
   "source": [
    "Pozrieme sa na typy hodnot ktore maju stlpce"
   ]
  },
  {
   "cell_type": "code",
   "execution_count": 6,
   "metadata": {
    "scrolled": false
   },
   "outputs": [
    {
     "name": "stdout",
     "output_type": "stream",
     "text": [
      "<class 'pandas.core.frame.DataFrame'>\n",
      "Int64Index: 47956 entries, 8414 to 56422\n",
      "Data columns (total 31 columns):\n",
      "age            47956 non-null int64\n",
      "body_type      43759 non-null object\n",
      "diet           28473 non-null object\n",
      "drinks         45606 non-null object\n",
      "drugs          36792 non-null object\n",
      "education      42670 non-null object\n",
      "essay0         43581 non-null object\n",
      "essay1         41905 non-null object\n",
      "essay2         40245 non-null object\n",
      "essay3         38773 non-null object\n",
      "essay4         39515 non-null object\n",
      "essay5         39228 non-null object\n",
      "essay6         36949 non-null object\n",
      "essay7         37979 non-null object\n",
      "essay8         32618 non-null object\n",
      "essay9         37862 non-null object\n",
      "ethnicity      43404 non-null object\n",
      "height         47954 non-null float64\n",
      "income         47956 non-null int64\n",
      "job            41449 non-null object\n",
      "last_online    47956 non-null object\n",
      "location       47956 non-null object\n",
      "offspring      19514 non-null object\n",
      "orientation    47956 non-null object\n",
      "pets           32050 non-null object\n",
      "religion       31817 non-null object\n",
      "sex            47956 non-null object\n",
      "sign           39125 non-null object\n",
      "smokes         43558 non-null object\n",
      "speaks         47912 non-null object\n",
      "status         47956 non-null object\n",
      "dtypes: float64(1), int64(2), object(28)\n",
      "memory usage: 11.7+ MB\n"
     ]
    }
   ],
   "source": [
    "data_train.info()"
   ]
  },
  {
   "cell_type": "code",
   "execution_count": 7,
   "metadata": {},
   "outputs": [
    {
     "data": {
      "text/html": [
       "<div>\n",
       "<style scoped>\n",
       "    .dataframe tbody tr th:only-of-type {\n",
       "        vertical-align: middle;\n",
       "    }\n",
       "\n",
       "    .dataframe tbody tr th {\n",
       "        vertical-align: top;\n",
       "    }\n",
       "\n",
       "    .dataframe thead th {\n",
       "        text-align: right;\n",
       "    }\n",
       "</style>\n",
       "<table border=\"1\" class=\"dataframe\">\n",
       "  <thead>\n",
       "    <tr style=\"text-align: right;\">\n",
       "      <th></th>\n",
       "      <th>age</th>\n",
       "      <th>body_type</th>\n",
       "      <th>diet</th>\n",
       "      <th>drinks</th>\n",
       "      <th>drugs</th>\n",
       "      <th>education</th>\n",
       "      <th>essay0</th>\n",
       "      <th>essay1</th>\n",
       "      <th>essay2</th>\n",
       "      <th>essay3</th>\n",
       "      <th>essay4</th>\n",
       "      <th>essay5</th>\n",
       "      <th>essay6</th>\n",
       "      <th>essay7</th>\n",
       "      <th>essay8</th>\n",
       "      <th>essay9</th>\n",
       "      <th>ethnicity</th>\n",
       "      <th>height</th>\n",
       "      <th>income</th>\n",
       "      <th>job</th>\n",
       "      <th>last_online</th>\n",
       "      <th>location</th>\n",
       "      <th>offspring</th>\n",
       "      <th>orientation</th>\n",
       "      <th>pets</th>\n",
       "      <th>religion</th>\n",
       "      <th>sex</th>\n",
       "      <th>sign</th>\n",
       "      <th>smokes</th>\n",
       "      <th>speaks</th>\n",
       "      <th>status</th>\n",
       "    </tr>\n",
       "  </thead>\n",
       "  <tbody>\n",
       "    <tr>\n",
       "      <th>count</th>\n",
       "      <td>47956.000000</td>\n",
       "      <td>43759</td>\n",
       "      <td>28473</td>\n",
       "      <td>45606</td>\n",
       "      <td>36792</td>\n",
       "      <td>42670</td>\n",
       "      <td>43581</td>\n",
       "      <td>41905</td>\n",
       "      <td>40245</td>\n",
       "      <td>38773</td>\n",
       "      <td>39515</td>\n",
       "      <td>39228</td>\n",
       "      <td>36949</td>\n",
       "      <td>37979</td>\n",
       "      <td>32618</td>\n",
       "      <td>37862</td>\n",
       "      <td>43404</td>\n",
       "      <td>47954.000000</td>\n",
       "      <td>47956.000000</td>\n",
       "      <td>41449</td>\n",
       "      <td>47956</td>\n",
       "      <td>47956</td>\n",
       "      <td>19514</td>\n",
       "      <td>47956</td>\n",
       "      <td>32050</td>\n",
       "      <td>31817</td>\n",
       "      <td>47956</td>\n",
       "      <td>39125</td>\n",
       "      <td>43558</td>\n",
       "      <td>47912</td>\n",
       "      <td>47956</td>\n",
       "    </tr>\n",
       "    <tr>\n",
       "      <th>unique</th>\n",
       "      <td>NaN</td>\n",
       "      <td>12</td>\n",
       "      <td>18</td>\n",
       "      <td>6</td>\n",
       "      <td>3</td>\n",
       "      <td>32</td>\n",
       "      <td>43507</td>\n",
       "      <td>41249</td>\n",
       "      <td>39021</td>\n",
       "      <td>34974</td>\n",
       "      <td>39400</td>\n",
       "      <td>39145</td>\n",
       "      <td>35038</td>\n",
       "      <td>36542</td>\n",
       "      <td>31624</td>\n",
       "      <td>36435</td>\n",
       "      <td>202</td>\n",
       "      <td>NaN</td>\n",
       "      <td>NaN</td>\n",
       "      <td>21</td>\n",
       "      <td>25569</td>\n",
       "      <td>174</td>\n",
       "      <td>15</td>\n",
       "      <td>3</td>\n",
       "      <td>15</td>\n",
       "      <td>45</td>\n",
       "      <td>2</td>\n",
       "      <td>48</td>\n",
       "      <td>5</td>\n",
       "      <td>6397</td>\n",
       "      <td>5</td>\n",
       "    </tr>\n",
       "    <tr>\n",
       "      <th>top</th>\n",
       "      <td>NaN</td>\n",
       "      <td>average</td>\n",
       "      <td>mostly anything</td>\n",
       "      <td>socially</td>\n",
       "      <td>never</td>\n",
       "      <td>graduated from college/university</td>\n",
       "      <td>.</td>\n",
       "      <td>enjoying it.</td>\n",
       "      <td>listening</td>\n",
       "      <td>my smile</td>\n",
       "      <td>ask me</td>\n",
       "      <td>my family</td>\n",
       "      <td>my future</td>\n",
       "      <td>out with friends</td>\n",
       "      <td>...</td>\n",
       "      <td>you want to.</td>\n",
       "      <td>white</td>\n",
       "      <td>NaN</td>\n",
       "      <td>NaN</td>\n",
       "      <td>other</td>\n",
       "      <td>2012-06-29-22-56</td>\n",
       "      <td>san francisco, california</td>\n",
       "      <td>doesn&amp;rsquo;t have kids</td>\n",
       "      <td>straight</td>\n",
       "      <td>likes dogs and likes cats</td>\n",
       "      <td>agnosticism</td>\n",
       "      <td>m</td>\n",
       "      <td>scorpio and it&amp;rsquo;s fun to think about</td>\n",
       "      <td>no</td>\n",
       "      <td>english</td>\n",
       "      <td>single</td>\n",
       "    </tr>\n",
       "    <tr>\n",
       "      <th>freq</th>\n",
       "      <td>NaN</td>\n",
       "      <td>11808</td>\n",
       "      <td>13289</td>\n",
       "      <td>33512</td>\n",
       "      <td>30259</td>\n",
       "      <td>19098</td>\n",
       "      <td>9</td>\n",
       "      <td>48</td>\n",
       "      <td>64</td>\n",
       "      <td>422</td>\n",
       "      <td>12</td>\n",
       "      <td>5</td>\n",
       "      <td>125</td>\n",
       "      <td>70</td>\n",
       "      <td>33</td>\n",
       "      <td>166</td>\n",
       "      <td>26253</td>\n",
       "      <td>NaN</td>\n",
       "      <td>NaN</td>\n",
       "      <td>6151</td>\n",
       "      <td>21</td>\n",
       "      <td>24873</td>\n",
       "      <td>6011</td>\n",
       "      <td>41358</td>\n",
       "      <td>11823</td>\n",
       "      <td>2195</td>\n",
       "      <td>28755</td>\n",
       "      <td>1425</td>\n",
       "      <td>35071</td>\n",
       "      <td>17437</td>\n",
       "      <td>44585</td>\n",
       "    </tr>\n",
       "    <tr>\n",
       "      <th>mean</th>\n",
       "      <td>32.312620</td>\n",
       "      <td>NaN</td>\n",
       "      <td>NaN</td>\n",
       "      <td>NaN</td>\n",
       "      <td>NaN</td>\n",
       "      <td>NaN</td>\n",
       "      <td>NaN</td>\n",
       "      <td>NaN</td>\n",
       "      <td>NaN</td>\n",
       "      <td>NaN</td>\n",
       "      <td>NaN</td>\n",
       "      <td>NaN</td>\n",
       "      <td>NaN</td>\n",
       "      <td>NaN</td>\n",
       "      <td>NaN</td>\n",
       "      <td>NaN</td>\n",
       "      <td>NaN</td>\n",
       "      <td>68.300851</td>\n",
       "      <td>19972.083514</td>\n",
       "      <td>NaN</td>\n",
       "      <td>NaN</td>\n",
       "      <td>NaN</td>\n",
       "      <td>NaN</td>\n",
       "      <td>NaN</td>\n",
       "      <td>NaN</td>\n",
       "      <td>NaN</td>\n",
       "      <td>NaN</td>\n",
       "      <td>NaN</td>\n",
       "      <td>NaN</td>\n",
       "      <td>NaN</td>\n",
       "      <td>NaN</td>\n",
       "    </tr>\n",
       "    <tr>\n",
       "      <th>std</th>\n",
       "      <td>9.441476</td>\n",
       "      <td>NaN</td>\n",
       "      <td>NaN</td>\n",
       "      <td>NaN</td>\n",
       "      <td>NaN</td>\n",
       "      <td>NaN</td>\n",
       "      <td>NaN</td>\n",
       "      <td>NaN</td>\n",
       "      <td>NaN</td>\n",
       "      <td>NaN</td>\n",
       "      <td>NaN</td>\n",
       "      <td>NaN</td>\n",
       "      <td>NaN</td>\n",
       "      <td>NaN</td>\n",
       "      <td>NaN</td>\n",
       "      <td>NaN</td>\n",
       "      <td>NaN</td>\n",
       "      <td>3.989875</td>\n",
       "      <td>97116.503905</td>\n",
       "      <td>NaN</td>\n",
       "      <td>NaN</td>\n",
       "      <td>NaN</td>\n",
       "      <td>NaN</td>\n",
       "      <td>NaN</td>\n",
       "      <td>NaN</td>\n",
       "      <td>NaN</td>\n",
       "      <td>NaN</td>\n",
       "      <td>NaN</td>\n",
       "      <td>NaN</td>\n",
       "      <td>NaN</td>\n",
       "      <td>NaN</td>\n",
       "    </tr>\n",
       "    <tr>\n",
       "      <th>min</th>\n",
       "      <td>18.000000</td>\n",
       "      <td>NaN</td>\n",
       "      <td>NaN</td>\n",
       "      <td>NaN</td>\n",
       "      <td>NaN</td>\n",
       "      <td>NaN</td>\n",
       "      <td>NaN</td>\n",
       "      <td>NaN</td>\n",
       "      <td>NaN</td>\n",
       "      <td>NaN</td>\n",
       "      <td>NaN</td>\n",
       "      <td>NaN</td>\n",
       "      <td>NaN</td>\n",
       "      <td>NaN</td>\n",
       "      <td>NaN</td>\n",
       "      <td>NaN</td>\n",
       "      <td>NaN</td>\n",
       "      <td>3.000000</td>\n",
       "      <td>-1.000000</td>\n",
       "      <td>NaN</td>\n",
       "      <td>NaN</td>\n",
       "      <td>NaN</td>\n",
       "      <td>NaN</td>\n",
       "      <td>NaN</td>\n",
       "      <td>NaN</td>\n",
       "      <td>NaN</td>\n",
       "      <td>NaN</td>\n",
       "      <td>NaN</td>\n",
       "      <td>NaN</td>\n",
       "      <td>NaN</td>\n",
       "      <td>NaN</td>\n",
       "    </tr>\n",
       "    <tr>\n",
       "      <th>25%</th>\n",
       "      <td>26.000000</td>\n",
       "      <td>NaN</td>\n",
       "      <td>NaN</td>\n",
       "      <td>NaN</td>\n",
       "      <td>NaN</td>\n",
       "      <td>NaN</td>\n",
       "      <td>NaN</td>\n",
       "      <td>NaN</td>\n",
       "      <td>NaN</td>\n",
       "      <td>NaN</td>\n",
       "      <td>NaN</td>\n",
       "      <td>NaN</td>\n",
       "      <td>NaN</td>\n",
       "      <td>NaN</td>\n",
       "      <td>NaN</td>\n",
       "      <td>NaN</td>\n",
       "      <td>NaN</td>\n",
       "      <td>66.000000</td>\n",
       "      <td>-1.000000</td>\n",
       "      <td>NaN</td>\n",
       "      <td>NaN</td>\n",
       "      <td>NaN</td>\n",
       "      <td>NaN</td>\n",
       "      <td>NaN</td>\n",
       "      <td>NaN</td>\n",
       "      <td>NaN</td>\n",
       "      <td>NaN</td>\n",
       "      <td>NaN</td>\n",
       "      <td>NaN</td>\n",
       "      <td>NaN</td>\n",
       "      <td>NaN</td>\n",
       "    </tr>\n",
       "    <tr>\n",
       "      <th>50%</th>\n",
       "      <td>30.000000</td>\n",
       "      <td>NaN</td>\n",
       "      <td>NaN</td>\n",
       "      <td>NaN</td>\n",
       "      <td>NaN</td>\n",
       "      <td>NaN</td>\n",
       "      <td>NaN</td>\n",
       "      <td>NaN</td>\n",
       "      <td>NaN</td>\n",
       "      <td>NaN</td>\n",
       "      <td>NaN</td>\n",
       "      <td>NaN</td>\n",
       "      <td>NaN</td>\n",
       "      <td>NaN</td>\n",
       "      <td>NaN</td>\n",
       "      <td>NaN</td>\n",
       "      <td>NaN</td>\n",
       "      <td>68.000000</td>\n",
       "      <td>-1.000000</td>\n",
       "      <td>NaN</td>\n",
       "      <td>NaN</td>\n",
       "      <td>NaN</td>\n",
       "      <td>NaN</td>\n",
       "      <td>NaN</td>\n",
       "      <td>NaN</td>\n",
       "      <td>NaN</td>\n",
       "      <td>NaN</td>\n",
       "      <td>NaN</td>\n",
       "      <td>NaN</td>\n",
       "      <td>NaN</td>\n",
       "      <td>NaN</td>\n",
       "    </tr>\n",
       "    <tr>\n",
       "      <th>75%</th>\n",
       "      <td>37.000000</td>\n",
       "      <td>NaN</td>\n",
       "      <td>NaN</td>\n",
       "      <td>NaN</td>\n",
       "      <td>NaN</td>\n",
       "      <td>NaN</td>\n",
       "      <td>NaN</td>\n",
       "      <td>NaN</td>\n",
       "      <td>NaN</td>\n",
       "      <td>NaN</td>\n",
       "      <td>NaN</td>\n",
       "      <td>NaN</td>\n",
       "      <td>NaN</td>\n",
       "      <td>NaN</td>\n",
       "      <td>NaN</td>\n",
       "      <td>NaN</td>\n",
       "      <td>NaN</td>\n",
       "      <td>71.000000</td>\n",
       "      <td>-1.000000</td>\n",
       "      <td>NaN</td>\n",
       "      <td>NaN</td>\n",
       "      <td>NaN</td>\n",
       "      <td>NaN</td>\n",
       "      <td>NaN</td>\n",
       "      <td>NaN</td>\n",
       "      <td>NaN</td>\n",
       "      <td>NaN</td>\n",
       "      <td>NaN</td>\n",
       "      <td>NaN</td>\n",
       "      <td>NaN</td>\n",
       "      <td>NaN</td>\n",
       "    </tr>\n",
       "    <tr>\n",
       "      <th>max</th>\n",
       "      <td>110.000000</td>\n",
       "      <td>NaN</td>\n",
       "      <td>NaN</td>\n",
       "      <td>NaN</td>\n",
       "      <td>NaN</td>\n",
       "      <td>NaN</td>\n",
       "      <td>NaN</td>\n",
       "      <td>NaN</td>\n",
       "      <td>NaN</td>\n",
       "      <td>NaN</td>\n",
       "      <td>NaN</td>\n",
       "      <td>NaN</td>\n",
       "      <td>NaN</td>\n",
       "      <td>NaN</td>\n",
       "      <td>NaN</td>\n",
       "      <td>NaN</td>\n",
       "      <td>NaN</td>\n",
       "      <td>95.000000</td>\n",
       "      <td>1000000.000000</td>\n",
       "      <td>NaN</td>\n",
       "      <td>NaN</td>\n",
       "      <td>NaN</td>\n",
       "      <td>NaN</td>\n",
       "      <td>NaN</td>\n",
       "      <td>NaN</td>\n",
       "      <td>NaN</td>\n",
       "      <td>NaN</td>\n",
       "      <td>NaN</td>\n",
       "      <td>NaN</td>\n",
       "      <td>NaN</td>\n",
       "      <td>NaN</td>\n",
       "    </tr>\n",
       "  </tbody>\n",
       "</table>\n",
       "</div>"
      ],
      "text/plain": [
       "                 age body_type             diet    drinks  drugs  \\\n",
       "count   47956.000000     43759            28473     45606  36792   \n",
       "unique           NaN        12               18         6      3   \n",
       "top              NaN   average  mostly anything  socially  never   \n",
       "freq             NaN     11808            13289     33512  30259   \n",
       "mean       32.312620       NaN              NaN       NaN    NaN   \n",
       "std         9.441476       NaN              NaN       NaN    NaN   \n",
       "min        18.000000       NaN              NaN       NaN    NaN   \n",
       "25%        26.000000       NaN              NaN       NaN    NaN   \n",
       "50%        30.000000       NaN              NaN       NaN    NaN   \n",
       "75%        37.000000       NaN              NaN       NaN    NaN   \n",
       "max       110.000000       NaN              NaN       NaN    NaN   \n",
       "\n",
       "                                education essay0        essay1     essay2  \\\n",
       "count                               42670  43581         41905      40245   \n",
       "unique                                 32  43507         41249      39021   \n",
       "top     graduated from college/university      .  enjoying it.  listening   \n",
       "freq                                19098      9            48         64   \n",
       "mean                                  NaN    NaN           NaN        NaN   \n",
       "std                                   NaN    NaN           NaN        NaN   \n",
       "min                                   NaN    NaN           NaN        NaN   \n",
       "25%                                   NaN    NaN           NaN        NaN   \n",
       "50%                                   NaN    NaN           NaN        NaN   \n",
       "75%                                   NaN    NaN           NaN        NaN   \n",
       "max                                   NaN    NaN           NaN        NaN   \n",
       "\n",
       "          essay3  essay4     essay5     essay6            essay7 essay8  \\\n",
       "count      38773   39515      39228      36949             37979  32618   \n",
       "unique     34974   39400      39145      35038             36542  31624   \n",
       "top     my smile  ask me  my family  my future  out with friends    ...   \n",
       "freq         422      12          5        125                70     33   \n",
       "mean         NaN     NaN        NaN        NaN               NaN    NaN   \n",
       "std          NaN     NaN        NaN        NaN               NaN    NaN   \n",
       "min          NaN     NaN        NaN        NaN               NaN    NaN   \n",
       "25%          NaN     NaN        NaN        NaN               NaN    NaN   \n",
       "50%          NaN     NaN        NaN        NaN               NaN    NaN   \n",
       "75%          NaN     NaN        NaN        NaN               NaN    NaN   \n",
       "max          NaN     NaN        NaN        NaN               NaN    NaN   \n",
       "\n",
       "              essay9 ethnicity        height          income    job  \\\n",
       "count          37862     43404  47954.000000    47956.000000  41449   \n",
       "unique         36435       202           NaN             NaN     21   \n",
       "top     you want to.     white           NaN             NaN  other   \n",
       "freq             166     26253           NaN             NaN   6151   \n",
       "mean             NaN       NaN     68.300851    19972.083514    NaN   \n",
       "std              NaN       NaN      3.989875    97116.503905    NaN   \n",
       "min              NaN       NaN      3.000000       -1.000000    NaN   \n",
       "25%              NaN       NaN     66.000000       -1.000000    NaN   \n",
       "50%              NaN       NaN     68.000000       -1.000000    NaN   \n",
       "75%              NaN       NaN     71.000000       -1.000000    NaN   \n",
       "max              NaN       NaN     95.000000  1000000.000000    NaN   \n",
       "\n",
       "             last_online                   location                offspring  \\\n",
       "count              47956                      47956                    19514   \n",
       "unique             25569                        174                       15   \n",
       "top     2012-06-29-22-56  san francisco, california  doesn&rsquo;t have kids   \n",
       "freq                  21                      24873                     6011   \n",
       "mean                 NaN                        NaN                      NaN   \n",
       "std                  NaN                        NaN                      NaN   \n",
       "min                  NaN                        NaN                      NaN   \n",
       "25%                  NaN                        NaN                      NaN   \n",
       "50%                  NaN                        NaN                      NaN   \n",
       "75%                  NaN                        NaN                      NaN   \n",
       "max                  NaN                        NaN                      NaN   \n",
       "\n",
       "       orientation                       pets     religion    sex  \\\n",
       "count        47956                      32050        31817  47956   \n",
       "unique           3                         15           45      2   \n",
       "top       straight  likes dogs and likes cats  agnosticism      m   \n",
       "freq         41358                      11823         2195  28755   \n",
       "mean           NaN                        NaN          NaN    NaN   \n",
       "std            NaN                        NaN          NaN    NaN   \n",
       "min            NaN                        NaN          NaN    NaN   \n",
       "25%            NaN                        NaN          NaN    NaN   \n",
       "50%            NaN                        NaN          NaN    NaN   \n",
       "75%            NaN                        NaN          NaN    NaN   \n",
       "max            NaN                        NaN          NaN    NaN   \n",
       "\n",
       "                                             sign smokes   speaks  status  \n",
       "count                                       39125  43558    47912   47956  \n",
       "unique                                         48      5     6397       5  \n",
       "top     scorpio and it&rsquo;s fun to think about     no  english  single  \n",
       "freq                                         1425  35071    17437   44585  \n",
       "mean                                          NaN    NaN      NaN     NaN  \n",
       "std                                           NaN    NaN      NaN     NaN  \n",
       "min                                           NaN    NaN      NaN     NaN  \n",
       "25%                                           NaN    NaN      NaN     NaN  \n",
       "50%                                           NaN    NaN      NaN     NaN  \n",
       "75%                                           NaN    NaN      NaN     NaN  \n",
       "max                                           NaN    NaN      NaN     NaN  "
      ]
     },
     "execution_count": 7,
     "metadata": {},
     "output_type": "execute_result"
    }
   ],
   "source": [
    "data_train.describe(include=\"all\")"
   ]
  },
  {
   "cell_type": "markdown",
   "metadata": {},
   "source": [
    "## Snazime sa zistit nejaku korelaciu medzi muzma a zenami pomocou veku"
   ]
  },
  {
   "cell_type": "code",
   "execution_count": 8,
   "metadata": {},
   "outputs": [
    {
     "data": {
      "text/html": [
       "<div>\n",
       "<style scoped>\n",
       "    .dataframe tbody tr th:only-of-type {\n",
       "        vertical-align: middle;\n",
       "    }\n",
       "\n",
       "    .dataframe tbody tr th {\n",
       "        vertical-align: top;\n",
       "    }\n",
       "\n",
       "    .dataframe thead th {\n",
       "        text-align: right;\n",
       "    }\n",
       "</style>\n",
       "<table border=\"1\" class=\"dataframe\">\n",
       "  <thead>\n",
       "    <tr style=\"text-align: right;\">\n",
       "      <th>age</th>\n",
       "      <th>18</th>\n",
       "      <th>19</th>\n",
       "      <th>20</th>\n",
       "      <th>21</th>\n",
       "      <th>22</th>\n",
       "      <th>23</th>\n",
       "      <th>24</th>\n",
       "      <th>25</th>\n",
       "      <th>26</th>\n",
       "      <th>27</th>\n",
       "      <th>28</th>\n",
       "      <th>29</th>\n",
       "      <th>30</th>\n",
       "      <th>31</th>\n",
       "      <th>32</th>\n",
       "      <th>33</th>\n",
       "      <th>34</th>\n",
       "      <th>35</th>\n",
       "      <th>36</th>\n",
       "      <th>37</th>\n",
       "      <th>38</th>\n",
       "      <th>39</th>\n",
       "      <th>40</th>\n",
       "      <th>41</th>\n",
       "      <th>42</th>\n",
       "      <th>43</th>\n",
       "      <th>44</th>\n",
       "      <th>45</th>\n",
       "      <th>46</th>\n",
       "      <th>47</th>\n",
       "      <th>48</th>\n",
       "      <th>49</th>\n",
       "      <th>50</th>\n",
       "      <th>51</th>\n",
       "      <th>52</th>\n",
       "      <th>53</th>\n",
       "      <th>54</th>\n",
       "      <th>55</th>\n",
       "      <th>56</th>\n",
       "      <th>57</th>\n",
       "      <th>58</th>\n",
       "      <th>59</th>\n",
       "      <th>60</th>\n",
       "      <th>61</th>\n",
       "      <th>62</th>\n",
       "      <th>63</th>\n",
       "      <th>64</th>\n",
       "      <th>65</th>\n",
       "      <th>66</th>\n",
       "      <th>67</th>\n",
       "      <th>68</th>\n",
       "      <th>69</th>\n",
       "      <th>109</th>\n",
       "      <th>110</th>\n",
       "    </tr>\n",
       "    <tr>\n",
       "      <th>sex</th>\n",
       "      <th></th>\n",
       "      <th></th>\n",
       "      <th></th>\n",
       "      <th></th>\n",
       "      <th></th>\n",
       "      <th></th>\n",
       "      <th></th>\n",
       "      <th></th>\n",
       "      <th></th>\n",
       "      <th></th>\n",
       "      <th></th>\n",
       "      <th></th>\n",
       "      <th></th>\n",
       "      <th></th>\n",
       "      <th></th>\n",
       "      <th></th>\n",
       "      <th></th>\n",
       "      <th></th>\n",
       "      <th></th>\n",
       "      <th></th>\n",
       "      <th></th>\n",
       "      <th></th>\n",
       "      <th></th>\n",
       "      <th></th>\n",
       "      <th></th>\n",
       "      <th></th>\n",
       "      <th></th>\n",
       "      <th></th>\n",
       "      <th></th>\n",
       "      <th></th>\n",
       "      <th></th>\n",
       "      <th></th>\n",
       "      <th></th>\n",
       "      <th></th>\n",
       "      <th></th>\n",
       "      <th></th>\n",
       "      <th></th>\n",
       "      <th></th>\n",
       "      <th></th>\n",
       "      <th></th>\n",
       "      <th></th>\n",
       "      <th></th>\n",
       "      <th></th>\n",
       "      <th></th>\n",
       "      <th></th>\n",
       "      <th></th>\n",
       "      <th></th>\n",
       "      <th></th>\n",
       "      <th></th>\n",
       "      <th></th>\n",
       "      <th></th>\n",
       "      <th></th>\n",
       "      <th></th>\n",
       "      <th></th>\n",
       "    </tr>\n",
       "  </thead>\n",
       "  <tbody>\n",
       "    <tr>\n",
       "      <th>f</th>\n",
       "      <td>129</td>\n",
       "      <td>221</td>\n",
       "      <td>318</td>\n",
       "      <td>456</td>\n",
       "      <td>661</td>\n",
       "      <td>838</td>\n",
       "      <td>979</td>\n",
       "      <td>1101</td>\n",
       "      <td>1087</td>\n",
       "      <td>1085</td>\n",
       "      <td>1074</td>\n",
       "      <td>1014</td>\n",
       "      <td>923</td>\n",
       "      <td>833</td>\n",
       "      <td>851</td>\n",
       "      <td>689</td>\n",
       "      <td>608</td>\n",
       "      <td>583</td>\n",
       "      <td>535</td>\n",
       "      <td>459</td>\n",
       "      <td>411</td>\n",
       "      <td>366</td>\n",
       "      <td>318</td>\n",
       "      <td>296</td>\n",
       "      <td>382</td>\n",
       "      <td>291</td>\n",
       "      <td>227</td>\n",
       "      <td>209</td>\n",
       "      <td>186</td>\n",
       "      <td>178</td>\n",
       "      <td>144</td>\n",
       "      <td>158</td>\n",
       "      <td>158</td>\n",
       "      <td>120</td>\n",
       "      <td>133</td>\n",
       "      <td>100</td>\n",
       "      <td>81</td>\n",
       "      <td>112</td>\n",
       "      <td>107</td>\n",
       "      <td>100</td>\n",
       "      <td>81</td>\n",
       "      <td>91</td>\n",
       "      <td>84</td>\n",
       "      <td>71</td>\n",
       "      <td>74</td>\n",
       "      <td>58</td>\n",
       "      <td>53</td>\n",
       "      <td>54</td>\n",
       "      <td>51</td>\n",
       "      <td>30</td>\n",
       "      <td>22</td>\n",
       "      <td>10</td>\n",
       "      <td>0</td>\n",
       "      <td>1</td>\n",
       "    </tr>\n",
       "    <tr>\n",
       "      <th>m</th>\n",
       "      <td>121</td>\n",
       "      <td>272</td>\n",
       "      <td>451</td>\n",
       "      <td>567</td>\n",
       "      <td>909</td>\n",
       "      <td>1234</td>\n",
       "      <td>1595</td>\n",
       "      <td>1718</td>\n",
       "      <td>1919</td>\n",
       "      <td>1887</td>\n",
       "      <td>1817</td>\n",
       "      <td>1646</td>\n",
       "      <td>1559</td>\n",
       "      <td>1376</td>\n",
       "      <td>1207</td>\n",
       "      <td>1074</td>\n",
       "      <td>905</td>\n",
       "      <td>794</td>\n",
       "      <td>727</td>\n",
       "      <td>700</td>\n",
       "      <td>638</td>\n",
       "      <td>549</td>\n",
       "      <td>499</td>\n",
       "      <td>480</td>\n",
       "      <td>475</td>\n",
       "      <td>408</td>\n",
       "      <td>338</td>\n",
       "      <td>306</td>\n",
       "      <td>284</td>\n",
       "      <td>249</td>\n",
       "      <td>241</td>\n",
       "      <td>207</td>\n",
       "      <td>188</td>\n",
       "      <td>163</td>\n",
       "      <td>143</td>\n",
       "      <td>99</td>\n",
       "      <td>129</td>\n",
       "      <td>100</td>\n",
       "      <td>102</td>\n",
       "      <td>110</td>\n",
       "      <td>78</td>\n",
       "      <td>86</td>\n",
       "      <td>75</td>\n",
       "      <td>57</td>\n",
       "      <td>61</td>\n",
       "      <td>48</td>\n",
       "      <td>39</td>\n",
       "      <td>36</td>\n",
       "      <td>28</td>\n",
       "      <td>20</td>\n",
       "      <td>24</td>\n",
       "      <td>16</td>\n",
       "      <td>1</td>\n",
       "      <td>0</td>\n",
       "    </tr>\n",
       "  </tbody>\n",
       "</table>\n",
       "</div>"
      ],
      "text/plain": [
       "age  18   19   20   21   22    23    24    25    26    27    28    29    30   \\\n",
       "sex                                                                            \n",
       "f    129  221  318  456  661   838   979  1101  1087  1085  1074  1014   923   \n",
       "m    121  272  451  567  909  1234  1595  1718  1919  1887  1817  1646  1559   \n",
       "\n",
       "age   31    32    33   34   35   36   37   38   39   40   41   42   43   44   \\\n",
       "sex                                                                            \n",
       "f     833   851   689  608  583  535  459  411  366  318  296  382  291  227   \n",
       "m    1376  1207  1074  905  794  727  700  638  549  499  480  475  408  338   \n",
       "\n",
       "age  45   46   47   48   49   50   51   52   53   54   55   56   57   58   \\\n",
       "sex                                                                         \n",
       "f    209  186  178  144  158  158  120  133  100   81  112  107  100   81   \n",
       "m    306  284  249  241  207  188  163  143   99  129  100  102  110   78   \n",
       "\n",
       "age  59   60   61   62   63   64   65   66   67   68   69   109  110  \n",
       "sex                                                                   \n",
       "f     91   84   71   74   58   53   54   51   30   22   10    0    1  \n",
       "m     86   75   57   61   48   39   36   28   20   24   16    1    0  "
      ]
     },
     "execution_count": 8,
     "metadata": {},
     "output_type": "execute_result"
    }
   ],
   "source": [
    "pd.crosstab(data_train['sex'], data_train['age'])"
   ]
  },
  {
   "cell_type": "markdown",
   "metadata": {},
   "source": [
    "Vidime ze jeden muz a jedna zena si nastavili vek na 110 resp. 109 rokov. Co je nepravdepodobne a budeme musiet tieto hodnoty vynahradit"
   ]
  },
  {
   "cell_type": "code",
   "execution_count": 9,
   "metadata": {},
   "outputs": [
    {
     "name": "stdout",
     "output_type": "stream",
     "text": [
      "Priemerny vek muzov\n",
      "31.975760737263084\n"
     ]
    }
   ],
   "source": [
    "# Vypiseme si priemerny vek muzov\n",
    "\n",
    "print(\"Priemerny vek muzov\")\n",
    "print(data_train[data_train['sex'] == 'm']['age'].mean())"
   ]
  },
  {
   "cell_type": "code",
   "execution_count": 10,
   "metadata": {},
   "outputs": [
    {
     "name": "stdout",
     "output_type": "stream",
     "text": [
      "Priemerny vek zien\n",
      "32.817092859746886\n"
     ]
    }
   ],
   "source": [
    "# Vypiseme si priemerny vek zien\n",
    "\n",
    "print(\"Priemerny vek zien\")\n",
    "print(data_train[data_train['sex'] == 'f']['age'].mean())"
   ]
  },
  {
   "cell_type": "code",
   "execution_count": 11,
   "metadata": {
    "scrolled": true
   },
   "outputs": [
    {
     "data": {
      "text/plain": [
       "<matplotlib.axes._subplots.AxesSubplot at 0x1a16ad6860>"
      ]
     },
     "execution_count": 11,
     "metadata": {},
     "output_type": "execute_result"
    },
    {
     "data": {
      "image/png": "[encoded data removed]",
      "text/plain": [
       "<Figure size 432x288 with 1 Axes>"
      ]
     },
     "metadata": {
      "needs_background": "light"
     },
     "output_type": "display_data"
    }
   ],
   "source": [
    "sns.boxplot(x=\"sex\", y=\"age\", data=data_train)"
   ]
  },
  {
   "cell_type": "markdown",
   "metadata": {},
   "source": [
    "Vidime ze vekovy priemer je takmer rovnaky pre muzov a zeny, takze tento atribut nam v klasifikacie asi nepomoze."
   ]
  },
  {
   "cell_type": "markdown",
   "metadata": {},
   "source": [
    "# Rozdelenie muzov a zien podla pohlavia\n"
   ]
  },
  {
   "cell_type": "code",
   "execution_count": 12,
   "metadata": {
    "scrolled": false
   },
   "outputs": [
    {
     "data": {
      "image/png": "[encoded data removed]",
      "text/plain": [
       "<Figure size 432x288 with 1 Axes>"
      ]
     },
     "metadata": {},
     "output_type": "display_data"
    }
   ],
   "source": [
    "labels = 'Male', 'Female'\n",
    "sizes = [len(data_train[data_train['sex']=='m'].dropna()), len(data_train[data_train['sex']=='f'].dropna())]\n",
    "\n",
    "fig1, ax1 = plt.subplots()\n",
    "ax1.pie(sizes, labels=labels, autopct='%1.1f%%', shadow=True, startangle=90)\n",
    "ax1.axis('equal')\n",
    "\n",
    "plt.show()"
   ]
  },
  {
   "cell_type": "markdown",
   "metadata": {},
   "source": [
    "Transformujeme vysku z inch do cm aby sa nam prehladnejsie s nou pracovalo"
   ]
  },
  {
   "cell_type": "code",
   "execution_count": 13,
   "metadata": {},
   "outputs": [],
   "source": [
    "data_train['height'] = data_train['height'].map(lambda x: x * 2.54)"
   ]
  },
  {
   "cell_type": "markdown",
   "metadata": {},
   "source": [
    "Vypis priemernej vysky celeho datasetu a nasledne priemernu vysku zien a muzov"
   ]
  },
  {
   "cell_type": "code",
   "execution_count": 14,
   "metadata": {},
   "outputs": [
    {
     "data": {
      "text/plain": [
       "173.48416107093243"
      ]
     },
     "execution_count": 14,
     "metadata": {},
     "output_type": "execute_result"
    }
   ],
   "source": [
    "data_train.height.dropna().mean()"
   ]
  },
  {
   "cell_type": "markdown",
   "metadata": {},
   "source": [
    "### Priemerna vyska muzov"
   ]
  },
  {
   "cell_type": "code",
   "execution_count": 15,
   "metadata": {},
   "outputs": [
    {
     "data": {
      "text/plain": [
       "178.8978722219737"
      ]
     },
     "execution_count": 15,
     "metadata": {},
     "output_type": "execute_result"
    }
   ],
   "source": [
    "data_train[data_train['sex']=='m'].height.dropna().mean()"
   ]
  },
  {
   "cell_type": "markdown",
   "metadata": {},
   "source": [
    "### Priemerna vyska zien"
   ]
  },
  {
   "cell_type": "code",
   "execution_count": 16,
   "metadata": {},
   "outputs": [
    {
     "data": {
      "text/plain": [
       "165.37726889226036"
      ]
     },
     "execution_count": 16,
     "metadata": {},
     "output_type": "execute_result"
    }
   ],
   "source": [
    "data_train[data_train['sex']=='f'].height.dropna().mean()"
   ]
  },
  {
   "cell_type": "markdown",
   "metadata": {},
   "source": [
    "# Vizualizacia distribucie vysky podla pohlavia"
   ]
  },
  {
   "cell_type": "code",
   "execution_count": 17,
   "metadata": {
    "scrolled": false
   },
   "outputs": [
    {
     "name": "stderr",
     "output_type": "stream",
     "text": [
      "/Users/edvin/anaconda3/lib/python3.6/site-packages/scipy/stats/stats.py:1713: FutureWarning: Using a non-tuple sequence for multidimensional indexing is deprecated; use `arr[tuple(seq)]` instead of `arr[seq]`. In the future this will be interpreted as an array index, `arr[np.array(seq)]`, which will result either in an error or a different result.\n",
      "  return np.add.reduce(sorted[indexer] * weights, axis=axis) / sumval\n"
     ]
    },
    {
     "data": {
      "text/plain": [
       "<matplotlib.axes._subplots.AxesSubplot at 0x1a16acb9e8>"
      ]
     },
     "execution_count": 17,
     "metadata": {},
     "output_type": "execute_result"
    },
    {
     "data": {
      "image/png": "[encoded data removed]",
      "text/plain": [
       "<Figure size 432x288 with 1 Axes>"
      ]
     },
     "metadata": {
      "needs_background": "light"
     },
     "output_type": "display_data"
    }
   ],
   "source": [
    "sns.distplot(data_train[data_train['sex']=='f'].dropna().height)\n",
    "sns.distplot(data_train[data_train['sex']=='m'].dropna().height)"
   ]
  },
  {
   "cell_type": "code",
   "execution_count": 18,
   "metadata": {},
   "outputs": [
    {
     "data": {
      "text/plain": [
       "<matplotlib.axes._subplots.AxesSubplot at 0x1a16aaa828>"
      ]
     },
     "execution_count": 18,
     "metadata": {},
     "output_type": "execute_result"
    },
    {
     "data": {
      "image/png": "[encoded data removed]",
      "text/plain": [
       "<Figure size 432x288 with 1 Axes>"
      ]
     },
     "metadata": {
      "needs_background": "light"
     },
     "output_type": "display_data"
    }
   ],
   "source": [
    "sns.boxplot(x=\"sex\", y=\"height\", data=data_train, order=[\"m\", \"f\"])"
   ]
  },
  {
   "cell_type": "code",
   "execution_count": 19,
   "metadata": {},
   "outputs": [
    {
     "name": "stdout",
     "output_type": "stream",
     "text": [
      "Min value=7.62\n"
     ]
    }
   ],
   "source": [
    "print(\"Min value=\" + str(min(data_train['height'])))"
   ]
  },
  {
   "cell_type": "markdown",
   "metadata": {},
   "source": [
    "Zobrazenie najmensej hodnote pre vysku z datasetu. Vidime ze 7.62 cm vyska je pravdepodobne nepravdiva u ziadneho cloveka, takze budeme ju potrebovat upravit"
   ]
  },
  {
   "cell_type": "code",
   "execution_count": 20,
   "metadata": {},
   "outputs": [
    {
     "name": "stdout",
     "output_type": "stream",
     "text": [
      "Max value=241.3\n"
     ]
    }
   ],
   "source": [
    "print(\"Max value=\" + str(max(data_train['height'])))"
   ]
  },
  {
   "cell_type": "markdown",
   "metadata": {},
   "source": [
    "Podobne pri zobrazeni najvacsej hodnote, ktora v nasom pripade je 241, co moze byt pravdive, ale skor asi nie."
   ]
  },
  {
   "cell_type": "code",
   "execution_count": 21,
   "metadata": {},
   "outputs": [
    {
     "name": "stdout",
     "output_type": "stream",
     "text": [
      "22\n"
     ]
    }
   ],
   "source": [
    "print(len(data_train[data_train['height'] > 230]['height']))"
   ]
  },
  {
   "cell_type": "markdown",
   "metadata": {},
   "source": [
    "Vidime ze 22 ludia mali vysku vacsiu ako 230 cm"
   ]
  },
  {
   "cell_type": "markdown",
   "metadata": {},
   "source": [
    "# Atribut 'diet'"
   ]
  },
  {
   "cell_type": "code",
   "execution_count": 22,
   "metadata": {
    "scrolled": false
   },
   "outputs": [
    {
     "data": {
      "image/png": "[encoded data removed]",
      "text/plain": [
       "<Figure size 1008x504 with 1 Axes>"
      ]
     },
     "metadata": {
      "needs_background": "light"
     },
     "output_type": "display_data"
    }
   ],
   "source": [
    "diet = data_train.groupby('sex')['diet'].value_counts(normalize=True).rename('perc').mul(100).reset_index()\n",
    "\n",
    "plt.figure(figsize=(14,7))\n",
    "education_graph = sns.barplot(x=\"diet\", y=\"perc\", hue=\"sex\", data=diet)\n",
    "plt.xticks(rotation=45)\n",
    "plt.show()"
   ]
  },
  {
   "cell_type": "markdown",
   "metadata": {},
   "source": [
    "Z tohto grafu mozeme vidiet ze vo vseobecnosti zeny boli viac na jedla vegetarianskeho alebo veganskeho typu, pokial muzi si zvolili hociake ine jedla\n",
    "\n",
    "\n"
   ]
  },
  {
   "cell_type": "markdown",
   "metadata": {},
   "source": [
    "# Atribut 'religion'"
   ]
  },
  {
   "cell_type": "code",
   "execution_count": 24,
   "metadata": {},
   "outputs": [
    {
     "data": {
      "text/plain": [
       "agnosticism                                   2195\n",
       "other                                         2173\n",
       "agnosticism but not too serious about it      2123\n",
       "agnosticism and laughing about it             2070\n",
       "catholicism but not too serious about it      1856\n",
       "atheism                                       1729\n",
       "other and laughing about it                   1686\n",
       "atheism and laughing about it                 1648\n",
       "christianity                                  1578\n",
       "christianity but not too serious about it     1556\n",
       "other but not too serious about it            1238\n",
       "judaism but not too serious about it          1226\n",
       "atheism but not too serious about it          1051\n",
       "catholicism                                    852\n",
       "christianity and somewhat serious about it     740\n",
       "other and somewhat serious about it            665\n",
       "atheism and somewhat serious about it          661\n",
       "catholicism and laughing about it              572\n",
       "judaism and laughing about it                  535\n",
       "buddhism but not too serious about it          512\n",
       "agnosticism and somewhat serious about it      511\n",
       "christianity and very serious about it         492\n",
       "judaism                                        475\n",
       "atheism and very serious about it              467\n",
       "other and very serious about it                426\n",
       "catholicism and somewhat serious about it      423\n",
       "buddhism and laughing about it                 377\n",
       "buddhism                                       315\n",
       "christianity and laughing about it             304\n",
       "buddhism and somewhat serious about it         286\n",
       "agnosticism and very serious about it          246\n",
       "judaism and somewhat serious about it          217\n",
       "hinduism but not too serious about it          179\n",
       "hinduism                                        89\n",
       "catholicism and very serious about it           79\n",
       "buddhism and very serious about it              53\n",
       "islam                                           43\n",
       "hinduism and somewhat serious about it          41\n",
       "hinduism and laughing about it                  35\n",
       "islam but not too serious about it              29\n",
       "islam and somewhat serious about it             17\n",
       "judaism and very serious about it               13\n",
       "islam and laughing about it                     12\n",
       "hinduism and very serious about it              11\n",
       "islam and very serious about it                 11\n",
       "Name: religion, dtype: int64"
      ]
     },
     "execution_count": 24,
     "metadata": {},
     "output_type": "execute_result"
    }
   ],
   "source": [
    "data_train['religion'].value_counts()"
   ]
  },
  {
   "cell_type": "markdown",
   "metadata": {},
   "source": [
    "Vyskytuju sa vela hodnot nabozenstiev, ale podme sa pozriet na tieto rozdelenia podla pohlavia."
   ]
  },
  {
   "cell_type": "code",
   "execution_count": 8,
   "metadata": {},
   "outputs": [
    {
     "data": {
      "image/png": "[encoded data removed]",
      "text/plain": [
       "<Figure size 1008x504 with 1 Axes>"
      ]
     },
     "metadata": {
      "needs_background": "light"
     },
     "output_type": "display_data"
    }
   ],
   "source": [
    "religion = data_train.groupby('sex')['religion'].value_counts(normalize=True).rename('perc').mul(100).reset_index()\n",
    "\n",
    "plt.figure(figsize=(14,7))\n",
    "religion_graph = sns.barplot(x=\"religion\", y=\"perc\", hue=\"sex\", data=religion)\n",
    "plt.xticks(rotation=90)\n",
    "plt.show()"
   ]
  },
  {
   "cell_type": "markdown",
   "metadata": {},
   "source": [
    "Z tohto grafu nam vypliva ze vo vseobecnosti muzi neberu na vazno religiu, kym zenam viac-menej zalezi na nej."
   ]
  },
  {
   "cell_type": "markdown",
   "metadata": {},
   "source": [
    "# Atribut 'offspring'"
   ]
  },
  {
   "cell_type": "code",
   "execution_count": 25,
   "metadata": {},
   "outputs": [
    {
     "data": {
      "text/plain": [
       "count                       19514\n",
       "unique                         15\n",
       "top       doesn&rsquo;t have kids\n",
       "freq                         6011\n",
       "Name: offspring, dtype: object"
      ]
     },
     "execution_count": 25,
     "metadata": {},
     "output_type": "execute_result"
    }
   ],
   "source": [
    "data_train['offspring'].describe()"
   ]
  },
  {
   "cell_type": "code",
   "execution_count": 26,
   "metadata": {},
   "outputs": [
    {
     "data": {
      "text/plain": [
       "doesn&rsquo;t have kids                                6011\n",
       "doesn&rsquo;t have kids, but might want them           3120\n",
       "doesn&rsquo;t have kids, but wants them                2839\n",
       "doesn&rsquo;t want kids                                2347\n",
       "has a kid                                              1526\n",
       "has kids                                               1518\n",
       "doesn&rsquo;t have kids, and doesn&rsquo;t want any     920\n",
       "has kids, but doesn&rsquo;t want more                   351\n",
       "has a kid, but doesn&rsquo;t want more                  216\n",
       "has a kid, and might want more                          190\n",
       "wants kids                                              177\n",
       "might want kids                                         143\n",
       "has kids, and might want more                            85\n",
       "has a kid, and wants more                                57\n",
       "has kids, and wants more                                 14\n",
       "Name: offspring, dtype: int64"
      ]
     },
     "execution_count": 26,
     "metadata": {},
     "output_type": "execute_result"
    }
   ],
   "source": [
    "data_train['offspring'].value_counts()"
   ]
  },
  {
   "cell_type": "code",
   "execution_count": 9,
   "metadata": {},
   "outputs": [
    {
     "data": {
      "image/png": "[encoded data removed]",
      "text/plain": [
       "<Figure size 1008x504 with 1 Axes>"
      ]
     },
     "metadata": {
      "needs_background": "light"
     },
     "output_type": "display_data"
    }
   ],
   "source": [
    "job = data_train.groupby('sex')['offspring'].value_counts(normalize=True).rename('perc').mul(100).reset_index()\n",
    "\n",
    "plt.figure(figsize=(14,7))\n",
    "education_graph = sns.barplot(x=\"offspring\", y=\"perc\", hue=\"sex\", data=job)\n",
    "plt.xticks(rotation=90)\n",
    "plt.show()"
   ]
  },
  {
   "cell_type": "markdown",
   "metadata": {},
   "source": [
    "Z tejto vizualizacii nam vypliva ze viacero muzov nemaju deti a ani by nechceli mat"
   ]
  },
  {
   "cell_type": "markdown",
   "metadata": {},
   "source": [
    "# Atribut 'income'"
   ]
  },
  {
   "cell_type": "code",
   "execution_count": 28,
   "metadata": {},
   "outputs": [
    {
     "data": {
      "text/plain": [
       "-1          38763\n",
       " 20000       2355\n",
       " 100000      1310\n",
       " 80000        903\n",
       " 30000        841\n",
       " 40000        795\n",
       " 50000        772\n",
       " 60000        606\n",
       " 70000        547\n",
       " 150000       493\n",
       " 1000000      415\n",
       " 250000       119\n",
       " 500000        37\n",
       "Name: income, dtype: int64"
      ]
     },
     "execution_count": 28,
     "metadata": {},
     "output_type": "execute_result"
    }
   ],
   "source": [
    "data_train['income'].value_counts()"
   ]
  },
  {
   "cell_type": "markdown",
   "metadata": {},
   "source": [
    "Vidime ze vela ludi zakliklo hodnotu -1, cize asi si svoj plat nechceli povedat. Hodnotu -1 budeme musiet pretransformovat na NaN hodnoty v predspracovani."
   ]
  },
  {
   "cell_type": "code",
   "execution_count": 29,
   "metadata": {},
   "outputs": [
    {
     "data": {
      "image/png": "[encoded data removed]",
      "text/plain": [
       "<Figure size 1008x504 with 1 Axes>"
      ]
     },
     "metadata": {
      "needs_background": "light"
     },
     "output_type": "display_data"
    }
   ],
   "source": [
    "income = data_train.loc[data_train['income'] != -1,:].groupby('sex')['income'].value_counts(normalize=True).rename('perc').mul(100).reset_index()\n",
    "\n",
    "plt.figure(figsize=(14,7))\n",
    "education_graph = sns.barplot(x=\"income\", y=\"perc\", hue=\"sex\", data=income)\n",
    "plt.xticks(rotation=70)\n",
    "plt.show()"
   ]
  },
  {
   "cell_type": "markdown",
   "metadata": {},
   "source": [
    "Z nasledovneho plotu vidime ze vo vseobecnosti muzi zarabaju viac ako zeny."
   ]
  },
  {
   "cell_type": "code",
   "execution_count": 30,
   "metadata": {},
   "outputs": [
    {
     "data": {
      "text/html": [
       "<div>\n",
       "<style scoped>\n",
       "    .dataframe tbody tr th:only-of-type {\n",
       "        vertical-align: middle;\n",
       "    }\n",
       "\n",
       "    .dataframe tbody tr th {\n",
       "        vertical-align: top;\n",
       "    }\n",
       "\n",
       "    .dataframe thead th {\n",
       "        text-align: right;\n",
       "    }\n",
       "</style>\n",
       "<table border=\"1\" class=\"dataframe\">\n",
       "  <thead>\n",
       "    <tr style=\"text-align: right;\">\n",
       "      <th>job</th>\n",
       "      <th>artistic / musical / writer</th>\n",
       "      <th>banking / financial / real estate</th>\n",
       "      <th>clerical / administrative</th>\n",
       "      <th>computer / hardware / software</th>\n",
       "      <th>construction / craftsmanship</th>\n",
       "      <th>education / academia</th>\n",
       "      <th>entertainment / media</th>\n",
       "      <th>executive / management</th>\n",
       "      <th>hospitality / travel</th>\n",
       "      <th>law / legal services</th>\n",
       "      <th>medicine / health</th>\n",
       "      <th>military</th>\n",
       "      <th>other</th>\n",
       "      <th>political / government</th>\n",
       "      <th>rather not say</th>\n",
       "      <th>retired</th>\n",
       "      <th>sales / marketing / biz dev</th>\n",
       "      <th>science / tech / engineering</th>\n",
       "      <th>student</th>\n",
       "      <th>transportation</th>\n",
       "      <th>unemployed</th>\n",
       "    </tr>\n",
       "    <tr>\n",
       "      <th>sex</th>\n",
       "      <th></th>\n",
       "      <th></th>\n",
       "      <th></th>\n",
       "      <th></th>\n",
       "      <th></th>\n",
       "      <th></th>\n",
       "      <th></th>\n",
       "      <th></th>\n",
       "      <th></th>\n",
       "      <th></th>\n",
       "      <th></th>\n",
       "      <th></th>\n",
       "      <th></th>\n",
       "      <th></th>\n",
       "      <th></th>\n",
       "      <th></th>\n",
       "      <th></th>\n",
       "      <th></th>\n",
       "      <th></th>\n",
       "      <th></th>\n",
       "      <th></th>\n",
       "    </tr>\n",
       "  </thead>\n",
       "  <tbody>\n",
       "    <tr>\n",
       "      <th>f</th>\n",
       "      <td>110680.851064</td>\n",
       "      <td>92361.111111</td>\n",
       "      <td>47663.551402</td>\n",
       "      <td>90655.737705</td>\n",
       "      <td>50909.090909</td>\n",
       "      <td>72655.172414</td>\n",
       "      <td>77654.320988</td>\n",
       "      <td>103370.786517</td>\n",
       "      <td>95227.272727</td>\n",
       "      <td>102884.615385</td>\n",
       "      <td>95662.650602</td>\n",
       "      <td>272000.000000</td>\n",
       "      <td>63068.783069</td>\n",
       "      <td>102439.024390</td>\n",
       "      <td>171904.761905</td>\n",
       "      <td>143888.888889</td>\n",
       "      <td>77393.617021</td>\n",
       "      <td>89176.470588</td>\n",
       "      <td>56250.000000</td>\n",
       "      <td>172000.000000</td>\n",
       "      <td>120000.0</td>\n",
       "    </tr>\n",
       "    <tr>\n",
       "      <th>m</th>\n",
       "      <td>137253.886010</td>\n",
       "      <td>131441.860465</td>\n",
       "      <td>50169.491525</td>\n",
       "      <td>109977.246871</td>\n",
       "      <td>92165.354331</td>\n",
       "      <td>111122.448980</td>\n",
       "      <td>109293.286219</td>\n",
       "      <td>153477.011494</td>\n",
       "      <td>99587.628866</td>\n",
       "      <td>125447.154472</td>\n",
       "      <td>118339.483395</td>\n",
       "      <td>57466.666667</td>\n",
       "      <td>83577.142857</td>\n",
       "      <td>106355.932203</td>\n",
       "      <td>213137.254902</td>\n",
       "      <td>398500.000000</td>\n",
       "      <td>102554.027505</td>\n",
       "      <td>105757.142857</td>\n",
       "      <td>85578.358209</td>\n",
       "      <td>71359.223301</td>\n",
       "      <td>100200.0</td>\n",
       "    </tr>\n",
       "  </tbody>\n",
       "</table>\n",
       "</div>"
      ],
      "text/plain": [
       "job  artistic / musical / writer  banking / financial / real estate  \\\n",
       "sex                                                                   \n",
       "f                  110680.851064                       92361.111111   \n",
       "m                  137253.886010                      131441.860465   \n",
       "\n",
       "job  clerical / administrative  computer / hardware / software  \\\n",
       "sex                                                              \n",
       "f                 47663.551402                    90655.737705   \n",
       "m                 50169.491525                   109977.246871   \n",
       "\n",
       "job  construction / craftsmanship  education / academia  \\\n",
       "sex                                                       \n",
       "f                    50909.090909          72655.172414   \n",
       "m                    92165.354331         111122.448980   \n",
       "\n",
       "job  entertainment / media  executive / management  hospitality / travel  \\\n",
       "sex                                                                        \n",
       "f             77654.320988           103370.786517          95227.272727   \n",
       "m            109293.286219           153477.011494          99587.628866   \n",
       "\n",
       "job  law / legal services  medicine / health       military         other  \\\n",
       "sex                                                                         \n",
       "f           102884.615385       95662.650602  272000.000000  63068.783069   \n",
       "m           125447.154472      118339.483395   57466.666667  83577.142857   \n",
       "\n",
       "job  political / government  rather not say        retired  \\\n",
       "sex                                                          \n",
       "f             102439.024390   171904.761905  143888.888889   \n",
       "m             106355.932203   213137.254902  398500.000000   \n",
       "\n",
       "job  sales / marketing / biz dev  science / tech / engineering       student  \\\n",
       "sex                                                                            \n",
       "f                   77393.617021                  89176.470588  56250.000000   \n",
       "m                  102554.027505                 105757.142857  85578.358209   \n",
       "\n",
       "job  transportation  unemployed  \n",
       "sex                              \n",
       "f     172000.000000    120000.0  \n",
       "m      71359.223301    100200.0  "
      ]
     },
     "execution_count": 30,
     "metadata": {},
     "output_type": "execute_result"
    }
   ],
   "source": [
    "data_with_income = data_train[data_train['income'] != -1]\n",
    "\n",
    "data_with_income.groupby(['sex', 'job']).income.mean().unstack()"
   ]
  },
  {
   "cell_type": "markdown",
   "metadata": {},
   "source": [
    "# Atribut 'education'"
   ]
  },
  {
   "cell_type": "code",
   "execution_count": 31,
   "metadata": {},
   "outputs": [
    {
     "data": {
      "text/plain": [
       "array(['working on college/university',\n",
       "       'graduated from college/university',\n",
       "       'graduated from masters program', 'working on med school',\n",
       "       'graduated from law school', 'graduated from high school',\n",
       "       'working on masters program', nan,\n",
       "       'dropped out of college/university', 'working on high school',\n",
       "       'dropped out of med school', 'working on ph.d program',\n",
       "       'college/university', 'graduated from two-year college',\n",
       "       'working on two-year college', 'graduated from space camp',\n",
       "       'working on space camp', 'working on law school',\n",
       "       'dropped out of two-year college',\n",
       "       'dropped out of masters program', 'high school',\n",
       "       'graduated from ph.d program', 'masters program',\n",
       "       'dropped out of ph.d program', 'graduated from med school',\n",
       "       'dropped out of space camp', 'two-year college',\n",
       "       'dropped out of high school', 'dropped out of law school',\n",
       "       'med school', 'space camp', 'ph.d program', 'law school'],\n",
       "      dtype=object)"
      ]
     },
     "execution_count": 31,
     "metadata": {},
     "output_type": "execute_result"
    }
   ],
   "source": [
    "data_train['education'].unique()"
   ]
  },
  {
   "cell_type": "code",
   "execution_count": 32,
   "metadata": {},
   "outputs": [
    {
     "data": {
      "text/plain": [
       "count                                 42670\n",
       "unique                                   32\n",
       "top       graduated from college/university\n",
       "freq                                  19098\n",
       "Name: education, dtype: object"
      ]
     },
     "execution_count": 32,
     "metadata": {},
     "output_type": "execute_result"
    }
   ],
   "source": [
    "data_train['education'].describe()"
   ]
  },
  {
   "cell_type": "code",
   "execution_count": 33,
   "metadata": {},
   "outputs": [
    {
     "data": {
      "text/plain": [
       "graduated from college/university    19098\n",
       "graduated from masters program        7197\n",
       "working on college/university         4600\n",
       "working on masters program            1360\n",
       "graduated from two-year college       1218\n",
       "graduated from high school            1139\n",
       "graduated from ph.d program           1008\n",
       "graduated from law school              891\n",
       "working on two-year college            886\n",
       "dropped out of college/university      798\n",
       "working on ph.d program                772\n",
       "college/university                     656\n",
       "graduated from space camp              520\n",
       "dropped out of space camp              432\n",
       "graduated from med school              361\n",
       "working on space camp                  359\n",
       "working on law school                  214\n",
       "two-year college                       178\n",
       "working on med school                  163\n",
       "dropped out of two-year college        157\n",
       "dropped out of masters program         116\n",
       "masters program                        105\n",
       "dropped out of ph.d program            103\n",
       "dropped out of high school              82\n",
       "working on high school                  74\n",
       "high school                             71\n",
       "space camp                              44\n",
       "ph.d program                            19\n",
       "dropped out of law school               15\n",
       "law school                              14\n",
       "med school                              11\n",
       "dropped out of med school                9\n",
       "Name: education, dtype: int64"
      ]
     },
     "execution_count": 33,
     "metadata": {},
     "output_type": "execute_result"
    }
   ],
   "source": [
    "data_train['education'].value_counts()"
   ]
  },
  {
   "cell_type": "code",
   "execution_count": 34,
   "metadata": {},
   "outputs": [
    {
     "data": {
      "image/png": "[encoded data removed]",
      "text/plain": [
       "<Figure size 1008x504 with 1 Axes>"
      ]
     },
     "metadata": {
      "needs_background": "light"
     },
     "output_type": "display_data"
    }
   ],
   "source": [
    "education = data_train.groupby('sex')['education'].value_counts(normalize=True).rename('perc').mul(100).reset_index()\n",
    "\n",
    "plt.figure(figsize=(14,7))\n",
    "education_graph = sns.barplot(x=\"education\", y=\"perc\", hue=\"sex\", data=education)\n",
    "plt.xticks(rotation=70)\n",
    "plt.show()"
   ]
  },
  {
   "cell_type": "markdown",
   "metadata": {},
   "source": [
    "# Atribut 'job'"
   ]
  },
  {
   "cell_type": "code",
   "execution_count": 35,
   "metadata": {},
   "outputs": [
    {
     "data": {
      "image/png": "[encoded data removed]",
      "text/plain": [
       "<Figure size 1008x504 with 1 Axes>"
      ]
     },
     "metadata": {
      "needs_background": "light"
     },
     "output_type": "display_data"
    }
   ],
   "source": [
    "job = data_train.groupby('sex')['job'].value_counts(normalize=True).rename('perc').mul(100).reset_index()\n",
    "\n",
    "plt.figure(figsize=(14,7))\n",
    "education_graph = sns.barplot(x=\"job\", y=\"perc\", hue=\"sex\", data=job)\n",
    "plt.xticks(rotation=70)\n",
    "plt.show()"
   ]
  },
  {
   "cell_type": "markdown",
   "metadata": {},
   "source": [
    "Z tohto rozdelenia nam vypliva ze muzi su zamestnany viac v technickych oblastiach a zeny na v tych non-technickych"
   ]
  },
  {
   "cell_type": "markdown",
   "metadata": {},
   "source": [
    "# Atribut 'sign'"
   ]
  },
  {
   "cell_type": "code",
   "execution_count": 36,
   "metadata": {
    "scrolled": false
   },
   "outputs": [
    {
     "data": {
      "image/png": "[encoded data removed]",
      "text/plain": [
       "<Figure size 1008x504 with 1 Axes>"
      ]
     },
     "metadata": {
      "needs_background": "light"
     },
     "output_type": "display_data"
    }
   ],
   "source": [
    "sign_data = data_train.groupby('sex')['sign'].value_counts(normalize=True).rename('perc').mul(100).reset_index()\n",
    "\n",
    "plt.figure(figsize=(14,7))\n",
    "sign_graph = sns.barplot(x=\"sign\", y=\"perc\", hue=\"sex\", data=sign_data)\n",
    "plt.xticks(rotation=90)\n",
    "plt.show()"
   ]
  },
  {
   "cell_type": "markdown",
   "metadata": {},
   "source": [
    "Z tohto grafu je dost jasne vidiet ze tento atribut nam podstatne pomoze v predikcii pohlavia"
   ]
  },
  {
   "cell_type": "markdown",
   "metadata": {},
   "source": [
    "### Ako zaujimavost, spracujem si tento atribut do 2 hodnot, ktore budu zodpovedat muzovy a zene, a potom vizualizujem porovanie rozdelenia tychto vytvoreneho atribut z rozdelenia muzov a zien."
   ]
  },
  {
   "cell_type": "code",
   "execution_count": 37,
   "metadata": {},
   "outputs": [],
   "source": [
    "# Zadefinujeme si kategorie\n",
    "categories = {\n",
    "    \"fun to think about\" : 1,\n",
    "    \"and it matters a lot\" : 1,\n",
    "    \"other\": 2\n",
    "};\n",
    "\n",
    "def process_sign(sign):\n",
    "    for key in categories:\n",
    "        if key in str(sign):\n",
    "             return categories[key]\n",
    "            \n",
    "    return categories[\"other\"]\n",
    "\n",
    "data_train['sign_gender_probability'] = list(data_train['sign'].map(process_sign))"
   ]
  },
  {
   "cell_type": "markdown",
   "metadata": {},
   "source": [
    "Ideme sa pozriet ako sme na tom s tymto odhadom ked ho porovname aktualnu distribuciu muzov a zien podla pohlavia"
   ]
  },
  {
   "cell_type": "code",
   "execution_count": 38,
   "metadata": {},
   "outputs": [
    {
     "data": {
      "image/png": "[encoded data removed]",
      "text/plain": [
       "<Figure size 432x288 with 2 Axes>"
      ]
     },
     "metadata": {},
     "output_type": "display_data"
    }
   ],
   "source": [
    "labels = 'Male', 'Female'\n",
    "original_sizes = [len(data_train[data_train['sex']=='m']), len(data_train[data_train['sex']=='f'])]\n",
    "sign_sizes = [len(data_train[data_train['sign_gender_probability']==2]), len(data_train[data_train['sign_gender_probability']==1])]\n",
    "\n",
    "fig = plt.figure()\n",
    "\n",
    "ax1 = fig.add_axes([0, 0, 1., 1.], aspect=1)\n",
    "ax1.pie(original_sizes, labels=labels, autopct='%1.1f%%', shadow=True, startangle=90)\n",
    "ax1.set_title('Aktualne rozdelenie muzov a zien')\n",
    "\n",
    "ax2 = fig.add_axes([1., 0, 1., 1.], aspect=1)\n",
    "ax2.pie(sign_sizes, labels=labels, autopct='%1.1f%%', shadow=True, startangle=90)\n",
    "ax2.set_title('Rozdelenie podla znaku')\n",
    "\n",
    "plt.show()"
   ]
  },
  {
   "cell_type": "markdown",
   "metadata": {},
   "source": [
    "7% rozdiel v pripade ak budeme povazovat ze vsetke zeny nastavuju na znamenie na 'fun to think about' alebo 'and it matters a lot'."
   ]
  },
  {
   "cell_type": "markdown",
   "metadata": {},
   "source": [
    "# Atribut 'ethnicity'\n",
    "Chceme zistit distribuciu etnik ktore si nastavili muzi a zeny"
   ]
  },
  {
   "cell_type": "code",
   "execution_count": 39,
   "metadata": {},
   "outputs": [
    {
     "name": "stdout",
     "output_type": "stream",
     "text": [
      "Histogram for males: \n",
      "Counter({'white': 17986, 'asian': 4017, 'hispanic / latin': 2713, 'other': 1788, 'black': 1501, 'indian': 866, 'pacific islander': 825, 'native american': 608, 'middle eastern': 504})\n",
      "Histogram for females: \n",
      "Counter({'white': 12303, 'asian': 2558, 'hispanic / latin': 1588, 'black': 1162, 'other': 1039, 'native american': 409, 'pacific islander': 388, 'indian': 300, 'middle eastern': 256})\n"
     ]
    }
   ],
   "source": [
    "eth_m_hist = col.Counter()\n",
    "eth_f_hist = col.Counter()\n",
    "\n",
    "def split_and_increase_hist(gender, ethnicity_string):\n",
    "    # nechceme brat do uvahy nan hodnoty\n",
    "    if ethnicity_string == 'nan':\n",
    "        return None\n",
    "    \n",
    "    for ethnicity in ethnicity_string.split(\",\"):\n",
    "        if gender == 'm':\n",
    "            eth_m_hist[ethnicity.strip()] += 1\n",
    "        else:\n",
    "            eth_f_hist[ethnicity.strip()] += 1\n",
    "       \n",
    "        \n",
    "data_train.apply(lambda row: split_and_increase_hist(row['sex'], str(row['ethnicity'])), axis=1)\n",
    "\n",
    "print(\"Histogram for males: \")\n",
    "print(eth_m_hist)\n",
    "\n",
    "print(\"Histogram for females: \")\n",
    "print(eth_f_hist)"
   ]
  },
  {
   "cell_type": "code",
   "execution_count": 40,
   "metadata": {},
   "outputs": [
    {
     "data": {
      "text/html": [
       "<div>\n",
       "<style scoped>\n",
       "    .dataframe tbody tr th:only-of-type {\n",
       "        vertical-align: middle;\n",
       "    }\n",
       "\n",
       "    .dataframe tbody tr th {\n",
       "        vertical-align: top;\n",
       "    }\n",
       "\n",
       "    .dataframe thead th {\n",
       "        text-align: right;\n",
       "    }\n",
       "</style>\n",
       "<table border=\"1\" class=\"dataframe\">\n",
       "  <thead>\n",
       "    <tr style=\"text-align: right;\">\n",
       "      <th></th>\n",
       "      <th>ethnicity</th>\n",
       "      <th>sex</th>\n",
       "      <th>count</th>\n",
       "    </tr>\n",
       "  </thead>\n",
       "  <tbody>\n",
       "    <tr>\n",
       "      <th>0</th>\n",
       "      <td>asian</td>\n",
       "      <td>m</td>\n",
       "      <td>4017</td>\n",
       "    </tr>\n",
       "    <tr>\n",
       "      <th>1</th>\n",
       "      <td>white</td>\n",
       "      <td>m</td>\n",
       "      <td>17986</td>\n",
       "    </tr>\n",
       "    <tr>\n",
       "      <th>2</th>\n",
       "      <td>indian</td>\n",
       "      <td>m</td>\n",
       "      <td>866</td>\n",
       "    </tr>\n",
       "    <tr>\n",
       "      <th>3</th>\n",
       "      <td>pacific islander</td>\n",
       "      <td>m</td>\n",
       "      <td>825</td>\n",
       "    </tr>\n",
       "    <tr>\n",
       "      <th>4</th>\n",
       "      <td>hispanic / latin</td>\n",
       "      <td>m</td>\n",
       "      <td>2713</td>\n",
       "    </tr>\n",
       "    <tr>\n",
       "      <th>5</th>\n",
       "      <td>other</td>\n",
       "      <td>m</td>\n",
       "      <td>1788</td>\n",
       "    </tr>\n",
       "    <tr>\n",
       "      <th>6</th>\n",
       "      <td>black</td>\n",
       "      <td>m</td>\n",
       "      <td>1501</td>\n",
       "    </tr>\n",
       "    <tr>\n",
       "      <th>7</th>\n",
       "      <td>middle eastern</td>\n",
       "      <td>m</td>\n",
       "      <td>504</td>\n",
       "    </tr>\n",
       "    <tr>\n",
       "      <th>8</th>\n",
       "      <td>native american</td>\n",
       "      <td>m</td>\n",
       "      <td>608</td>\n",
       "    </tr>\n",
       "    <tr>\n",
       "      <th>9</th>\n",
       "      <td>white</td>\n",
       "      <td>f</td>\n",
       "      <td>12303</td>\n",
       "    </tr>\n",
       "    <tr>\n",
       "      <th>10</th>\n",
       "      <td>indian</td>\n",
       "      <td>f</td>\n",
       "      <td>300</td>\n",
       "    </tr>\n",
       "    <tr>\n",
       "      <th>11</th>\n",
       "      <td>other</td>\n",
       "      <td>f</td>\n",
       "      <td>1039</td>\n",
       "    </tr>\n",
       "    <tr>\n",
       "      <th>12</th>\n",
       "      <td>asian</td>\n",
       "      <td>f</td>\n",
       "      <td>2558</td>\n",
       "    </tr>\n",
       "    <tr>\n",
       "      <th>13</th>\n",
       "      <td>native american</td>\n",
       "      <td>f</td>\n",
       "      <td>409</td>\n",
       "    </tr>\n",
       "    <tr>\n",
       "      <th>14</th>\n",
       "      <td>hispanic / latin</td>\n",
       "      <td>f</td>\n",
       "      <td>1588</td>\n",
       "    </tr>\n",
       "    <tr>\n",
       "      <th>15</th>\n",
       "      <td>black</td>\n",
       "      <td>f</td>\n",
       "      <td>1162</td>\n",
       "    </tr>\n",
       "    <tr>\n",
       "      <th>16</th>\n",
       "      <td>middle eastern</td>\n",
       "      <td>f</td>\n",
       "      <td>256</td>\n",
       "    </tr>\n",
       "    <tr>\n",
       "      <th>17</th>\n",
       "      <td>pacific islander</td>\n",
       "      <td>f</td>\n",
       "      <td>388</td>\n",
       "    </tr>\n",
       "  </tbody>\n",
       "</table>\n",
       "</div>"
      ],
      "text/plain": [
       "           ethnicity sex  count\n",
       "0              asian   m   4017\n",
       "1              white   m  17986\n",
       "2             indian   m    866\n",
       "3   pacific islander   m    825\n",
       "4   hispanic / latin   m   2713\n",
       "5              other   m   1788\n",
       "6              black   m   1501\n",
       "7     middle eastern   m    504\n",
       "8    native american   m    608\n",
       "9              white   f  12303\n",
       "10            indian   f    300\n",
       "11             other   f   1039\n",
       "12             asian   f   2558\n",
       "13   native american   f    409\n",
       "14  hispanic / latin   f   1588\n",
       "15             black   f   1162\n",
       "16    middle eastern   f    256\n",
       "17  pacific islander   f    388"
      ]
     },
     "execution_count": 40,
     "metadata": {},
     "output_type": "execute_result"
    }
   ],
   "source": [
    "m_df = pd.DataFrame({'ethnicity': list(eth_m_hist.keys()), 'sex': 'm', 'count': list(eth_m_hist.values())})\n",
    "f_df = pd.DataFrame({'ethnicity': list(eth_f_hist.keys()), 'sex': 'f', 'count': list(eth_f_hist.values())})\n",
    "\n",
    "eth_df = pd.merge(m_df, f_df, how='outer')\n",
    "eth_df"
   ]
  },
  {
   "cell_type": "markdown",
   "metadata": {},
   "source": [
    "Urobime dataset z poctom muzov a zien pre kazdu rasu."
   ]
  },
  {
   "cell_type": "markdown",
   "metadata": {},
   "source": [
    "Nasledne vytvorime grafy na ktorych vidime hodnoty ktore nadobuda kazda etnika."
   ]
  },
  {
   "cell_type": "code",
   "execution_count": 41,
   "metadata": {},
   "outputs": [
    {
     "data": {
      "image/png": "[encoded data removed]",
      "text/plain": [
       "<Figure size 432x288 with 1 Axes>"
      ]
     },
     "metadata": {
      "needs_background": "light"
     },
     "output_type": "display_data"
    },
    {
     "data": {
      "image/png": "[encoded data removed]",
      "text/plain": [
       "<Figure size 432x288 with 1 Axes>"
      ]
     },
     "metadata": {
      "needs_background": "light"
     },
     "output_type": "display_data"
    }
   ],
   "source": [
    "eth_df[eth_df['sex'] == 'm'].plot(x=\"ethnicity\", kind='bar')\n",
    "eth_df[eth_df['sex'] == 'f'].plot(x=\"ethnicity\", kind='bar', color='orange')\n",
    "plt.show()"
   ]
  },
  {
   "cell_type": "code",
   "execution_count": 42,
   "metadata": {},
   "outputs": [
    {
     "data": {
      "text/plain": [
       "(50811, 47956)"
      ]
     },
     "execution_count": 42,
     "metadata": {},
     "output_type": "execute_result"
    }
   ],
   "source": [
    "sum(eth_df['count']), len(data_train)"
   ]
  },
  {
   "cell_type": "markdown",
   "metadata": {},
   "source": [
    "Chceme vidiet asi kolko hodnot etnik bolo viac ako celkovy pocet poloziek datasetu"
   ]
  },
  {
   "cell_type": "code",
   "execution_count": 43,
   "metadata": {},
   "outputs": [
    {
     "data": {
      "text/plain": [
       "2855"
      ]
     },
     "execution_count": 43,
     "metadata": {},
     "output_type": "execute_result"
    }
   ],
   "source": [
    "sum(eth_df['count']) - len(data_train)"
   ]
  },
  {
   "cell_type": "markdown",
   "metadata": {},
   "source": [
    "Pozrieme distribuciu hodnot pre kazdu etniku"
   ]
  },
  {
   "cell_type": "code",
   "execution_count": 44,
   "metadata": {
    "scrolled": false
   },
   "outputs": [
    {
     "data": {
      "image/png": "[encoded data removed]",
      "text/plain": [
       "<Figure size 1008x504 with 1 Axes>"
      ]
     },
     "metadata": {
      "needs_background": "light"
     },
     "output_type": "display_data"
    }
   ],
   "source": [
    "plt.figure(figsize=(14,7))\n",
    "sns.barplot(x=\"ethnicity\", y=\"count\", hue=\"sex\", data=eth_df, palette=\"Set3\")\n",
    "plt.show()"
   ]
  },
  {
   "cell_type": "markdown",
   "metadata": {},
   "source": [
    "Pozrieme kolko extra hodnot etnik si nastavili muzi"
   ]
  },
  {
   "cell_type": "code",
   "execution_count": 45,
   "metadata": {},
   "outputs": [
    {
     "data": {
      "text/plain": [
       "2053"
      ]
     },
     "execution_count": 45,
     "metadata": {},
     "output_type": "execute_result"
    }
   ],
   "source": [
    "sum(eth_df[eth_df['sex'] == 'm']['count']) - len(data_train[data_train['sex'] == 'm'])"
   ]
  },
  {
   "cell_type": "code",
   "execution_count": 46,
   "metadata": {
    "scrolled": true
   },
   "outputs": [
    {
     "data": {
      "text/plain": [
       "28755"
      ]
     },
     "execution_count": 46,
     "metadata": {},
     "output_type": "execute_result"
    }
   ],
   "source": [
    "# Vypiseme si celkovy pocet muzov z trenovacieho datasetu\n",
    "\n",
    "len(data_train[data_train['sex'] == 'm'])"
   ]
  },
  {
   "cell_type": "markdown",
   "metadata": {},
   "source": [
    "To iste urobime pre zeny"
   ]
  },
  {
   "cell_type": "code",
   "execution_count": 47,
   "metadata": {
    "scrolled": true
   },
   "outputs": [
    {
     "data": {
      "text/plain": [
       "802"
      ]
     },
     "execution_count": 47,
     "metadata": {},
     "output_type": "execute_result"
    }
   ],
   "source": [
    "sum(eth_df[eth_df['sex'] == 'f']['count']) - len(data_train[data_train['sex'] == 'f'])"
   ]
  },
  {
   "cell_type": "code",
   "execution_count": 48,
   "metadata": {},
   "outputs": [
    {
     "data": {
      "text/plain": [
       "19201"
      ]
     },
     "execution_count": 48,
     "metadata": {},
     "output_type": "execute_result"
    }
   ],
   "source": [
    "# Vypiseme si celkovy pocet zien z trenovacieho datasetu\n",
    "\n",
    "len(data_train[data_train['sex'] == 'f'])"
   ]
  },
  {
   "cell_type": "markdown",
   "metadata": {},
   "source": [
    "Ako zaujimavost, spracujeme ethnicity do 5-tich kategoriach, a pozrieme sa na priemerne vysky pre muzov a zeny v danej rasi."
   ]
  },
  {
   "cell_type": "code",
   "execution_count": 49,
   "metadata": {},
   "outputs": [],
   "source": [
    "def assign_ethnicity_category(ethnicity):\n",
    "    \n",
    "    if \"black\" in ethnicity or \"native american\" in ethnicity:\n",
    "        return \"black\"\n",
    "    \n",
    "    if \"indian\" in ethnicity or \"middle eastern\" in ethnicity:\n",
    "        return \"indian\"\n",
    "    \n",
    "    if \"asian\" in ethnicity or \"islander\" in ethnicity:\n",
    "        return \"asian\"\n",
    "    \n",
    "    if \"white\" in ethnicity or \"hispanic\" in ethnicity:\n",
    "        return \"white\"\n",
    "    \n",
    "    return \"other\"\n",
    "    \n",
    "data_train['cat_ethnicity'] = data_train['ethnicity'].astype('str').map(assign_ethnicity_category)"
   ]
  },
  {
   "cell_type": "code",
   "execution_count": 50,
   "metadata": {
    "scrolled": true
   },
   "outputs": [
    {
     "data": {
      "text/html": [
       "<div>\n",
       "<style scoped>\n",
       "    .dataframe tbody tr th:only-of-type {\n",
       "        vertical-align: middle;\n",
       "    }\n",
       "\n",
       "    .dataframe tbody tr th {\n",
       "        vertical-align: top;\n",
       "    }\n",
       "\n",
       "    .dataframe thead th {\n",
       "        text-align: right;\n",
       "    }\n",
       "</style>\n",
       "<table border=\"1\" class=\"dataframe\">\n",
       "  <thead>\n",
       "    <tr style=\"text-align: right;\">\n",
       "      <th>cat_ethnicity</th>\n",
       "      <th>asian</th>\n",
       "      <th>black</th>\n",
       "      <th>indian</th>\n",
       "      <th>other</th>\n",
       "      <th>white</th>\n",
       "    </tr>\n",
       "    <tr>\n",
       "      <th>sex</th>\n",
       "      <th></th>\n",
       "      <th></th>\n",
       "      <th></th>\n",
       "      <th></th>\n",
       "      <th></th>\n",
       "    </tr>\n",
       "  </thead>\n",
       "  <tbody>\n",
       "    <tr>\n",
       "      <th>f</th>\n",
       "      <td>161.486936</td>\n",
       "      <td>166.191127</td>\n",
       "      <td>163.139838</td>\n",
       "      <td>165.220409</td>\n",
       "      <td>166.248259</td>\n",
       "    </tr>\n",
       "    <tr>\n",
       "      <th>m</th>\n",
       "      <td>174.218308</td>\n",
       "      <td>180.167774</td>\n",
       "      <td>177.069966</td>\n",
       "      <td>178.819676</td>\n",
       "      <td>179.980154</td>\n",
       "    </tr>\n",
       "  </tbody>\n",
       "</table>\n",
       "</div>"
      ],
      "text/plain": [
       "cat_ethnicity       asian       black      indian       other       white\n",
       "sex                                                                      \n",
       "f              161.486936  166.191127  163.139838  165.220409  166.248259\n",
       "m              174.218308  180.167774  177.069966  178.819676  179.980154"
      ]
     },
     "execution_count": 50,
     "metadata": {},
     "output_type": "execute_result"
    }
   ],
   "source": [
    "data_train.groupby(['sex', 'cat_ethnicity']).height.mean().unstack()"
   ]
  },
  {
   "cell_type": "markdown",
   "metadata": {},
   "source": [
    "Realisticky, tieto udaje by mohli byt aj realne."
   ]
  },
  {
   "cell_type": "markdown",
   "metadata": {},
   "source": [
    "# Atribut 'body_type'\n"
   ]
  },
  {
   "cell_type": "code",
   "execution_count": 51,
   "metadata": {},
   "outputs": [
    {
     "data": {
      "image/png": "[encoded data removed]",
      "text/plain": [
       "<Figure size 1008x504 with 1 Axes>"
      ]
     },
     "metadata": {
      "needs_background": "light"
     },
     "output_type": "display_data"
    }
   ],
   "source": [
    "diet = data_train.groupby('sex')['body_type'].value_counts(normalize=True).rename('perc').mul(100).reset_index()\n",
    "\n",
    "plt.figure(figsize=(14,7))\n",
    "education_graph = sns.barplot(x=\"body_type\", y=\"perc\", hue=\"sex\", data=diet)\n",
    "plt.xticks(rotation=45)\n",
    "plt.show()"
   ]
  },
  {
   "cell_type": "code",
   "execution_count": 52,
   "metadata": {},
   "outputs": [
    {
     "data": {
      "text/plain": [
       "4197"
      ]
     },
     "execution_count": 52,
     "metadata": {},
     "output_type": "execute_result"
    }
   ],
   "source": [
    "len(data_train[data_train['body_type'].isnull()])"
   ]
  },
  {
   "cell_type": "markdown",
   "metadata": {},
   "source": [
    "Z tohto grafu nam vypliva ze viacero muzov si nastavili body type athletic, kym takmer ziadny si nenastavil curvy, co moze byt zase pouzite pre presnejsiu predpoved."
   ]
  },
  {
   "cell_type": "markdown",
   "metadata": {},
   "source": [
    "# Atribut 'smokes'"
   ]
  },
  {
   "cell_type": "code",
   "execution_count": 53,
   "metadata": {
    "scrolled": false
   },
   "outputs": [
    {
     "data": {
      "image/png": "[encoded data removed]",
      "text/plain": [
       "<Figure size 1008x504 with 1 Axes>"
      ]
     },
     "metadata": {
      "needs_background": "light"
     },
     "output_type": "display_data"
    }
   ],
   "source": [
    "diet = data_train.groupby('sex')['smokes'].value_counts(normalize=True).rename('perc').mul(100).reset_index()\n",
    "\n",
    "plt.figure(figsize=(14,7))\n",
    "education_graph = sns.barplot(x=\"smokes\", y=\"perc\", hue=\"sex\", data=diet)\n",
    "plt.xticks(rotation=45)\n",
    "plt.show()"
   ]
  },
  {
   "cell_type": "markdown",
   "metadata": {},
   "source": [
    "# Zhodnotenie\n",
    "Z analyze ktoru si mozeme vsimnut hore, mozem povedat ze ma vsetky atributy ktore by mi pomohli vylepsit predikciu pohlavia z testovacieho datasetu.\n",
    "\n",
    "Konkretne atributy:\n",
    "### - vyska + ethnicity\n",
    "Ked pouzijeme atribut vyska pre nasu predikciu, mohli by sme zahrnut aj atribut ethnicity, bolo by to presnejsie. Napriklad mohli by sme predpovedat ze muzi azijcania by mali priemernu vysku 156 cm, kym tato ista hodnota by bola napriklad u bielych zien \n",
    "### - diet\n",
    "Vo vseobecnosti zeny boli viac na jedla vegetarianskeho alebo veganskeho typu, pokial muzi si zvolili hociake ine jedla\n",
    "### - job\n",
    "Z analyze tohto atributu nam vypliva ze muzi su zamestnany viac v technickych oblastiach a zeny na v tych non-technickych.\n",
    "### - sign\n",
    "Rozdelenie bolo pomerne dobre v pripade tohto atributu\n",
    "### - body_type\n",
    "Ako najvyraznejsie vyplivalo ze viacero muzov si nastavili body type athletic, kym takmer ziadny si nenastavil curvy"
   ]
  },
  {
   "cell_type": "markdown",
   "metadata": {},
   "source": [
    "--------------------------------"
   ]
  },
  {
   "cell_type": "markdown",
   "metadata": {},
   "source": [
    "# Pomocna klasa pre spracovanie datasetu"
   ]
  },
  {
   "cell_type": "markdown",
   "metadata": {},
   "source": [
    "------------------"
   ]
  },
  {
   "cell_type": "code",
   "execution_count": 5,
   "metadata": {},
   "outputs": [],
   "source": [
    "class Transformations:\n",
    "    def __init__(self):\n",
    "        self.pipeline = Pipeline([('classifier', FeatureUnion([('dtc', mt.ModelTransformer(KNeighborsClassifier(5))),\n",
    "                                                               ('rnf', mt.ModelTransformer(DecisionTreeClassifier(max_depth=5)))]))])\n",
    "        \n",
    "        \n",
    "    # Metoda doplni cybajuce hodnoty pre stlpec ktoreho meno je dane cez parameter a metrika doplnovania chybajucich hodnot tiez\n",
    "    def predict_numeric(self, data, strategy, column_name):\n",
    "        mean_imputer = Imputer(missing_values='NaN', strategy=strategy, axis=0)\n",
    "        mean_imputer = mean_imputer.fit(np.array(data[column_name]).reshape(-1, 1))\n",
    "        \n",
    "        imputed_height = mean_imputer.transform(np.array(data[column_name]).reshape(-1, 1))\n",
    "        data[column_name] = imputed_height\n",
    "        \n",
    "        return data\n",
    "        \n",
    "        \n",
    "    # Metoda ktora normalizuje data do rozsahu (0, 1)\n",
    "    def normalization(self, data, column_name):\n",
    "        _min = min(data[column_name])\n",
    "        _max = max(data[column_name])\n",
    "        \n",
    "        return (pd.DataFrame(data[column_name]) - float(_min)) / (_max - _min)\n",
    "    \n",
    "    \n",
    "    # Metoda pomocou ktorej zaenkodujeme kategoricke hodnoty na numericke, vracia pouzity encoder pre danu metodu.\n",
    "    def label_encoder(self, data, column_name):\n",
    "        encoder = preprocessing.LabelEncoder()\n",
    "\n",
    "        data.loc[data[column_name].isnull() == False, column_name] = encoder.fit_transform(data[data[column_name].isnull() == False][column_name])\n",
    "\n",
    "        return encoder\n",
    "    \n",
    "    \n",
    "    # Metoda ktora dostava ako parameter encoder vrateny funkciou label_encoder a vrati povodne encodovane hodnoty.\n",
    "    def label_decoder(self, data, encoder, column_name):\n",
    "        return encoder.inverse_transform(data[column_name])\n",
    "    \n",
    "    \n",
    "    # Metoda frati najcastejsiu hodnotu z pola poskytnutym parametrom 'a'\n",
    "    def most_common(self, a):\n",
    "        (values, counts) = np.unique(a, return_counts=True)\n",
    "        ind = np.argmax(counts)\n",
    "        return values[ind]\n",
    "    \n",
    "    \n",
    "    # Metoda ktora nahradi outlinery zo stlpca datasetu ktoreho meno dostaneme cez parameter\n",
    "    def quantile_replace(self, data, column_name):\n",
    "        Q_down = data[column_name].quantile(0.05)\n",
    "        Q_up = data[column_name].quantile(0.95)\n",
    "\n",
    "        data.loc[data[column_name] <= Q_down, column_name] = Q_down\n",
    "        data.loc[data[column_name] >= Q_up, column_name] = Q_up\n",
    "        \n",
    "        \n",
    "    # Funkcia ktora vrati novy dataset z encodovanymi hodnotamy (one hot encoder) pre dany stlpec.\n",
    "    def one_hot_encode(self, data, column_name):\n",
    "        output = pd.get_dummies(data[column_name], prefix=column_name)\n",
    "        \n",
    "        data = pd.concat([data, output], axis=1)\n",
    "        return data\n",
    "        \n",
    "        \n",
    "    # Funckia ktora vrati 2 datasety, jeden z datamy ktore pouzijeme na predikciu, a dalsi ktore obsahuje labely.\n",
    "    def get_data_columns(self, data, for_column, columns_array):\n",
    "        train_X = data[data[for_column].isnull() == False][columns_array]\n",
    "        train_y = data[for_column].dropna().astype(int)\n",
    "\n",
    "        return train_X, train_y\n",
    "    \n",
    "    \n",
    "    # Metoda ktora vrati dataset z null hodnotami pre stlpec datasetu ktoreho meno dostane cez parameter\n",
    "    def get_nan_data_columns(self, data, for_column, columns_array):\n",
    "        return data[data[for_column].isnull()][columns_array]\n",
    "    \n",
    "    \n",
    "    # Funkcia ktora vrati predikovane hodnoty\n",
    "    def get_predicted_values(self, X, y, X_nan):\n",
    "        self.pipeline.fit(X, y)\n",
    "        predicted = self.pipeline.transform(X_nan)\n",
    "        \n",
    "        return predicted\n",
    "    \n",
    "    \n",
    "    # Funkcia ktora vrati dataset, z doplnenimi chybajucimi hodnotami predikovanymi pre dany stlpec.\n",
    "    def replace_predicted_values(self, data, encoder, predicted, for_column):\n",
    "        data.loc[data[for_column].isnull(), for_column] = predicted[:, 1].reshape(-1, 1)\n",
    "        \n",
    "        if encoder != None:\n",
    "            data[for_column] = self.label_decoder(data, encoder, for_column).reshape(-1, 1)\n",
    "        \n",
    "        return data\n",
    "        \n",
    "        \n",
    "    # Metoda ktora skobinuje vsetky metody hore vyzsie, a vrati dataset.\n",
    "    def predict_values(self, data, for_column, columns_name):\n",
    "        columns_array = [(column_name + '_' + str(x)) for column_name in columns_name for x in data[column_name].unique()]\n",
    "        \n",
    "        if data_train[for_column].dtype != np.dtype(np.float64):\n",
    "            column_encoder = self.label_encoder(data, for_column)\n",
    "        else:\n",
    "            column_encoder = None\n",
    "        \n",
    "        train_X, train_y = self.get_data_columns(data, for_column, columns_array)\n",
    "        train_X_nan = self.get_nan_data_columns(data, for_column, columns_array)\n",
    "        \n",
    "        predicted = self.get_predicted_values(train_X, train_y, train_X_nan)\n",
    "        \n",
    "        return self.replace_predicted_values(data, column_encoder, predicted, for_column)\n",
    "    \n",
    "    \n",
    "    # Metoda ktora vrati dataset iba zo stlpcami datasetu ktorych mena dame cez parameter.\n",
    "    def get_columns_for_prediction(self, data, columns_array):\n",
    "        \n",
    "        columns = [(col_name + '_' + str(column_name)) for col_name in columns_array for column_name in data[col_name].unique()]\n",
    "                                 \n",
    "        return data.loc[:, columns]"
   ]
  },
  {
   "cell_type": "code",
   "execution_count": 6,
   "metadata": {},
   "outputs": [],
   "source": [
    "t = Transformations()"
   ]
  },
  {
   "cell_type": "markdown",
   "metadata": {},
   "source": [
    "# Predspracovanie dat\n",
    "Vytvorime si novy dataset korelacii zo vsetkych hodnotach datasetu (kategorickych aj nekategorickych)."
   ]
  },
  {
   "cell_type": "code",
   "execution_count": 7,
   "metadata": {},
   "outputs": [],
   "source": [
    "corr_df = data_train\n",
    "corr_m = corr_df.apply(lambda x : pd.factorize(x)[0]).corr(method='spearman', min_periods=1)"
   ]
  },
  {
   "cell_type": "markdown",
   "metadata": {},
   "source": [
    "Vytvorenie noveho datasetu, ktory bude obsahovat korelacie medzi atributmy, vypocitane za pomoci spearmanovej statistiky."
   ]
  },
  {
   "cell_type": "code",
   "execution_count": 9,
   "metadata": {},
   "outputs": [
    {
     "data": {
      "image/png": "[encoded data removed]",
      "text/plain": [
       "<Figure size 792x648 with 2 Axes>"
      ]
     },
     "metadata": {
      "needs_background": "light"
     },
     "output_type": "display_data"
    }
   ],
   "source": [
    "mask = np.zeros_like(corr_m, dtype=np.bool)\n",
    "mask[np.triu_indices_from(mask)] = True\n",
    "\n",
    "f, ax = plt.subplots(figsize=(11, 9))\n",
    "\n",
    "cmap = sns.diverging_palette(220, 10, as_cmap=True)\n",
    "\n",
    "sns.heatmap(corr_m, mask = mask, cmap = cmap, vmax = .3, center = 0, square=True, linewidths=.5, cbar_kws={\"shrink\": .5})\n",
    "plt.show()"
   ]
  },
  {
   "cell_type": "markdown",
   "metadata": {},
   "source": [
    "Zobrazenie korelaciach. Cim je viac stvorcek cervensi, tym je korelacia silnejsia medzi atributmy."
   ]
  },
  {
   "cell_type": "markdown",
   "metadata": {},
   "source": [
    "### Vizualizacia chybajucich hodnot pre vsetky atributy."
   ]
  },
  {
   "cell_type": "code",
   "execution_count": 58,
   "metadata": {},
   "outputs": [
    {
     "data": {
      "image/png": "[encoded data removed]",
      "text/plain": [
       "<Figure size 1800x720 with 2 Axes>"
      ]
     },
     "metadata": {
      "needs_background": "light"
     },
     "output_type": "display_data"
    }
   ],
   "source": [
    "msno.matrix(data_train.sample(10000))\n",
    "plt.show()"
   ]
  },
  {
   "cell_type": "markdown",
   "metadata": {},
   "source": [
    "Vizualizacia chybajucich hodnot atributov v 10.000 zaznamoch vybranych z datasetu. Cim viac bieleho, tym viac hodnot chybuju"
   ]
  },
  {
   "cell_type": "markdown",
   "metadata": {},
   "source": [
    "### Vizualizacia chybajucich hodnot ale iba pre atributy ktore pouzijeme v predpovedi pohlavia\n",
    "(Pre income nema vyznam aby sme vizualizovali chybajuce hodnoty, kedze namiesto NaN hodnot, su tam hodnoty -1)"
   ]
  },
  {
   "cell_type": "code",
   "execution_count": 59,
   "metadata": {},
   "outputs": [
    {
     "data": {
      "image/png": "[encoded data removed]",
      "text/plain": [
       "<Figure size 1800x720 with 2 Axes>"
      ]
     },
     "metadata": {
      "needs_background": "light"
     },
     "output_type": "display_data"
    }
   ],
   "source": [
    "atributes_for_prediction_arr = ['education', 'offspring', 'body_type', 'diet', 'height', 'job', 'sign']\n",
    "\n",
    "selected_atributes_df = data_train[atributes_for_prediction_arr].sample(300)\n",
    "msno.matrix(selected_atributes_df)\n",
    "plt.show()"
   ]
  },
  {
   "cell_type": "code",
   "execution_count": 60,
   "metadata": {},
   "outputs": [
    {
     "name": "stdout",
     "output_type": "stream",
     "text": [
      "'education' null values count= 5286\n",
      "'offspring' null values count= 28442\n",
      "'body_type' null values count= 4197\n",
      "'diet' null values count= 19483\n",
      "'height' null values count= 2\n",
      "'job' null values count= 6507\n",
      "'sign' null values count= 8831\n"
     ]
    }
   ],
   "source": [
    "for column_name in atributes_for_prediction_arr:\n",
    "    print(\"'\" + column_name + \"' null values count= \" + str(len(data_train[data_train[column_name].isnull()])))"
   ]
  },
  {
   "cell_type": "markdown",
   "metadata": {},
   "source": [
    "Z tohto vidime ze zo vsetkych kategorickych atributov, najmenej chybajuce hodnoty ma atribut body_type. Tento atribut nasledne doplnime najcastejsou hodnotou."
   ]
  },
  {
   "cell_type": "markdown",
   "metadata": {},
   "source": [
    "## Doplnenie atributu 'height'"
   ]
  },
  {
   "cell_type": "code",
   "execution_count": 10,
   "metadata": {},
   "outputs": [
    {
     "name": "stderr",
     "output_type": "stream",
     "text": [
      "/Users/edvin/anaconda3/lib/python3.6/site-packages/sklearn/utils/deprecation.py:58: DeprecationWarning: Class Imputer is deprecated; Imputer was deprecated in version 0.20 and will be removed in 0.22. Import impute.SimpleImputer from sklearn instead.\n",
      "  warnings.warn(msg, category=DeprecationWarning)\n",
      "/Users/edvin/anaconda3/lib/python3.6/site-packages/sklearn/utils/deprecation.py:58: DeprecationWarning: Class Imputer is deprecated; Imputer was deprecated in version 0.20 and will be removed in 0.22. Import impute.SimpleImputer from sklearn instead.\n",
      "  warnings.warn(msg, category=DeprecationWarning)\n"
     ]
    }
   ],
   "source": [
    "data_train = t.predict_numeric(data_train, 'mean', 'height')\n",
    "data_test = t.predict_numeric(data_test, 'mean', 'height')"
   ]
  },
  {
   "cell_type": "markdown",
   "metadata": {},
   "source": [
    "Chybajuce hodnoty z atribut height doplnime priemerom."
   ]
  },
  {
   "cell_type": "code",
   "execution_count": 11,
   "metadata": {},
   "outputs": [],
   "source": [
    "t.quantile_replace(data_train, 'height')\n",
    "t.quantile_replace(data_test, 'height')"
   ]
  },
  {
   "cell_type": "markdown",
   "metadata": {},
   "source": [
    "Outlinery atributu odstranime pouzijuc 95% a 5% kvartilove rozdelenie"
   ]
  },
  {
   "cell_type": "markdown",
   "metadata": {},
   "source": [
    "## Chybajuce hodnoty atributu 'body_type' doplnime najcastejsou vyskytujucou hodnotou."
   ]
  },
  {
   "cell_type": "markdown",
   "metadata": {},
   "source": [
    "Pre trenovacie vzorky"
   ]
  },
  {
   "cell_type": "code",
   "execution_count": 8,
   "metadata": {},
   "outputs": [],
   "source": [
    "data_train.loc[data_train['body_type'].isnull(), 'body_type'] = t.most_common(data_train['body_type'].dropna())"
   ]
  },
  {
   "cell_type": "markdown",
   "metadata": {},
   "source": [
    "Testovacie vzorky"
   ]
  },
  {
   "cell_type": "code",
   "execution_count": 9,
   "metadata": {},
   "outputs": [],
   "source": [
    "data_test.loc[data_test['body_type'].isnull(), 'body_type'] = t.most_common(data_test['body_type'].dropna())"
   ]
  },
  {
   "cell_type": "markdown",
   "metadata": {},
   "source": [
    "Zaenkodujeme si predpovedane hodnoty za pomoci OHE."
   ]
  },
  {
   "cell_type": "code",
   "execution_count": 10,
   "metadata": {},
   "outputs": [],
   "source": [
    "data_train = t.one_hot_encode(data_train, 'body_type')\n",
    "data_test = t.one_hot_encode(data_test, 'body_type')"
   ]
  },
  {
   "cell_type": "markdown",
   "metadata": {},
   "source": [
    "## Doplnenie hodnot 'education' najcastejsou hodnotou\n",
    "Kedze tento atribut je druhy v poradi, ktory ma najmenej chybajuce hodnoty doplnime ich najcastejsou hodnotu"
   ]
  },
  {
   "cell_type": "markdown",
   "metadata": {},
   "source": [
    "Pre trenovacie vzorky"
   ]
  },
  {
   "cell_type": "code",
   "execution_count": 11,
   "metadata": {},
   "outputs": [],
   "source": [
    "data_train.loc[data_train['education'].isnull(), 'education'] = t.most_common(data_train['education'].dropna())"
   ]
  },
  {
   "cell_type": "markdown",
   "metadata": {},
   "source": [
    "Pre testovacie vzorky"
   ]
  },
  {
   "cell_type": "code",
   "execution_count": 12,
   "metadata": {},
   "outputs": [],
   "source": [
    "data_test.loc[data_test['education'].isnull(), 'education'] = t.most_common(data_test['education'].dropna())"
   ]
  },
  {
   "cell_type": "code",
   "execution_count": 13,
   "metadata": {},
   "outputs": [],
   "source": [
    "data_train = t.one_hot_encode(data_train, 'education')\n",
    "data_test = t.one_hot_encode(data_test, 'education')"
   ]
  },
  {
   "cell_type": "markdown",
   "metadata": {},
   "source": [
    "## Doplnenie atributu 'job'. Predikujeme chybajuce hodnoty za pomoci atributu 'education'."
   ]
  },
  {
   "cell_type": "markdown",
   "metadata": {},
   "source": [
    "Trenovacie vzorky"
   ]
  },
  {
   "cell_type": "code",
   "execution_count": 14,
   "metadata": {},
   "outputs": [
    {
     "name": "stdout",
     "output_type": "stream",
     "text": [
      "0.12724070544524596\n",
      "0.21329827016333325\n"
     ]
    }
   ],
   "source": [
    "data_train = t.predict_values(data_train, 'job', ['education'])"
   ]
  },
  {
   "cell_type": "markdown",
   "metadata": {},
   "source": [
    "Testovacie vzorky"
   ]
  },
  {
   "cell_type": "code",
   "execution_count": 15,
   "metadata": {},
   "outputs": [
    {
     "name": "stdout",
     "output_type": "stream",
     "text": [
      "0.1801145742305078\n",
      "0.20662200213612972\n"
     ]
    }
   ],
   "source": [
    "data_test = t.predict_values(data_test, 'job', ['education'])"
   ]
  },
  {
   "cell_type": "markdown",
   "metadata": {},
   "source": [
    "Po doplneni, potrebujeme zanecodovat pomocou one hot encodera hodnoty jobu."
   ]
  },
  {
   "cell_type": "code",
   "execution_count": 16,
   "metadata": {},
   "outputs": [],
   "source": [
    "data_train = t.one_hot_encode(data_train, 'job')\n",
    "data_test = t.one_hot_encode(data_test, 'job')"
   ]
  },
  {
   "cell_type": "markdown",
   "metadata": {},
   "source": [
    "## Doplnenie hodnot 'income' za pomoci predikcie kNN a decision trees"
   ]
  },
  {
   "cell_type": "markdown",
   "metadata": {},
   "source": [
    "Najprv si premapujeme hodnoty -1 z income na nan"
   ]
  },
  {
   "cell_type": "code",
   "execution_count": 17,
   "metadata": {},
   "outputs": [],
   "source": [
    "data_train.loc[data_train['income'] == -1, 'income'] = np.nan\n",
    "data_test.loc[data_test['income'] == -1, 'income'] = np.nan"
   ]
  },
  {
   "cell_type": "markdown",
   "metadata": {},
   "source": [
    "Trenovacie vzorky"
   ]
  },
  {
   "cell_type": "code",
   "execution_count": 18,
   "metadata": {},
   "outputs": [
    {
     "name": "stdout",
     "output_type": "stream",
     "text": [
      "0.31926465789187425\n",
      "0.33014249972805393\n"
     ]
    }
   ],
   "source": [
    "data_train = t.predict_values(data_train, 'income', ['education', 'job'])"
   ]
  },
  {
   "cell_type": "markdown",
   "metadata": {},
   "source": [
    "Testovacie vzorky"
   ]
  },
  {
   "cell_type": "code",
   "execution_count": 19,
   "metadata": {},
   "outputs": [
    {
     "name": "stdout",
     "output_type": "stream",
     "text": [
      "0.3513630463003029\n",
      "0.292081350064907\n"
     ]
    }
   ],
   "source": [
    "data_test = t.predict_values(data_test, 'income', ['education', 'job'])"
   ]
  },
  {
   "cell_type": "markdown",
   "metadata": {},
   "source": [
    "## Doplnenie hodnoty 'diet' pouzijuc kNN a decision trees"
   ]
  },
  {
   "cell_type": "markdown",
   "metadata": {},
   "source": [
    "Ako bolo vidno z heatmape korelacii atributov, jestvuje dobra zavislost medzi atributom diet a offspring, takze najprv doplnim atribut offspring najcastejsou hodnotou a potom pouzijem atribut 'offspring' na predpoved chybajucich hodnot v atribute diet."
   ]
  },
  {
   "cell_type": "code",
   "execution_count": 20,
   "metadata": {},
   "outputs": [],
   "source": [
    "most_common_offspring = t.most_common(data_train['offspring'].dropna())\n",
    "data_train.loc[data_train['offspring'].isnull(), 'offspring'] = most_common_offspring"
   ]
  },
  {
   "cell_type": "code",
   "execution_count": 21,
   "metadata": {},
   "outputs": [],
   "source": [
    "most_common_offspring = t.most_common(data_test['offspring'].dropna())\n",
    "data_test.loc[data_test['offspring'].isnull(), 'offspring'] = most_common_offspring"
   ]
  },
  {
   "cell_type": "markdown",
   "metadata": {},
   "source": [
    "## Nasleduje doplnenie atributu 'diet' na zaklade atributu 'offspring'."
   ]
  },
  {
   "cell_type": "markdown",
   "metadata": {},
   "source": [
    "Trenovacie vzorky"
   ]
  },
  {
   "cell_type": "code",
   "execution_count": 22,
   "metadata": {},
   "outputs": [
    {
     "name": "stdout",
     "output_type": "stream",
     "text": [
      "0.45450075510132404\n",
      "0.46672286025357357\n"
     ]
    }
   ],
   "source": [
    "data_train = t.one_hot_encode(data_train, 'offspring')\n",
    "data_train = t.predict_values(data_train, 'diet', ['offspring'])"
   ]
  },
  {
   "cell_type": "markdown",
   "metadata": {},
   "source": [
    "Testovacie vzorky"
   ]
  },
  {
   "cell_type": "code",
   "execution_count": 23,
   "metadata": {},
   "outputs": [
    {
     "name": "stdout",
     "output_type": "stream",
     "text": [
      "0.39912404634077425\n",
      "0.46566826787228033\n"
     ]
    }
   ],
   "source": [
    "data_test = t.one_hot_encode(data_test, 'offspring')\n",
    "data_test = t.predict_values(data_test, 'diet', ['offspring'])"
   ]
  },
  {
   "cell_type": "markdown",
   "metadata": {},
   "source": [
    "Zaenkodujeme si predpovedane hodnoty pomocou OHC."
   ]
  },
  {
   "cell_type": "code",
   "execution_count": 24,
   "metadata": {},
   "outputs": [],
   "source": [
    "data_train = t.one_hot_encode(data_train, 'diet')\n",
    "data_test = t.one_hot_encode(data_test, 'diet')"
   ]
  },
  {
   "cell_type": "markdown",
   "metadata": {},
   "source": [
    "## Doplnenie atributu 'sign'"
   ]
  },
  {
   "cell_type": "markdown",
   "metadata": {},
   "source": [
    "Doplnime chybajuce hodnoty."
   ]
  },
  {
   "cell_type": "markdown",
   "metadata": {},
   "source": [
    "Trenovacie vzorky"
   ]
  },
  {
   "cell_type": "code",
   "execution_count": 25,
   "metadata": {
    "scrolled": false
   },
   "outputs": [
    {
     "name": "stdout",
     "output_type": "stream",
     "text": [
      "0.028498402555910542\n",
      "0.04066453674121406\n"
     ]
    }
   ],
   "source": [
    "data_train = t.predict_values(data_train, 'sign', ['job'])"
   ]
  },
  {
   "cell_type": "markdown",
   "metadata": {},
   "source": [
    "Testovacie vzorky"
   ]
  },
  {
   "cell_type": "code",
   "execution_count": 26,
   "metadata": {},
   "outputs": [
    {
     "name": "stdout",
     "output_type": "stream",
     "text": [
      "0.026216077828981055\n",
      "0.042908346134152585\n"
     ]
    }
   ],
   "source": [
    "data_test = t.predict_values(data_test, 'sign', ['job'])"
   ]
  },
  {
   "cell_type": "markdown",
   "metadata": {},
   "source": [
    "Po doplneni, zjedoduchsime hodnoty atributu 'sign' iba do 4-och kategoriach."
   ]
  },
  {
   "cell_type": "code",
   "execution_count": 27,
   "metadata": {},
   "outputs": [],
   "source": [
    "def simplify_sign(sign):\n",
    "    if str(sign) == \"nan\":\n",
    "        return sign\n",
    "    \n",
    "    if \"fun to think about\" in sign:\n",
    "        return \"fun\"\n",
    "    \n",
    "    if \"doesn&rsquo;t matter\" in sign:\n",
    "        return \"doesn't matter\"\n",
    "    \n",
    "    if \"and it matters a lot\" in sign:\n",
    "        return \"matters a lot\"\n",
    "    \n",
    "    return \"other\""
   ]
  },
  {
   "cell_type": "code",
   "execution_count": 28,
   "metadata": {
    "scrolled": true
   },
   "outputs": [],
   "source": [
    "data_train['simplified_sign'] = data_train['sign'].map(lambda x: simplify_sign(x))\n",
    "data_test['simplified_sign'] = data_test['sign'].map(lambda x: simplify_sign(x))"
   ]
  },
  {
   "cell_type": "markdown",
   "metadata": {},
   "source": [
    "Zaenkodujeme hodnoty pouzijuc one hot encoder"
   ]
  },
  {
   "cell_type": "code",
   "execution_count": 29,
   "metadata": {},
   "outputs": [],
   "source": [
    "data_train = t.one_hot_encode(data_train, 'simplified_sign')\n",
    "data_test = t.one_hot_encode(data_test, 'simplified_sign')"
   ]
  },
  {
   "cell_type": "markdown",
   "metadata": {},
   "source": [
    "# Predikcia pohlavia na zaklade vytvorenych atributov"
   ]
  },
  {
   "cell_type": "markdown",
   "metadata": {},
   "source": [
    "Vytvorenie noveho dataframeu kde budeme mat iba potrebne atributy pre nasu predikciu."
   ]
  },
  {
   "cell_type": "code",
   "execution_count": 30,
   "metadata": {},
   "outputs": [],
   "source": [
    "data_train_Y = data_train.loc[:, 'sex']"
   ]
  },
  {
   "cell_type": "markdown",
   "metadata": {},
   "source": [
    "Vytvorenie X/Y vzorkov z testovacieho datasetu"
   ]
  },
  {
   "cell_type": "code",
   "execution_count": 38,
   "metadata": {},
   "outputs": [
    {
     "data": {
      "text/html": [
       "<div>\n",
       "<style scoped>\n",
       "    .dataframe tbody tr th:only-of-type {\n",
       "        vertical-align: middle;\n",
       "    }\n",
       "\n",
       "    .dataframe tbody tr th {\n",
       "        vertical-align: top;\n",
       "    }\n",
       "\n",
       "    .dataframe thead th {\n",
       "        text-align: right;\n",
       "    }\n",
       "</style>\n",
       "<table border=\"1\" class=\"dataframe\">\n",
       "  <thead>\n",
       "    <tr style=\"text-align: right;\">\n",
       "      <th></th>\n",
       "      <th>height</th>\n",
       "      <th>education_working on college/university</th>\n",
       "      <th>education_graduated from college/university</th>\n",
       "      <th>education_graduated from masters program</th>\n",
       "      <th>education_working on med school</th>\n",
       "      <th>education_graduated from law school</th>\n",
       "      <th>education_graduated from high school</th>\n",
       "      <th>education_working on masters program</th>\n",
       "      <th>education_dropped out of college/university</th>\n",
       "      <th>education_working on high school</th>\n",
       "      <th>education_dropped out of med school</th>\n",
       "      <th>education_working on ph.d program</th>\n",
       "      <th>education_college/university</th>\n",
       "      <th>education_graduated from two-year college</th>\n",
       "      <th>education_working on two-year college</th>\n",
       "      <th>education_graduated from space camp</th>\n",
       "      <th>education_working on space camp</th>\n",
       "      <th>education_working on law school</th>\n",
       "      <th>education_dropped out of two-year college</th>\n",
       "      <th>education_dropped out of masters program</th>\n",
       "      <th>education_high school</th>\n",
       "      <th>education_graduated from ph.d program</th>\n",
       "      <th>education_masters program</th>\n",
       "      <th>education_dropped out of ph.d program</th>\n",
       "      <th>education_graduated from med school</th>\n",
       "      <th>education_dropped out of space camp</th>\n",
       "      <th>education_two-year college</th>\n",
       "      <th>education_dropped out of high school</th>\n",
       "      <th>education_dropped out of law school</th>\n",
       "      <th>education_med school</th>\n",
       "      <th>education_space camp</th>\n",
       "      <th>education_ph.d program</th>\n",
       "      <th>education_law school</th>\n",
       "      <th>body_type_average</th>\n",
       "      <th>body_type_fit</th>\n",
       "      <th>body_type_athletic</th>\n",
       "      <th>body_type_a little extra</th>\n",
       "      <th>body_type_thin</th>\n",
       "      <th>body_type_curvy</th>\n",
       "      <th>body_type_skinny</th>\n",
       "      <th>body_type_rather not say</th>\n",
       "      <th>body_type_jacked</th>\n",
       "      <th>body_type_overweight</th>\n",
       "      <th>body_type_full figured</th>\n",
       "      <th>body_type_used up</th>\n",
       "      <th>diet_mostly anything</th>\n",
       "      <th>diet_mostly other</th>\n",
       "      <th>diet_mostly vegetarian</th>\n",
       "      <th>diet_strictly anything</th>\n",
       "      <th>diet_anything</th>\n",
       "      <th>diet_strictly vegetarian</th>\n",
       "      <th>diet_strictly other</th>\n",
       "      <th>diet_mostly vegan</th>\n",
       "      <th>diet_vegetarian</th>\n",
       "      <th>diet_other</th>\n",
       "      <th>diet_mostly kosher</th>\n",
       "      <th>diet_strictly vegan</th>\n",
       "      <th>diet_kosher</th>\n",
       "      <th>diet_vegan</th>\n",
       "      <th>diet_strictly kosher</th>\n",
       "      <th>diet_strictly halal</th>\n",
       "      <th>diet_mostly halal</th>\n",
       "      <th>diet_halal</th>\n",
       "      <th>job_student</th>\n",
       "      <th>job_sales / marketing / biz dev</th>\n",
       "      <th>job_executive / management</th>\n",
       "      <th>job_medicine / health</th>\n",
       "      <th>job_education / academia</th>\n",
       "      <th>job_artistic / musical / writer</th>\n",
       "      <th>job_science / tech / engineering</th>\n",
       "      <th>job_other</th>\n",
       "      <th>job_law / legal services</th>\n",
       "      <th>job_banking / financial / real estate</th>\n",
       "      <th>job_computer / hardware / software</th>\n",
       "      <th>job_rather not say</th>\n",
       "      <th>job_construction / craftsmanship</th>\n",
       "      <th>job_entertainment / media</th>\n",
       "      <th>job_hospitality / travel</th>\n",
       "      <th>job_retired</th>\n",
       "      <th>job_clerical / administrative</th>\n",
       "      <th>job_military</th>\n",
       "      <th>job_political / government</th>\n",
       "      <th>job_transportation</th>\n",
       "      <th>job_unemployed</th>\n",
       "      <th>simplified_sign_fun</th>\n",
       "      <th>simplified_sign_other</th>\n",
       "      <th>simplified_sign_doesn't matter</th>\n",
       "      <th>simplified_sign_matters a lot</th>\n",
       "    </tr>\n",
       "  </thead>\n",
       "  <tbody>\n",
       "    <tr>\n",
       "      <th>8414</th>\n",
       "      <td>64.0</td>\n",
       "      <td>1</td>\n",
       "      <td>0</td>\n",
       "      <td>0</td>\n",
       "      <td>0</td>\n",
       "      <td>0</td>\n",
       "      <td>0</td>\n",
       "      <td>0</td>\n",
       "      <td>0</td>\n",
       "      <td>0</td>\n",
       "      <td>0</td>\n",
       "      <td>0</td>\n",
       "      <td>0</td>\n",
       "      <td>0</td>\n",
       "      <td>0</td>\n",
       "      <td>0</td>\n",
       "      <td>0</td>\n",
       "      <td>0</td>\n",
       "      <td>0</td>\n",
       "      <td>0</td>\n",
       "      <td>0</td>\n",
       "      <td>0</td>\n",
       "      <td>0</td>\n",
       "      <td>0</td>\n",
       "      <td>0</td>\n",
       "      <td>0</td>\n",
       "      <td>0</td>\n",
       "      <td>0</td>\n",
       "      <td>0</td>\n",
       "      <td>0</td>\n",
       "      <td>0</td>\n",
       "      <td>0</td>\n",
       "      <td>0</td>\n",
       "      <td>1</td>\n",
       "      <td>0</td>\n",
       "      <td>0</td>\n",
       "      <td>0</td>\n",
       "      <td>0</td>\n",
       "      <td>0</td>\n",
       "      <td>0</td>\n",
       "      <td>0</td>\n",
       "      <td>0</td>\n",
       "      <td>0</td>\n",
       "      <td>0</td>\n",
       "      <td>0</td>\n",
       "      <td>1</td>\n",
       "      <td>0</td>\n",
       "      <td>0</td>\n",
       "      <td>0</td>\n",
       "      <td>0</td>\n",
       "      <td>0</td>\n",
       "      <td>0</td>\n",
       "      <td>0</td>\n",
       "      <td>0</td>\n",
       "      <td>0</td>\n",
       "      <td>0</td>\n",
       "      <td>0</td>\n",
       "      <td>0</td>\n",
       "      <td>0</td>\n",
       "      <td>0</td>\n",
       "      <td>0</td>\n",
       "      <td>0</td>\n",
       "      <td>0</td>\n",
       "      <td>1</td>\n",
       "      <td>0</td>\n",
       "      <td>0</td>\n",
       "      <td>0</td>\n",
       "      <td>0</td>\n",
       "      <td>0</td>\n",
       "      <td>0</td>\n",
       "      <td>0</td>\n",
       "      <td>0</td>\n",
       "      <td>0</td>\n",
       "      <td>0</td>\n",
       "      <td>0</td>\n",
       "      <td>0</td>\n",
       "      <td>0</td>\n",
       "      <td>0</td>\n",
       "      <td>0</td>\n",
       "      <td>0</td>\n",
       "      <td>0</td>\n",
       "      <td>0</td>\n",
       "      <td>0</td>\n",
       "      <td>0</td>\n",
       "      <td>1</td>\n",
       "      <td>0</td>\n",
       "      <td>0</td>\n",
       "      <td>0</td>\n",
       "    </tr>\n",
       "    <tr>\n",
       "      <th>35088</th>\n",
       "      <td>65.0</td>\n",
       "      <td>0</td>\n",
       "      <td>1</td>\n",
       "      <td>0</td>\n",
       "      <td>0</td>\n",
       "      <td>0</td>\n",
       "      <td>0</td>\n",
       "      <td>0</td>\n",
       "      <td>0</td>\n",
       "      <td>0</td>\n",
       "      <td>0</td>\n",
       "      <td>0</td>\n",
       "      <td>0</td>\n",
       "      <td>0</td>\n",
       "      <td>0</td>\n",
       "      <td>0</td>\n",
       "      <td>0</td>\n",
       "      <td>0</td>\n",
       "      <td>0</td>\n",
       "      <td>0</td>\n",
       "      <td>0</td>\n",
       "      <td>0</td>\n",
       "      <td>0</td>\n",
       "      <td>0</td>\n",
       "      <td>0</td>\n",
       "      <td>0</td>\n",
       "      <td>0</td>\n",
       "      <td>0</td>\n",
       "      <td>0</td>\n",
       "      <td>0</td>\n",
       "      <td>0</td>\n",
       "      <td>0</td>\n",
       "      <td>0</td>\n",
       "      <td>0</td>\n",
       "      <td>1</td>\n",
       "      <td>0</td>\n",
       "      <td>0</td>\n",
       "      <td>0</td>\n",
       "      <td>0</td>\n",
       "      <td>0</td>\n",
       "      <td>0</td>\n",
       "      <td>0</td>\n",
       "      <td>0</td>\n",
       "      <td>0</td>\n",
       "      <td>0</td>\n",
       "      <td>1</td>\n",
       "      <td>0</td>\n",
       "      <td>0</td>\n",
       "      <td>0</td>\n",
       "      <td>0</td>\n",
       "      <td>0</td>\n",
       "      <td>0</td>\n",
       "      <td>0</td>\n",
       "      <td>0</td>\n",
       "      <td>0</td>\n",
       "      <td>0</td>\n",
       "      <td>0</td>\n",
       "      <td>0</td>\n",
       "      <td>0</td>\n",
       "      <td>0</td>\n",
       "      <td>0</td>\n",
       "      <td>0</td>\n",
       "      <td>0</td>\n",
       "      <td>0</td>\n",
       "      <td>1</td>\n",
       "      <td>0</td>\n",
       "      <td>0</td>\n",
       "      <td>0</td>\n",
       "      <td>0</td>\n",
       "      <td>0</td>\n",
       "      <td>0</td>\n",
       "      <td>0</td>\n",
       "      <td>0</td>\n",
       "      <td>0</td>\n",
       "      <td>0</td>\n",
       "      <td>0</td>\n",
       "      <td>0</td>\n",
       "      <td>0</td>\n",
       "      <td>0</td>\n",
       "      <td>0</td>\n",
       "      <td>0</td>\n",
       "      <td>0</td>\n",
       "      <td>0</td>\n",
       "      <td>0</td>\n",
       "      <td>0</td>\n",
       "      <td>1</td>\n",
       "      <td>0</td>\n",
       "      <td>0</td>\n",
       "    </tr>\n",
       "    <tr>\n",
       "      <th>24943</th>\n",
       "      <td>72.0</td>\n",
       "      <td>0</td>\n",
       "      <td>1</td>\n",
       "      <td>0</td>\n",
       "      <td>0</td>\n",
       "      <td>0</td>\n",
       "      <td>0</td>\n",
       "      <td>0</td>\n",
       "      <td>0</td>\n",
       "      <td>0</td>\n",
       "      <td>0</td>\n",
       "      <td>0</td>\n",
       "      <td>0</td>\n",
       "      <td>0</td>\n",
       "      <td>0</td>\n",
       "      <td>0</td>\n",
       "      <td>0</td>\n",
       "      <td>0</td>\n",
       "      <td>0</td>\n",
       "      <td>0</td>\n",
       "      <td>0</td>\n",
       "      <td>0</td>\n",
       "      <td>0</td>\n",
       "      <td>0</td>\n",
       "      <td>0</td>\n",
       "      <td>0</td>\n",
       "      <td>0</td>\n",
       "      <td>0</td>\n",
       "      <td>0</td>\n",
       "      <td>0</td>\n",
       "      <td>0</td>\n",
       "      <td>0</td>\n",
       "      <td>0</td>\n",
       "      <td>0</td>\n",
       "      <td>1</td>\n",
       "      <td>0</td>\n",
       "      <td>0</td>\n",
       "      <td>0</td>\n",
       "      <td>0</td>\n",
       "      <td>0</td>\n",
       "      <td>0</td>\n",
       "      <td>0</td>\n",
       "      <td>0</td>\n",
       "      <td>0</td>\n",
       "      <td>0</td>\n",
       "      <td>1</td>\n",
       "      <td>0</td>\n",
       "      <td>0</td>\n",
       "      <td>0</td>\n",
       "      <td>0</td>\n",
       "      <td>0</td>\n",
       "      <td>0</td>\n",
       "      <td>0</td>\n",
       "      <td>0</td>\n",
       "      <td>0</td>\n",
       "      <td>0</td>\n",
       "      <td>0</td>\n",
       "      <td>0</td>\n",
       "      <td>0</td>\n",
       "      <td>0</td>\n",
       "      <td>0</td>\n",
       "      <td>0</td>\n",
       "      <td>0</td>\n",
       "      <td>0</td>\n",
       "      <td>0</td>\n",
       "      <td>1</td>\n",
       "      <td>0</td>\n",
       "      <td>0</td>\n",
       "      <td>0</td>\n",
       "      <td>0</td>\n",
       "      <td>0</td>\n",
       "      <td>0</td>\n",
       "      <td>0</td>\n",
       "      <td>0</td>\n",
       "      <td>0</td>\n",
       "      <td>0</td>\n",
       "      <td>0</td>\n",
       "      <td>0</td>\n",
       "      <td>0</td>\n",
       "      <td>0</td>\n",
       "      <td>0</td>\n",
       "      <td>0</td>\n",
       "      <td>0</td>\n",
       "      <td>0</td>\n",
       "      <td>0</td>\n",
       "      <td>0</td>\n",
       "      <td>1</td>\n",
       "      <td>0</td>\n",
       "    </tr>\n",
       "    <tr>\n",
       "      <th>33238</th>\n",
       "      <td>68.0</td>\n",
       "      <td>0</td>\n",
       "      <td>0</td>\n",
       "      <td>1</td>\n",
       "      <td>0</td>\n",
       "      <td>0</td>\n",
       "      <td>0</td>\n",
       "      <td>0</td>\n",
       "      <td>0</td>\n",
       "      <td>0</td>\n",
       "      <td>0</td>\n",
       "      <td>0</td>\n",
       "      <td>0</td>\n",
       "      <td>0</td>\n",
       "      <td>0</td>\n",
       "      <td>0</td>\n",
       "      <td>0</td>\n",
       "      <td>0</td>\n",
       "      <td>0</td>\n",
       "      <td>0</td>\n",
       "      <td>0</td>\n",
       "      <td>0</td>\n",
       "      <td>0</td>\n",
       "      <td>0</td>\n",
       "      <td>0</td>\n",
       "      <td>0</td>\n",
       "      <td>0</td>\n",
       "      <td>0</td>\n",
       "      <td>0</td>\n",
       "      <td>0</td>\n",
       "      <td>0</td>\n",
       "      <td>0</td>\n",
       "      <td>0</td>\n",
       "      <td>0</td>\n",
       "      <td>0</td>\n",
       "      <td>1</td>\n",
       "      <td>0</td>\n",
       "      <td>0</td>\n",
       "      <td>0</td>\n",
       "      <td>0</td>\n",
       "      <td>0</td>\n",
       "      <td>0</td>\n",
       "      <td>0</td>\n",
       "      <td>0</td>\n",
       "      <td>0</td>\n",
       "      <td>0</td>\n",
       "      <td>1</td>\n",
       "      <td>0</td>\n",
       "      <td>0</td>\n",
       "      <td>0</td>\n",
       "      <td>0</td>\n",
       "      <td>0</td>\n",
       "      <td>0</td>\n",
       "      <td>0</td>\n",
       "      <td>0</td>\n",
       "      <td>0</td>\n",
       "      <td>0</td>\n",
       "      <td>0</td>\n",
       "      <td>0</td>\n",
       "      <td>0</td>\n",
       "      <td>0</td>\n",
       "      <td>0</td>\n",
       "      <td>0</td>\n",
       "      <td>0</td>\n",
       "      <td>0</td>\n",
       "      <td>0</td>\n",
       "      <td>1</td>\n",
       "      <td>0</td>\n",
       "      <td>0</td>\n",
       "      <td>0</td>\n",
       "      <td>0</td>\n",
       "      <td>0</td>\n",
       "      <td>0</td>\n",
       "      <td>0</td>\n",
       "      <td>0</td>\n",
       "      <td>0</td>\n",
       "      <td>0</td>\n",
       "      <td>0</td>\n",
       "      <td>0</td>\n",
       "      <td>0</td>\n",
       "      <td>0</td>\n",
       "      <td>0</td>\n",
       "      <td>0</td>\n",
       "      <td>0</td>\n",
       "      <td>1</td>\n",
       "      <td>0</td>\n",
       "      <td>0</td>\n",
       "      <td>0</td>\n",
       "    </tr>\n",
       "    <tr>\n",
       "      <th>195</th>\n",
       "      <td>63.0</td>\n",
       "      <td>0</td>\n",
       "      <td>0</td>\n",
       "      <td>1</td>\n",
       "      <td>0</td>\n",
       "      <td>0</td>\n",
       "      <td>0</td>\n",
       "      <td>0</td>\n",
       "      <td>0</td>\n",
       "      <td>0</td>\n",
       "      <td>0</td>\n",
       "      <td>0</td>\n",
       "      <td>0</td>\n",
       "      <td>0</td>\n",
       "      <td>0</td>\n",
       "      <td>0</td>\n",
       "      <td>0</td>\n",
       "      <td>0</td>\n",
       "      <td>0</td>\n",
       "      <td>0</td>\n",
       "      <td>0</td>\n",
       "      <td>0</td>\n",
       "      <td>0</td>\n",
       "      <td>0</td>\n",
       "      <td>0</td>\n",
       "      <td>0</td>\n",
       "      <td>0</td>\n",
       "      <td>0</td>\n",
       "      <td>0</td>\n",
       "      <td>0</td>\n",
       "      <td>0</td>\n",
       "      <td>0</td>\n",
       "      <td>0</td>\n",
       "      <td>0</td>\n",
       "      <td>0</td>\n",
       "      <td>0</td>\n",
       "      <td>1</td>\n",
       "      <td>0</td>\n",
       "      <td>0</td>\n",
       "      <td>0</td>\n",
       "      <td>0</td>\n",
       "      <td>0</td>\n",
       "      <td>0</td>\n",
       "      <td>0</td>\n",
       "      <td>0</td>\n",
       "      <td>1</td>\n",
       "      <td>0</td>\n",
       "      <td>0</td>\n",
       "      <td>0</td>\n",
       "      <td>0</td>\n",
       "      <td>0</td>\n",
       "      <td>0</td>\n",
       "      <td>0</td>\n",
       "      <td>0</td>\n",
       "      <td>0</td>\n",
       "      <td>0</td>\n",
       "      <td>0</td>\n",
       "      <td>0</td>\n",
       "      <td>0</td>\n",
       "      <td>0</td>\n",
       "      <td>0</td>\n",
       "      <td>0</td>\n",
       "      <td>0</td>\n",
       "      <td>0</td>\n",
       "      <td>0</td>\n",
       "      <td>0</td>\n",
       "      <td>0</td>\n",
       "      <td>1</td>\n",
       "      <td>0</td>\n",
       "      <td>0</td>\n",
       "      <td>0</td>\n",
       "      <td>0</td>\n",
       "      <td>0</td>\n",
       "      <td>0</td>\n",
       "      <td>0</td>\n",
       "      <td>0</td>\n",
       "      <td>0</td>\n",
       "      <td>0</td>\n",
       "      <td>0</td>\n",
       "      <td>0</td>\n",
       "      <td>0</td>\n",
       "      <td>0</td>\n",
       "      <td>0</td>\n",
       "      <td>0</td>\n",
       "      <td>1</td>\n",
       "      <td>0</td>\n",
       "      <td>0</td>\n",
       "      <td>0</td>\n",
       "    </tr>\n",
       "  </tbody>\n",
       "</table>\n",
       "</div>"
      ],
      "text/plain": [
       "       height  education_working on college/university  \\\n",
       "8414     64.0                                        1   \n",
       "35088    65.0                                        0   \n",
       "24943    72.0                                        0   \n",
       "33238    68.0                                        0   \n",
       "195      63.0                                        0   \n",
       "\n",
       "       education_graduated from college/university  \\\n",
       "8414                                             0   \n",
       "35088                                            1   \n",
       "24943                                            1   \n",
       "33238                                            0   \n",
       "195                                              0   \n",
       "\n",
       "       education_graduated from masters program  \\\n",
       "8414                                          0   \n",
       "35088                                         0   \n",
       "24943                                         0   \n",
       "33238                                         1   \n",
       "195                                           1   \n",
       "\n",
       "       education_working on med school  education_graduated from law school  \\\n",
       "8414                                 0                                    0   \n",
       "35088                                0                                    0   \n",
       "24943                                0                                    0   \n",
       "33238                                0                                    0   \n",
       "195                                  0                                    0   \n",
       "\n",
       "       education_graduated from high school  \\\n",
       "8414                                      0   \n",
       "35088                                     0   \n",
       "24943                                     0   \n",
       "33238                                     0   \n",
       "195                                       0   \n",
       "\n",
       "       education_working on masters program  \\\n",
       "8414                                      0   \n",
       "35088                                     0   \n",
       "24943                                     0   \n",
       "33238                                     0   \n",
       "195                                       0   \n",
       "\n",
       "       education_dropped out of college/university  \\\n",
       "8414                                             0   \n",
       "35088                                            0   \n",
       "24943                                            0   \n",
       "33238                                            0   \n",
       "195                                              0   \n",
       "\n",
       "       education_working on high school  education_dropped out of med school  \\\n",
       "8414                                  0                                    0   \n",
       "35088                                 0                                    0   \n",
       "24943                                 0                                    0   \n",
       "33238                                 0                                    0   \n",
       "195                                   0                                    0   \n",
       "\n",
       "       education_working on ph.d program  education_college/university  \\\n",
       "8414                                   0                             0   \n",
       "35088                                  0                             0   \n",
       "24943                                  0                             0   \n",
       "33238                                  0                             0   \n",
       "195                                    0                             0   \n",
       "\n",
       "       education_graduated from two-year college  \\\n",
       "8414                                           0   \n",
       "35088                                          0   \n",
       "24943                                          0   \n",
       "33238                                          0   \n",
       "195                                            0   \n",
       "\n",
       "       education_working on two-year college  \\\n",
       "8414                                       0   \n",
       "35088                                      0   \n",
       "24943                                      0   \n",
       "33238                                      0   \n",
       "195                                        0   \n",
       "\n",
       "       education_graduated from space camp  education_working on space camp  \\\n",
       "8414                                     0                                0   \n",
       "35088                                    0                                0   \n",
       "24943                                    0                                0   \n",
       "33238                                    0                                0   \n",
       "195                                      0                                0   \n",
       "\n",
       "       education_working on law school  \\\n",
       "8414                                 0   \n",
       "35088                                0   \n",
       "24943                                0   \n",
       "33238                                0   \n",
       "195                                  0   \n",
       "\n",
       "       education_dropped out of two-year college  \\\n",
       "8414                                           0   \n",
       "35088                                          0   \n",
       "24943                                          0   \n",
       "33238                                          0   \n",
       "195                                            0   \n",
       "\n",
       "       education_dropped out of masters program  education_high school  \\\n",
       "8414                                          0                      0   \n",
       "35088                                         0                      0   \n",
       "24943                                         0                      0   \n",
       "33238                                         0                      0   \n",
       "195                                           0                      0   \n",
       "\n",
       "       education_graduated from ph.d program  education_masters program  \\\n",
       "8414                                       0                          0   \n",
       "35088                                      0                          0   \n",
       "24943                                      0                          0   \n",
       "33238                                      0                          0   \n",
       "195                                        0                          0   \n",
       "\n",
       "       education_dropped out of ph.d program  \\\n",
       "8414                                       0   \n",
       "35088                                      0   \n",
       "24943                                      0   \n",
       "33238                                      0   \n",
       "195                                        0   \n",
       "\n",
       "       education_graduated from med school  \\\n",
       "8414                                     0   \n",
       "35088                                    0   \n",
       "24943                                    0   \n",
       "33238                                    0   \n",
       "195                                      0   \n",
       "\n",
       "       education_dropped out of space camp  education_two-year college  \\\n",
       "8414                                     0                           0   \n",
       "35088                                    0                           0   \n",
       "24943                                    0                           0   \n",
       "33238                                    0                           0   \n",
       "195                                      0                           0   \n",
       "\n",
       "       education_dropped out of high school  \\\n",
       "8414                                      0   \n",
       "35088                                     0   \n",
       "24943                                     0   \n",
       "33238                                     0   \n",
       "195                                       0   \n",
       "\n",
       "       education_dropped out of law school  education_med school  \\\n",
       "8414                                     0                     0   \n",
       "35088                                    0                     0   \n",
       "24943                                    0                     0   \n",
       "33238                                    0                     0   \n",
       "195                                      0                     0   \n",
       "\n",
       "       education_space camp  education_ph.d program  education_law school  \\\n",
       "8414                      0                       0                     0   \n",
       "35088                     0                       0                     0   \n",
       "24943                     0                       0                     0   \n",
       "33238                     0                       0                     0   \n",
       "195                       0                       0                     0   \n",
       "\n",
       "       body_type_average  body_type_fit  body_type_athletic  \\\n",
       "8414                   1              0                   0   \n",
       "35088                  0              1                   0   \n",
       "24943                  0              1                   0   \n",
       "33238                  0              0                   1   \n",
       "195                    0              0                   0   \n",
       "\n",
       "       body_type_a little extra  body_type_thin  body_type_curvy  \\\n",
       "8414                          0               0                0   \n",
       "35088                         0               0                0   \n",
       "24943                         0               0                0   \n",
       "33238                         0               0                0   \n",
       "195                           1               0                0   \n",
       "\n",
       "       body_type_skinny  body_type_rather not say  body_type_jacked  \\\n",
       "8414                  0                         0                 0   \n",
       "35088                 0                         0                 0   \n",
       "24943                 0                         0                 0   \n",
       "33238                 0                         0                 0   \n",
       "195                   0                         0                 0   \n",
       "\n",
       "       body_type_overweight  body_type_full figured  body_type_used up  \\\n",
       "8414                      0                       0                  0   \n",
       "35088                     0                       0                  0   \n",
       "24943                     0                       0                  0   \n",
       "33238                     0                       0                  0   \n",
       "195                       0                       0                  0   \n",
       "\n",
       "       diet_mostly anything  diet_mostly other  diet_mostly vegetarian  \\\n",
       "8414                      1                  0                       0   \n",
       "35088                     1                  0                       0   \n",
       "24943                     1                  0                       0   \n",
       "33238                     0                  1                       0   \n",
       "195                       1                  0                       0   \n",
       "\n",
       "       diet_strictly anything  diet_anything  diet_strictly vegetarian  \\\n",
       "8414                        0              0                         0   \n",
       "35088                       0              0                         0   \n",
       "24943                       0              0                         0   \n",
       "33238                       0              0                         0   \n",
       "195                         0              0                         0   \n",
       "\n",
       "       diet_strictly other  diet_mostly vegan  diet_vegetarian  diet_other  \\\n",
       "8414                     0                  0                0           0   \n",
       "35088                    0                  0                0           0   \n",
       "24943                    0                  0                0           0   \n",
       "33238                    0                  0                0           0   \n",
       "195                      0                  0                0           0   \n",
       "\n",
       "       diet_mostly kosher  diet_strictly vegan  diet_kosher  diet_vegan  \\\n",
       "8414                    0                    0            0           0   \n",
       "35088                   0                    0            0           0   \n",
       "24943                   0                    0            0           0   \n",
       "33238                   0                    0            0           0   \n",
       "195                     0                    0            0           0   \n",
       "\n",
       "       diet_strictly kosher  diet_strictly halal  diet_mostly halal  \\\n",
       "8414                      0                    0                  0   \n",
       "35088                     0                    0                  0   \n",
       "24943                     0                    0                  0   \n",
       "33238                     0                    0                  0   \n",
       "195                       0                    0                  0   \n",
       "\n",
       "       diet_halal  job_student  job_sales / marketing / biz dev  \\\n",
       "8414            0            1                                0   \n",
       "35088           0            0                                1   \n",
       "24943           0            0                                0   \n",
       "33238           0            0                                0   \n",
       "195             0            0                                0   \n",
       "\n",
       "       job_executive / management  job_medicine / health  \\\n",
       "8414                            0                      0   \n",
       "35088                           0                      0   \n",
       "24943                           1                      0   \n",
       "33238                           0                      1   \n",
       "195                             0                      0   \n",
       "\n",
       "       job_education / academia  job_artistic / musical / writer  \\\n",
       "8414                          0                                0   \n",
       "35088                         0                                0   \n",
       "24943                         0                                0   \n",
       "33238                         0                                0   \n",
       "195                           1                                0   \n",
       "\n",
       "       job_science / tech / engineering  job_other  job_law / legal services  \\\n",
       "8414                                  0          0                         0   \n",
       "35088                                 0          0                         0   \n",
       "24943                                 0          0                         0   \n",
       "33238                                 0          0                         0   \n",
       "195                                   0          0                         0   \n",
       "\n",
       "       job_banking / financial / real estate  \\\n",
       "8414                                       0   \n",
       "35088                                      0   \n",
       "24943                                      0   \n",
       "33238                                      0   \n",
       "195                                        0   \n",
       "\n",
       "       job_computer / hardware / software  job_rather not say  \\\n",
       "8414                                    0                   0   \n",
       "35088                                   0                   0   \n",
       "24943                                   0                   0   \n",
       "33238                                   0                   0   \n",
       "195                                     0                   0   \n",
       "\n",
       "       job_construction / craftsmanship  job_entertainment / media  \\\n",
       "8414                                  0                          0   \n",
       "35088                                 0                          0   \n",
       "24943                                 0                          0   \n",
       "33238                                 0                          0   \n",
       "195                                   0                          0   \n",
       "\n",
       "       job_hospitality / travel  job_retired  job_clerical / administrative  \\\n",
       "8414                          0            0                              0   \n",
       "35088                         0            0                              0   \n",
       "24943                         0            0                              0   \n",
       "33238                         0            0                              0   \n",
       "195                           0            0                              0   \n",
       "\n",
       "       job_military  job_political / government  job_transportation  \\\n",
       "8414              0                           0                   0   \n",
       "35088             0                           0                   0   \n",
       "24943             0                           0                   0   \n",
       "33238             0                           0                   0   \n",
       "195               0                           0                   0   \n",
       "\n",
       "       job_unemployed  simplified_sign_fun  simplified_sign_other  \\\n",
       "8414                0                    1                      0   \n",
       "35088               0                    0                      1   \n",
       "24943               0                    0                      0   \n",
       "33238               0                    1                      0   \n",
       "195                 0                    1                      0   \n",
       "\n",
       "       simplified_sign_doesn't matter  simplified_sign_matters a lot  \n",
       "8414                                0                              0  \n",
       "35088                               0                              0  \n",
       "24943                               1                              0  \n",
       "33238                               0                              0  \n",
       "195                                 0                              0  "
      ]
     },
     "execution_count": 38,
     "metadata": {},
     "output_type": "execute_result"
    }
   ],
   "source": [
    "data_train_X = pd.DataFrame(data_train.loc[:, ['height']])\n",
    "data_train_X = data_train_X.join(t.get_columns_for_prediction(data_train, ['education', 'body_type', 'diet', 'job', 'simplified_sign']))\n",
    "data_train_X.head()"
   ]
  },
  {
   "cell_type": "markdown",
   "metadata": {},
   "source": [
    "To iste urobime aj pre testovaci dataset."
   ]
  },
  {
   "cell_type": "code",
   "execution_count": 39,
   "metadata": {},
   "outputs": [],
   "source": [
    "data_test_X = pd.DataFrame(data_test.loc[:, ['height']])\n",
    "data_test_X = data_test_X.join(t.get_columns_for_prediction(data_test, ['education', 'body_type', 'diet', 'job', 'simplified_sign']))"
   ]
  },
  {
   "cell_type": "code",
   "execution_count": 40,
   "metadata": {},
   "outputs": [],
   "source": [
    "data_test_Y = data_test.loc[:, 'sex']"
   ]
  },
  {
   "cell_type": "markdown",
   "metadata": {},
   "source": [
    "Preverime ci mame rovnaky pocet atributov v obydoch datasetoch."
   ]
  },
  {
   "cell_type": "code",
   "execution_count": 34,
   "metadata": {},
   "outputs": [],
   "source": [
    "missing_columns = set(data_train_X.columns) - set(data_test_X.columns)\n",
    "column_name = next(iter(missing_columns))\n",
    "\n",
    "data_train_X = data_train_X.drop(columns=[column_name], axis=1)"
   ]
  },
  {
   "cell_type": "code",
   "execution_count": 35,
   "metadata": {},
   "outputs": [
    {
     "data": {
      "text/plain": [
       "True"
      ]
     },
     "execution_count": 35,
     "metadata": {},
     "output_type": "execute_result"
    }
   ],
   "source": [
    "set(data_train_X.columns) == set(data_test_X.columns)"
   ]
  },
  {
   "cell_type": "markdown",
   "metadata": {},
   "source": [
    "## Nasleduje predikcia pohlavia za pomoci vybranych algoritmov\n",
    "Najprv si ich naimportujeme."
   ]
  },
  {
   "cell_type": "code",
   "execution_count": 41,
   "metadata": {},
   "outputs": [],
   "source": [
    "from sklearn.metrics import classification_report\n",
    "from sklearn.metrics import confusion_matrix\n",
    "from sklearn.metrics import accuracy_score\n",
    "from sklearn.metrics import roc_curve, auc\n",
    "\n",
    "from sklearn.ensemble import GradientBoostingClassifier\n",
    "from sklearn.linear_model import LogisticRegression\n",
    "from sklearn.tree import DecisionTreeClassifier\n",
    "from sklearn.ensemble import RandomForestClassifier\n",
    "from sklearn.neighbors import KNeighborsClassifier\n",
    "from sklearn.svm import SVC\n",
    "import xgboost as xgb"
   ]
  },
  {
   "cell_type": "markdown",
   "metadata": {},
   "source": [
    "Vytvorenie label encoderu a zakodovanie hodnot 'f' a 'm' na hodnoty 1 a 0"
   ]
  },
  {
   "cell_type": "code",
   "execution_count": 42,
   "metadata": {},
   "outputs": [],
   "source": [
    "from sklearn import preprocessing\n",
    "le = preprocessing.LabelEncoder()\n",
    "\n",
    "data_train_Y = le.fit_transform(data_train_Y)\n",
    "data_test_Y = le.fit_transform(data_test_Y)"
   ]
  },
  {
   "cell_type": "markdown",
   "metadata": {},
   "source": [
    "Vytvorenie pipeliny kde budeme mat klasifikacne algoritmy, ktore postupne nafitujeme datami."
   ]
  },
  {
   "cell_type": "code",
   "execution_count": 43,
   "metadata": {
    "scrolled": false
   },
   "outputs": [
    {
     "name": "stderr",
     "output_type": "stream",
     "text": [
      "/Users/edvin/anaconda3/lib/python3.6/site-packages/sklearn/linear_model/logistic.py:432: FutureWarning: Default solver will be changed to 'lbfgs' in 0.22. Specify a solver to silence this warning.\n",
      "  FutureWarning)\n"
     ]
    },
    {
     "ename": "ValueError",
     "evalue": "Input contains NaN, infinity or a value too large for dtype('float64').",
     "output_type": "error",
     "traceback": [
      "\u001b[0;31m---------------------------------------------------------------------------\u001b[0m",
      "\u001b[0;31mValueError\u001b[0m                                Traceback (most recent call last)",
      "\u001b[0;32m<ipython-input-43-30f40d87cd7b>\u001b[0m in \u001b[0;36m<module>\u001b[0;34m\u001b[0m\n\u001b[1;32m      6\u001b[0m                         ('Decission Tree', mt.ModelTransformer(DecisionTreeClassifier(max_depth=7)))]))])\n\u001b[1;32m      7\u001b[0m \u001b[0;34m\u001b[0m\u001b[0m\n\u001b[0;32m----> 8\u001b[0;31m \u001b[0mpred_algo_pipeline\u001b[0m\u001b[0;34m.\u001b[0m\u001b[0mfit\u001b[0m\u001b[0;34m(\u001b[0m\u001b[0mdata_train_X\u001b[0m\u001b[0;34m,\u001b[0m \u001b[0mdata_train_Y\u001b[0m\u001b[0;34m)\u001b[0m\u001b[0;34m\u001b[0m\u001b[0m\n\u001b[0m",
      "\u001b[0;32m~/anaconda3/lib/python3.6/site-packages/sklearn/pipeline.py\u001b[0m in \u001b[0;36mfit\u001b[0;34m(self, X, y, **fit_params)\u001b[0m\n\u001b[1;32m    265\u001b[0m         \u001b[0mXt\u001b[0m\u001b[0;34m,\u001b[0m \u001b[0mfit_params\u001b[0m \u001b[0;34m=\u001b[0m \u001b[0mself\u001b[0m\u001b[0;34m.\u001b[0m\u001b[0m_fit\u001b[0m\u001b[0;34m(\u001b[0m\u001b[0mX\u001b[0m\u001b[0;34m,\u001b[0m \u001b[0my\u001b[0m\u001b[0;34m,\u001b[0m \u001b[0;34m**\u001b[0m\u001b[0mfit_params\u001b[0m\u001b[0;34m)\u001b[0m\u001b[0;34m\u001b[0m\u001b[0m\n\u001b[1;32m    266\u001b[0m         \u001b[0;32mif\u001b[0m \u001b[0mself\u001b[0m\u001b[0;34m.\u001b[0m\u001b[0m_final_estimator\u001b[0m \u001b[0;32mis\u001b[0m \u001b[0;32mnot\u001b[0m \u001b[0;32mNone\u001b[0m\u001b[0;34m:\u001b[0m\u001b[0;34m\u001b[0m\u001b[0m\n\u001b[0;32m--> 267\u001b[0;31m             \u001b[0mself\u001b[0m\u001b[0;34m.\u001b[0m\u001b[0m_final_estimator\u001b[0m\u001b[0;34m.\u001b[0m\u001b[0mfit\u001b[0m\u001b[0;34m(\u001b[0m\u001b[0mXt\u001b[0m\u001b[0;34m,\u001b[0m \u001b[0my\u001b[0m\u001b[0;34m,\u001b[0m \u001b[0;34m**\u001b[0m\u001b[0mfit_params\u001b[0m\u001b[0;34m)\u001b[0m\u001b[0;34m\u001b[0m\u001b[0m\n\u001b[0m\u001b[1;32m    268\u001b[0m         \u001b[0;32mreturn\u001b[0m \u001b[0mself\u001b[0m\u001b[0;34m\u001b[0m\u001b[0m\n\u001b[1;32m    269\u001b[0m \u001b[0;34m\u001b[0m\u001b[0m\n",
      "\u001b[0;32m~/anaconda3/lib/python3.6/site-packages/sklearn/pipeline.py\u001b[0m in \u001b[0;36mfit\u001b[0;34m(self, X, y)\u001b[0m\n\u001b[1;32m    766\u001b[0m         transformers = Parallel(n_jobs=self.n_jobs)(\n\u001b[1;32m    767\u001b[0m             \u001b[0mdelayed\u001b[0m\u001b[0;34m(\u001b[0m\u001b[0m_fit_one_transformer\u001b[0m\u001b[0;34m)\u001b[0m\u001b[0;34m(\u001b[0m\u001b[0mtrans\u001b[0m\u001b[0;34m,\u001b[0m \u001b[0mX\u001b[0m\u001b[0;34m,\u001b[0m \u001b[0my\u001b[0m\u001b[0;34m)\u001b[0m\u001b[0;34m\u001b[0m\u001b[0m\n\u001b[0;32m--> 768\u001b[0;31m             for _, trans, _ in self._iter())\n\u001b[0m\u001b[1;32m    769\u001b[0m         \u001b[0mself\u001b[0m\u001b[0;34m.\u001b[0m\u001b[0m_update_transformer_list\u001b[0m\u001b[0;34m(\u001b[0m\u001b[0mtransformers\u001b[0m\u001b[0;34m)\u001b[0m\u001b[0;34m\u001b[0m\u001b[0m\n\u001b[1;32m    770\u001b[0m         \u001b[0;32mreturn\u001b[0m \u001b[0mself\u001b[0m\u001b[0;34m\u001b[0m\u001b[0m\n",
      "\u001b[0;32m~/anaconda3/lib/python3.6/site-packages/sklearn/externals/joblib/parallel.py\u001b[0m in \u001b[0;36m__call__\u001b[0;34m(self, iterable)\u001b[0m\n\u001b[1;32m    981\u001b[0m             \u001b[0;31m# remaining jobs.\u001b[0m\u001b[0;34m\u001b[0m\u001b[0;34m\u001b[0m\u001b[0m\n\u001b[1;32m    982\u001b[0m             \u001b[0mself\u001b[0m\u001b[0;34m.\u001b[0m\u001b[0m_iterating\u001b[0m \u001b[0;34m=\u001b[0m \u001b[0;32mFalse\u001b[0m\u001b[0;34m\u001b[0m\u001b[0m\n\u001b[0;32m--> 983\u001b[0;31m             \u001b[0;32mif\u001b[0m \u001b[0mself\u001b[0m\u001b[0;34m.\u001b[0m\u001b[0mdispatch_one_batch\u001b[0m\u001b[0;34m(\u001b[0m\u001b[0miterator\u001b[0m\u001b[0;34m)\u001b[0m\u001b[0;34m:\u001b[0m\u001b[0;34m\u001b[0m\u001b[0m\n\u001b[0m\u001b[1;32m    984\u001b[0m                 \u001b[0mself\u001b[0m\u001b[0;34m.\u001b[0m\u001b[0m_iterating\u001b[0m \u001b[0;34m=\u001b[0m \u001b[0mself\u001b[0m\u001b[0;34m.\u001b[0m\u001b[0m_original_iterator\u001b[0m \u001b[0;32mis\u001b[0m \u001b[0;32mnot\u001b[0m \u001b[0;32mNone\u001b[0m\u001b[0;34m\u001b[0m\u001b[0m\n\u001b[1;32m    985\u001b[0m \u001b[0;34m\u001b[0m\u001b[0m\n",
      "\u001b[0;32m~/anaconda3/lib/python3.6/site-packages/sklearn/externals/joblib/parallel.py\u001b[0m in \u001b[0;36mdispatch_one_batch\u001b[0;34m(self, iterator)\u001b[0m\n\u001b[1;32m    823\u001b[0m                 \u001b[0;32mreturn\u001b[0m \u001b[0;32mFalse\u001b[0m\u001b[0;34m\u001b[0m\u001b[0m\n\u001b[1;32m    824\u001b[0m             \u001b[0;32melse\u001b[0m\u001b[0;34m:\u001b[0m\u001b[0;34m\u001b[0m\u001b[0m\n\u001b[0;32m--> 825\u001b[0;31m                 \u001b[0mself\u001b[0m\u001b[0;34m.\u001b[0m\u001b[0m_dispatch\u001b[0m\u001b[0;34m(\u001b[0m\u001b[0mtasks\u001b[0m\u001b[0;34m)\u001b[0m\u001b[0;34m\u001b[0m\u001b[0m\n\u001b[0m\u001b[1;32m    826\u001b[0m                 \u001b[0;32mreturn\u001b[0m \u001b[0;32mTrue\u001b[0m\u001b[0;34m\u001b[0m\u001b[0m\n\u001b[1;32m    827\u001b[0m \u001b[0;34m\u001b[0m\u001b[0m\n",
      "\u001b[0;32m~/anaconda3/lib/python3.6/site-packages/sklearn/externals/joblib/parallel.py\u001b[0m in \u001b[0;36m_dispatch\u001b[0;34m(self, batch)\u001b[0m\n\u001b[1;32m    780\u001b[0m         \u001b[0;32mwith\u001b[0m \u001b[0mself\u001b[0m\u001b[0;34m.\u001b[0m\u001b[0m_lock\u001b[0m\u001b[0;34m:\u001b[0m\u001b[0;34m\u001b[0m\u001b[0m\n\u001b[1;32m    781\u001b[0m             \u001b[0mjob_idx\u001b[0m \u001b[0;34m=\u001b[0m \u001b[0mlen\u001b[0m\u001b[0;34m(\u001b[0m\u001b[0mself\u001b[0m\u001b[0;34m.\u001b[0m\u001b[0m_jobs\u001b[0m\u001b[0;34m)\u001b[0m\u001b[0;34m\u001b[0m\u001b[0m\n\u001b[0;32m--> 782\u001b[0;31m             \u001b[0mjob\u001b[0m \u001b[0;34m=\u001b[0m \u001b[0mself\u001b[0m\u001b[0;34m.\u001b[0m\u001b[0m_backend\u001b[0m\u001b[0;34m.\u001b[0m\u001b[0mapply_async\u001b[0m\u001b[0;34m(\u001b[0m\u001b[0mbatch\u001b[0m\u001b[0;34m,\u001b[0m \u001b[0mcallback\u001b[0m\u001b[0;34m=\u001b[0m\u001b[0mcb\u001b[0m\u001b[0;34m)\u001b[0m\u001b[0;34m\u001b[0m\u001b[0m\n\u001b[0m\u001b[1;32m    783\u001b[0m             \u001b[0;31m# A job can complete so quickly than its callback is\u001b[0m\u001b[0;34m\u001b[0m\u001b[0;34m\u001b[0m\u001b[0m\n\u001b[1;32m    784\u001b[0m             \u001b[0;31m# called before we get here, causing self._jobs to\u001b[0m\u001b[0;34m\u001b[0m\u001b[0;34m\u001b[0m\u001b[0m\n",
      "\u001b[0;32m~/anaconda3/lib/python3.6/site-packages/sklearn/externals/joblib/_parallel_backends.py\u001b[0m in \u001b[0;36mapply_async\u001b[0;34m(self, func, callback)\u001b[0m\n\u001b[1;32m    180\u001b[0m     \u001b[0;32mdef\u001b[0m \u001b[0mapply_async\u001b[0m\u001b[0;34m(\u001b[0m\u001b[0mself\u001b[0m\u001b[0;34m,\u001b[0m \u001b[0mfunc\u001b[0m\u001b[0;34m,\u001b[0m \u001b[0mcallback\u001b[0m\u001b[0;34m=\u001b[0m\u001b[0;32mNone\u001b[0m\u001b[0;34m)\u001b[0m\u001b[0;34m:\u001b[0m\u001b[0;34m\u001b[0m\u001b[0m\n\u001b[1;32m    181\u001b[0m         \u001b[0;34m\"\"\"Schedule a func to be run\"\"\"\u001b[0m\u001b[0;34m\u001b[0m\u001b[0m\n\u001b[0;32m--> 182\u001b[0;31m         \u001b[0mresult\u001b[0m \u001b[0;34m=\u001b[0m \u001b[0mImmediateResult\u001b[0m\u001b[0;34m(\u001b[0m\u001b[0mfunc\u001b[0m\u001b[0;34m)\u001b[0m\u001b[0;34m\u001b[0m\u001b[0m\n\u001b[0m\u001b[1;32m    183\u001b[0m         \u001b[0;32mif\u001b[0m \u001b[0mcallback\u001b[0m\u001b[0;34m:\u001b[0m\u001b[0;34m\u001b[0m\u001b[0m\n\u001b[1;32m    184\u001b[0m             \u001b[0mcallback\u001b[0m\u001b[0;34m(\u001b[0m\u001b[0mresult\u001b[0m\u001b[0;34m)\u001b[0m\u001b[0;34m\u001b[0m\u001b[0m\n",
      "\u001b[0;32m~/anaconda3/lib/python3.6/site-packages/sklearn/externals/joblib/_parallel_backends.py\u001b[0m in \u001b[0;36m__init__\u001b[0;34m(self, batch)\u001b[0m\n\u001b[1;32m    543\u001b[0m         \u001b[0;31m# Don't delay the application, to avoid keeping the input\u001b[0m\u001b[0;34m\u001b[0m\u001b[0;34m\u001b[0m\u001b[0m\n\u001b[1;32m    544\u001b[0m         \u001b[0;31m# arguments in memory\u001b[0m\u001b[0;34m\u001b[0m\u001b[0;34m\u001b[0m\u001b[0m\n\u001b[0;32m--> 545\u001b[0;31m         \u001b[0mself\u001b[0m\u001b[0;34m.\u001b[0m\u001b[0mresults\u001b[0m \u001b[0;34m=\u001b[0m \u001b[0mbatch\u001b[0m\u001b[0;34m(\u001b[0m\u001b[0;34m)\u001b[0m\u001b[0;34m\u001b[0m\u001b[0m\n\u001b[0m\u001b[1;32m    546\u001b[0m \u001b[0;34m\u001b[0m\u001b[0m\n\u001b[1;32m    547\u001b[0m     \u001b[0;32mdef\u001b[0m \u001b[0mget\u001b[0m\u001b[0;34m(\u001b[0m\u001b[0mself\u001b[0m\u001b[0;34m)\u001b[0m\u001b[0;34m:\u001b[0m\u001b[0;34m\u001b[0m\u001b[0m\n",
      "\u001b[0;32m~/anaconda3/lib/python3.6/site-packages/sklearn/externals/joblib/parallel.py\u001b[0m in \u001b[0;36m__call__\u001b[0;34m(self)\u001b[0m\n\u001b[1;32m    259\u001b[0m         \u001b[0;32mwith\u001b[0m \u001b[0mparallel_backend\u001b[0m\u001b[0;34m(\u001b[0m\u001b[0mself\u001b[0m\u001b[0;34m.\u001b[0m\u001b[0m_backend\u001b[0m\u001b[0;34m)\u001b[0m\u001b[0;34m:\u001b[0m\u001b[0;34m\u001b[0m\u001b[0m\n\u001b[1;32m    260\u001b[0m             return [func(*args, **kwargs)\n\u001b[0;32m--> 261\u001b[0;31m                     for func, args, kwargs in self.items]\n\u001b[0m\u001b[1;32m    262\u001b[0m \u001b[0;34m\u001b[0m\u001b[0m\n\u001b[1;32m    263\u001b[0m     \u001b[0;32mdef\u001b[0m \u001b[0m__len__\u001b[0m\u001b[0;34m(\u001b[0m\u001b[0mself\u001b[0m\u001b[0;34m)\u001b[0m\u001b[0;34m:\u001b[0m\u001b[0;34m\u001b[0m\u001b[0m\n",
      "\u001b[0;32m~/anaconda3/lib/python3.6/site-packages/sklearn/externals/joblib/parallel.py\u001b[0m in \u001b[0;36m<listcomp>\u001b[0;34m(.0)\u001b[0m\n\u001b[1;32m    259\u001b[0m         \u001b[0;32mwith\u001b[0m \u001b[0mparallel_backend\u001b[0m\u001b[0;34m(\u001b[0m\u001b[0mself\u001b[0m\u001b[0;34m.\u001b[0m\u001b[0m_backend\u001b[0m\u001b[0;34m)\u001b[0m\u001b[0;34m:\u001b[0m\u001b[0;34m\u001b[0m\u001b[0m\n\u001b[1;32m    260\u001b[0m             return [func(*args, **kwargs)\n\u001b[0;32m--> 261\u001b[0;31m                     for func, args, kwargs in self.items]\n\u001b[0m\u001b[1;32m    262\u001b[0m \u001b[0;34m\u001b[0m\u001b[0m\n\u001b[1;32m    263\u001b[0m     \u001b[0;32mdef\u001b[0m \u001b[0m__len__\u001b[0m\u001b[0;34m(\u001b[0m\u001b[0mself\u001b[0m\u001b[0;34m)\u001b[0m\u001b[0;34m:\u001b[0m\u001b[0;34m\u001b[0m\u001b[0m\n",
      "\u001b[0;32m~/anaconda3/lib/python3.6/site-packages/sklearn/pipeline.py\u001b[0m in \u001b[0;36m_fit_one_transformer\u001b[0;34m(transformer, X, y, weight, **fit_params)\u001b[0m\n\u001b[1;32m    599\u001b[0m \u001b[0;31m#  factorize the code in ColumnTransformer\u001b[0m\u001b[0;34m\u001b[0m\u001b[0;34m\u001b[0m\u001b[0m\n\u001b[1;32m    600\u001b[0m \u001b[0;32mdef\u001b[0m \u001b[0m_fit_one_transformer\u001b[0m\u001b[0;34m(\u001b[0m\u001b[0mtransformer\u001b[0m\u001b[0;34m,\u001b[0m \u001b[0mX\u001b[0m\u001b[0;34m,\u001b[0m \u001b[0my\u001b[0m\u001b[0;34m,\u001b[0m \u001b[0mweight\u001b[0m\u001b[0;34m=\u001b[0m\u001b[0;32mNone\u001b[0m\u001b[0;34m,\u001b[0m \u001b[0;34m**\u001b[0m\u001b[0mfit_params\u001b[0m\u001b[0;34m)\u001b[0m\u001b[0;34m:\u001b[0m\u001b[0;34m\u001b[0m\u001b[0m\n\u001b[0;32m--> 601\u001b[0;31m     \u001b[0;32mreturn\u001b[0m \u001b[0mtransformer\u001b[0m\u001b[0;34m.\u001b[0m\u001b[0mfit\u001b[0m\u001b[0;34m(\u001b[0m\u001b[0mX\u001b[0m\u001b[0;34m,\u001b[0m \u001b[0my\u001b[0m\u001b[0;34m)\u001b[0m\u001b[0;34m\u001b[0m\u001b[0m\n\u001b[0m\u001b[1;32m    602\u001b[0m \u001b[0;34m\u001b[0m\u001b[0m\n\u001b[1;32m    603\u001b[0m \u001b[0;34m\u001b[0m\u001b[0m\n",
      "\u001b[0;32m~/Desktop/VOS 2/vos2-2018/03/transformers/ModelTransformer.py\u001b[0m in \u001b[0;36mfit\u001b[0;34m(self, *args, **kwargs)\u001b[0m\n\u001b[1;32m     11\u001b[0m \u001b[0;34m\u001b[0m\u001b[0m\n\u001b[1;32m     12\u001b[0m     \u001b[0;32mdef\u001b[0m \u001b[0mfit\u001b[0m\u001b[0;34m(\u001b[0m\u001b[0mself\u001b[0m\u001b[0;34m,\u001b[0m \u001b[0;34m*\u001b[0m\u001b[0margs\u001b[0m\u001b[0;34m,\u001b[0m \u001b[0;34m**\u001b[0m\u001b[0mkwargs\u001b[0m\u001b[0;34m)\u001b[0m\u001b[0;34m:\u001b[0m\u001b[0;34m\u001b[0m\u001b[0m\n\u001b[0;32m---> 13\u001b[0;31m         \u001b[0mself\u001b[0m\u001b[0;34m.\u001b[0m\u001b[0mmodel\u001b[0m\u001b[0;34m.\u001b[0m\u001b[0mfit\u001b[0m\u001b[0;34m(\u001b[0m\u001b[0;34m*\u001b[0m\u001b[0margs\u001b[0m\u001b[0;34m,\u001b[0m \u001b[0;34m**\u001b[0m\u001b[0mkwargs\u001b[0m\u001b[0;34m)\u001b[0m\u001b[0;34m\u001b[0m\u001b[0m\n\u001b[0m\u001b[1;32m     14\u001b[0m         \u001b[0mprint\u001b[0m\u001b[0;34m(\u001b[0m\u001b[0mself\u001b[0m\u001b[0;34m.\u001b[0m\u001b[0mmodel\u001b[0m\u001b[0;34m.\u001b[0m\u001b[0mscore\u001b[0m\u001b[0;34m(\u001b[0m\u001b[0;34m*\u001b[0m\u001b[0margs\u001b[0m\u001b[0;34m,\u001b[0m \u001b[0;34m**\u001b[0m\u001b[0mkwargs\u001b[0m\u001b[0;34m)\u001b[0m\u001b[0;34m)\u001b[0m\u001b[0;34m\u001b[0m\u001b[0m\n\u001b[1;32m     15\u001b[0m         \u001b[0;32mreturn\u001b[0m \u001b[0mself\u001b[0m\u001b[0;34m\u001b[0m\u001b[0m\n",
      "\u001b[0;32m~/anaconda3/lib/python3.6/site-packages/sklearn/linear_model/logistic.py\u001b[0m in \u001b[0;36mfit\u001b[0;34m(self, X, y, sample_weight)\u001b[0m\n\u001b[1;32m   1282\u001b[0m \u001b[0;34m\u001b[0m\u001b[0m\n\u001b[1;32m   1283\u001b[0m         X, y = check_X_y(X, y, accept_sparse='csr', dtype=_dtype, order=\"C\",\n\u001b[0;32m-> 1284\u001b[0;31m                          accept_large_sparse=solver != 'liblinear')\n\u001b[0m\u001b[1;32m   1285\u001b[0m         \u001b[0mcheck_classification_targets\u001b[0m\u001b[0;34m(\u001b[0m\u001b[0my\u001b[0m\u001b[0;34m)\u001b[0m\u001b[0;34m\u001b[0m\u001b[0m\n\u001b[1;32m   1286\u001b[0m         \u001b[0mself\u001b[0m\u001b[0;34m.\u001b[0m\u001b[0mclasses_\u001b[0m \u001b[0;34m=\u001b[0m \u001b[0mnp\u001b[0m\u001b[0;34m.\u001b[0m\u001b[0munique\u001b[0m\u001b[0;34m(\u001b[0m\u001b[0my\u001b[0m\u001b[0;34m)\u001b[0m\u001b[0;34m\u001b[0m\u001b[0m\n",
      "\u001b[0;32m~/anaconda3/lib/python3.6/site-packages/sklearn/utils/validation.py\u001b[0m in \u001b[0;36mcheck_X_y\u001b[0;34m(X, y, accept_sparse, accept_large_sparse, dtype, order, copy, force_all_finite, ensure_2d, allow_nd, multi_output, ensure_min_samples, ensure_min_features, y_numeric, warn_on_dtype, estimator)\u001b[0m\n\u001b[1;32m    745\u001b[0m                     \u001b[0mensure_min_features\u001b[0m\u001b[0;34m=\u001b[0m\u001b[0mensure_min_features\u001b[0m\u001b[0;34m,\u001b[0m\u001b[0;34m\u001b[0m\u001b[0m\n\u001b[1;32m    746\u001b[0m                     \u001b[0mwarn_on_dtype\u001b[0m\u001b[0;34m=\u001b[0m\u001b[0mwarn_on_dtype\u001b[0m\u001b[0;34m,\u001b[0m\u001b[0;34m\u001b[0m\u001b[0m\n\u001b[0;32m--> 747\u001b[0;31m                     estimator=estimator)\n\u001b[0m\u001b[1;32m    748\u001b[0m     \u001b[0;32mif\u001b[0m \u001b[0mmulti_output\u001b[0m\u001b[0;34m:\u001b[0m\u001b[0;34m\u001b[0m\u001b[0m\n\u001b[1;32m    749\u001b[0m         y = check_array(y, 'csr', force_all_finite=True, ensure_2d=False,\n",
      "\u001b[0;32m~/anaconda3/lib/python3.6/site-packages/sklearn/utils/validation.py\u001b[0m in \u001b[0;36mcheck_array\u001b[0;34m(array, accept_sparse, accept_large_sparse, dtype, order, copy, force_all_finite, ensure_2d, allow_nd, ensure_min_samples, ensure_min_features, warn_on_dtype, estimator)\u001b[0m\n\u001b[1;32m    566\u001b[0m         \u001b[0;32mif\u001b[0m \u001b[0mforce_all_finite\u001b[0m\u001b[0;34m:\u001b[0m\u001b[0;34m\u001b[0m\u001b[0m\n\u001b[1;32m    567\u001b[0m             _assert_all_finite(array,\n\u001b[0;32m--> 568\u001b[0;31m                                allow_nan=force_all_finite == 'allow-nan')\n\u001b[0m\u001b[1;32m    569\u001b[0m \u001b[0;34m\u001b[0m\u001b[0m\n\u001b[1;32m    570\u001b[0m     \u001b[0mshape_repr\u001b[0m \u001b[0;34m=\u001b[0m \u001b[0m_shape_repr\u001b[0m\u001b[0;34m(\u001b[0m\u001b[0marray\u001b[0m\u001b[0;34m.\u001b[0m\u001b[0mshape\u001b[0m\u001b[0;34m)\u001b[0m\u001b[0;34m\u001b[0m\u001b[0m\n",
      "\u001b[0;32m~/anaconda3/lib/python3.6/site-packages/sklearn/utils/validation.py\u001b[0m in \u001b[0;36m_assert_all_finite\u001b[0;34m(X, allow_nan)\u001b[0m\n\u001b[1;32m     54\u001b[0m                 not allow_nan and not np.isfinite(X).all()):\n\u001b[1;32m     55\u001b[0m             \u001b[0mtype_err\u001b[0m \u001b[0;34m=\u001b[0m \u001b[0;34m'infinity'\u001b[0m \u001b[0;32mif\u001b[0m \u001b[0mallow_nan\u001b[0m \u001b[0;32melse\u001b[0m \u001b[0;34m'NaN, infinity'\u001b[0m\u001b[0;34m\u001b[0m\u001b[0m\n\u001b[0;32m---> 56\u001b[0;31m             \u001b[0;32mraise\u001b[0m \u001b[0mValueError\u001b[0m\u001b[0;34m(\u001b[0m\u001b[0mmsg_err\u001b[0m\u001b[0;34m.\u001b[0m\u001b[0mformat\u001b[0m\u001b[0;34m(\u001b[0m\u001b[0mtype_err\u001b[0m\u001b[0;34m,\u001b[0m \u001b[0mX\u001b[0m\u001b[0;34m.\u001b[0m\u001b[0mdtype\u001b[0m\u001b[0;34m)\u001b[0m\u001b[0;34m)\u001b[0m\u001b[0;34m\u001b[0m\u001b[0m\n\u001b[0m\u001b[1;32m     57\u001b[0m \u001b[0;34m\u001b[0m\u001b[0m\n\u001b[1;32m     58\u001b[0m \u001b[0;34m\u001b[0m\u001b[0m\n",
      "\u001b[0;31mValueError\u001b[0m: Input contains NaN, infinity or a value too large for dtype('float64')."
     ]
    }
   ],
   "source": [
    "pred_algo_pipeline = Pipeline([('classifiers', FeatureUnion([\n",
    "                        ('Logistic Regression with L1 regularization', mt.ModelTransformer(LogisticRegression(C=1, penalty='l1'))),\n",
    "                        ('Logistic Regression with L2 regularization', mt.ModelTransformer(LogisticRegression(C=1, penalty='l2'))),\n",
    "                        ('kNN', mt.ModelTransformer(KNeighborsClassifier(n_neighbors=7))),\n",
    "                        ('Random Forest', mt.ModelTransformer(RandomForestClassifier(max_depth=7))),\n",
    "                        ('Decission Tree', mt.ModelTransformer(DecisionTreeClassifier(max_depth=7)))]))])\n",
    "\n",
    "pred_algo_pipeline.fit(data_train_X, data_train_Y)                      "
   ]
  },
  {
   "cell_type": "code",
   "execution_count": 43,
   "metadata": {},
   "outputs": [
    {
     "data": {
      "text/plain": [
       "array([[1, 1, 1, 1, 1],\n",
       "       [1, 1, 1, 1, 1],\n",
       "       [0, 1, 0, 1, 0],\n",
       "       ...,\n",
       "       [0, 1, 0, 0, 0],\n",
       "       [1, 1, 1, 1, 1],\n",
       "       [1, 1, 1, 1, 1]])"
      ]
     },
     "execution_count": 43,
     "metadata": {},
     "output_type": "execute_result"
    }
   ],
   "source": [
    "# Urobime predikciu nad testovacimi datami\n",
    "predicted = pred_algo_pipeline.transform(data_test_X)\n",
    "\n",
    "# Dostaneme array kde kazdy stlpec zodpoveda predpokladu daneho algoritmu\n",
    "predicted"
   ]
  },
  {
   "cell_type": "markdown",
   "metadata": {},
   "source": [
    "Dostaneme maticu, v ktorom hodnoty kazdeho stlpca zodpovedaju hodnotam predpovedi daneho klasifikatora z pipeliny."
   ]
  },
  {
   "cell_type": "markdown",
   "metadata": {},
   "source": [
    "### Vyhodnotime predikcie za pomoci precision/recall, f1 a AUC metrik"
   ]
  },
  {
   "cell_type": "code",
   "execution_count": 85,
   "metadata": {
    "scrolled": true
   },
   "outputs": [],
   "source": [
    "def print_results(transformer_list, predicted, Y):\n",
    "    for i, algo in zip(range(0, len(transformer_list)), transformer_list):\n",
    "        name, _ = algo\n",
    "\n",
    "        print(\" ********************** Results *************************** \")\n",
    "        print(\"Alghoritm used= \")\n",
    "        print(name)\n",
    "        print(\" \")\n",
    "\n",
    "        output = predicted[:, i].reshape(-1, 1)\n",
    "\n",
    "        print(\"Accuracy Score= \")\n",
    "        print(accuracy_score(Y, output))\n",
    "        print(\" \")\n",
    "\n",
    "        print(\"Confusion Matrix= \")\n",
    "        print(confusion_matrix(Y, output))\n",
    "        print(\" \")\n",
    "\n",
    "        print(\"Precision/Recall/F1 Score=\")\n",
    "        print(classification_report(Y, output))\n",
    "        print(\" \")\n",
    "\n",
    "        print(\"Area Under Curve=\")\n",
    "        false_positive_rate, true_positive_rate, thresholds = roc_curve(Y, output)\n",
    "        roc_auc = auc(false_positive_rate, true_positive_rate)\n",
    "        print(roc_auc)\n",
    "\n",
    "        print(\" **********************************************************\")\n",
    "        print(\" \")\n",
    "        print(\" \")"
   ]
  },
  {
   "cell_type": "code",
   "execution_count": 77,
   "metadata": {},
   "outputs": [
    {
     "name": "stdout",
     "output_type": "stream",
     "text": [
      " ********************** Results *************************** \n",
      "Alghoritm used= \n",
      "Logistic Regression with L1 regularization\n",
      " \n",
      "Accuracy Score= \n",
      "0.7924937447873228\n",
      " \n",
      "Confusion Matrix= \n",
      "[[3941  975]\n",
      " [1513 5561]]\n",
      " \n",
      "Precision/Recall/F1 Score=\n",
      "              precision    recall  f1-score   support\n",
      "\n",
      "           0       0.72      0.80      0.76      4916\n",
      "           1       0.85      0.79      0.82      7074\n",
      "\n",
      "   micro avg       0.79      0.79      0.79     11990\n",
      "   macro avg       0.79      0.79      0.79     11990\n",
      "weighted avg       0.80      0.79      0.79     11990\n",
      "\n",
      " \n",
      "Area Under Curve=\n",
      "0.7938931010153503\n",
      " **********************************************************\n",
      " \n",
      " \n",
      " ********************** Results *************************** \n",
      "Alghoritm used= \n",
      "Logistic Regression with L2 regularization\n",
      " \n",
      "Accuracy Score= \n",
      "0.5899916597164303\n",
      " \n",
      "Confusion Matrix= \n",
      "[[   0 4916]\n",
      " [   0 7074]]\n",
      " \n",
      "Precision/Recall/F1 Score=\n",
      "              precision    recall  f1-score   support\n",
      "\n",
      "           0       0.00      0.00      0.00      4916\n",
      "           1       0.59      1.00      0.74      7074\n",
      "\n",
      "   micro avg       0.59      0.59      0.59     11990\n",
      "   macro avg       0.29      0.50      0.37     11990\n",
      "weighted avg       0.35      0.59      0.44     11990\n",
      "\n",
      " \n",
      "Area Under Curve=\n",
      "0.5\n",
      " **********************************************************\n",
      " \n",
      " \n",
      " ********************** Results *************************** \n",
      "Alghoritm used= \n",
      "kNN\n",
      " \n",
      "Accuracy Score= \n",
      "0.8216013344453711\n",
      " \n",
      "Confusion Matrix= \n",
      "[[3770 1146]\n",
      " [ 993 6081]]\n",
      " \n",
      "Precision/Recall/F1 Score=\n",
      "              precision    recall  f1-score   support\n",
      "\n",
      "           0       0.79      0.77      0.78      4916\n",
      "           1       0.84      0.86      0.85      7074\n",
      "\n",
      "   micro avg       0.82      0.82      0.82     11990\n",
      "   macro avg       0.82      0.81      0.81     11990\n",
      "weighted avg       0.82      0.82      0.82     11990\n",
      "\n",
      " \n",
      "Area Under Curve=\n",
      "0.8132552238074633\n",
      " **********************************************************\n",
      " \n",
      " \n",
      " ********************** Results *************************** \n",
      "Alghoritm used= \n",
      "Random Forest\n",
      " \n",
      "Accuracy Score= \n",
      "0.8158465387823186\n",
      " \n",
      "Confusion Matrix= \n",
      "[[3462 1454]\n",
      " [ 754 6320]]\n",
      " \n",
      "Precision/Recall/F1 Score=\n",
      "              precision    recall  f1-score   support\n",
      "\n",
      "           0       0.82      0.70      0.76      4916\n",
      "           1       0.81      0.89      0.85      7074\n",
      "\n",
      "   micro avg       0.82      0.82      0.82     11990\n",
      "   macro avg       0.82      0.80      0.80     11990\n",
      "weighted avg       0.82      0.82      0.81     11990\n",
      "\n",
      " \n",
      "Area Under Curve=\n",
      "0.7988217893232831\n",
      " **********************************************************\n",
      " \n",
      " \n",
      " ********************** Results *************************** \n",
      "Alghoritm used= \n",
      "Decission Tree\n",
      " \n",
      "Accuracy Score= \n",
      "0.8150959132610509\n",
      " \n",
      "Confusion Matrix= \n",
      "[[3874 1042]\n",
      " [1175 5899]]\n",
      " \n",
      "Precision/Recall/F1 Score=\n",
      "              precision    recall  f1-score   support\n",
      "\n",
      "           0       0.77      0.79      0.78      4916\n",
      "           1       0.85      0.83      0.84      7074\n",
      "\n",
      "   micro avg       0.82      0.82      0.82     11990\n",
      "   macro avg       0.81      0.81      0.81     11990\n",
      "weighted avg       0.82      0.82      0.82     11990\n",
      "\n",
      " \n",
      "Area Under Curve=\n",
      "0.8109689202118346\n",
      " **********************************************************\n",
      " \n",
      " \n"
     ]
    },
    {
     "name": "stderr",
     "output_type": "stream",
     "text": [
      "/Users/edvin/anaconda3/lib/python3.6/site-packages/sklearn/metrics/classification.py:1143: UndefinedMetricWarning: Precision and F-score are ill-defined and being set to 0.0 in labels with no predicted samples.\n",
      "  'precision', 'predicted', average, warn_for)\n",
      "/Users/edvin/anaconda3/lib/python3.6/site-packages/sklearn/metrics/classification.py:1143: UndefinedMetricWarning: Precision and F-score are ill-defined and being set to 0.0 in labels with no predicted samples.\n",
      "  'precision', 'predicted', average, warn_for)\n",
      "/Users/edvin/anaconda3/lib/python3.6/site-packages/sklearn/metrics/classification.py:1143: UndefinedMetricWarning: Precision and F-score are ill-defined and being set to 0.0 in labels with no predicted samples.\n",
      "  'precision', 'predicted', average, warn_for)\n"
     ]
    }
   ],
   "source": [
    "transformer_list = pred_algo_pipeline.steps[0][1].transformer_list\n",
    "print_results(transformer_list, predicted, data_test_Y)"
   ]
  },
  {
   "cell_type": "markdown",
   "metadata": {},
   "source": [
    "----"
   ]
  },
  {
   "cell_type": "markdown",
   "metadata": {},
   "source": [
    "# 1. Pokus o vylepsenie predikcie pouzijuc voting classifieru.\n",
    "Naimportujeme si data"
   ]
  },
  {
   "cell_type": "code",
   "execution_count": 46,
   "metadata": {},
   "outputs": [],
   "source": [
    "from sklearn.ensemble import VotingClassifier\n",
    "from sklearn.model_selection import cross_val_score"
   ]
  },
  {
   "cell_type": "markdown",
   "metadata": {},
   "source": [
    "Zadefinujeme si tie iste algoritmy ktore sme pouzili v pipeline v prvom pokuse predikcie."
   ]
  },
  {
   "cell_type": "code",
   "execution_count": 47,
   "metadata": {},
   "outputs": [],
   "source": [
    "clf1 = LogisticRegression(C=1, penalty='l1')\n",
    "clf2 = LogisticRegression(C=1, penalty='l2')\n",
    "clf3 = KNeighborsClassifier(n_neighbors=7)\n",
    "clf4 = RandomForestClassifier(max_depth=5)\n",
    "clf5 = DecisionTreeClassifier(max_depth=7)"
   ]
  },
  {
   "cell_type": "markdown",
   "metadata": {},
   "source": [
    "Zadefinujeme si klasifikator a dame mu ako parametre hore vyssie zadefinovane klasifikatory"
   ]
  },
  {
   "cell_type": "code",
   "execution_count": 48,
   "metadata": {},
   "outputs": [
    {
     "name": "stderr",
     "output_type": "stream",
     "text": [
      "/Users/edvin/anaconda3/lib/python3.6/site-packages/sklearn/linear_model/logistic.py:432: FutureWarning: Default solver will be changed to 'lbfgs' in 0.22. Specify a solver to silence this warning.\n",
      "  FutureWarning)\n",
      "/Users/edvin/anaconda3/lib/python3.6/site-packages/sklearn/linear_model/logistic.py:432: FutureWarning: Default solver will be changed to 'lbfgs' in 0.22. Specify a solver to silence this warning.\n",
      "  FutureWarning)\n",
      "/Users/edvin/anaconda3/lib/python3.6/site-packages/sklearn/ensemble/forest.py:248: FutureWarning: The default value of n_estimators will change from 10 in version 0.20 to 100 in 0.22.\n",
      "  \"10 in version 0.20 to 100 in 0.22.\", FutureWarning)\n"
     ]
    }
   ],
   "source": [
    "eclf = VotingClassifier(estimators=[('LR_L1', clf1), \n",
    "                                    ('LR_L2', clf2), \n",
    "                                    ('kNN', clf3),\n",
    "                                    ('RFC', clf4),\n",
    "                                    ('DTC', clf5)], voting='soft', weights=[1,1,1,1,1])\n",
    "\n",
    "eclf = eclf.fit(data_train_X, data_train_Y)"
   ]
  },
  {
   "cell_type": "markdown",
   "metadata": {},
   "source": [
    "Predikuj nove hodnoty"
   ]
  },
  {
   "cell_type": "code",
   "execution_count": 49,
   "metadata": {},
   "outputs": [
    {
     "data": {
      "text/plain": [
       "array([1, 1, 0, ..., 0, 1, 1])"
      ]
     },
     "execution_count": 49,
     "metadata": {},
     "output_type": "execute_result"
    }
   ],
   "source": [
    "predictions = eclf.predict(data_test_X)\n",
    "predictions"
   ]
  },
  {
   "cell_type": "markdown",
   "metadata": {},
   "source": [
    "Pouzijeme accuracy score ako metriku vyhodnocovania predikcie."
   ]
  },
  {
   "cell_type": "code",
   "execution_count": 50,
   "metadata": {},
   "outputs": [
    {
     "name": "stdout",
     "output_type": "stream",
     "text": [
      "0.8199332777314429\n"
     ]
    }
   ],
   "source": [
    "print(accuracy_score(data_test_Y, predictions))"
   ]
  },
  {
   "cell_type": "markdown",
   "metadata": {},
   "source": [
    "##### Prvy pokus o vylepsenie neuspel, kedze vidime ze accuracy score je mensi ako ten najlepsi."
   ]
  },
  {
   "cell_type": "markdown",
   "metadata": {},
   "source": [
    "------"
   ]
  },
  {
   "cell_type": "markdown",
   "metadata": {},
   "source": [
    "# 2. Pokus o vylepsenie: pouzijeme stacking"
   ]
  },
  {
   "cell_type": "code",
   "execution_count": 51,
   "metadata": {},
   "outputs": [],
   "source": [
    "from sklearn.ensemble import ExtraTreesClassifier"
   ]
  },
  {
   "cell_type": "markdown",
   "metadata": {},
   "source": [
    "Zadefinujeme si algoritmy klasifikacie prvej urovni"
   ]
  },
  {
   "cell_type": "code",
   "execution_count": 52,
   "metadata": {},
   "outputs": [],
   "source": [
    "base_algorithms = [('Knn', clf3), ('RF', clf4), ('ET', clf5)]"
   ]
  },
  {
   "cell_type": "code",
   "execution_count": 53,
   "metadata": {},
   "outputs": [],
   "source": [
    "stacking_train_dataset = pd.DataFrame(data_train_X) # mozu sa pouzit povodne data ako zaklad a knim sa pridaju predikcie\n",
    "stacking_test_dataset = pd.DataFrame(data_test_X)"
   ]
  },
  {
   "cell_type": "code",
   "execution_count": 54,
   "metadata": {},
   "outputs": [
    {
     "name": "stderr",
     "output_type": "stream",
     "text": [
      "/Users/edvin/anaconda3/lib/python3.6/site-packages/sklearn/ensemble/forest.py:248: FutureWarning: The default value of n_estimators will change from 10 in version 0.20 to 100 in 0.22.\n",
      "  \"10 in version 0.20 to 100 in 0.22.\", FutureWarning)\n"
     ]
    }
   ],
   "source": [
    "for name, algorithm in base_algorithms: # mozu sa tu pridat aj pravdepodobnosti. Tiem odely to ale musia podporovat\n",
    "    stacking_train_dataset[name] = algorithm.fit(data_train_X, data_train_Y).predict(data_train_X)\n",
    "    stacking_test_dataset[name] = algorithm.predict(data_test_X)"
   ]
  },
  {
   "cell_type": "code",
   "execution_count": 55,
   "metadata": {},
   "outputs": [
    {
     "name": "stderr",
     "output_type": "stream",
     "text": [
      "/Users/edvin/anaconda3/lib/python3.6/site-packages/sklearn/linear_model/logistic.py:432: FutureWarning: Default solver will be changed to 'lbfgs' in 0.22. Specify a solver to silence this warning.\n",
      "  FutureWarning)\n"
     ]
    }
   ],
   "source": [
    "combiner_algorithm = LogisticRegression(C=1, penalty='l1')\n",
    "final_predictions = combiner_algorithm.fit(stacking_train_dataset, data_train_Y).predict(stacking_test_dataset)"
   ]
  },
  {
   "cell_type": "code",
   "execution_count": 56,
   "metadata": {},
   "outputs": [
    {
     "data": {
      "text/plain": [
       "0.8055879899916597"
      ]
     },
     "execution_count": 56,
     "metadata": {},
     "output_type": "execute_result"
    }
   ],
   "source": [
    "accuracy_score(data_test_Y, final_predictions) "
   ]
  },
  {
   "cell_type": "code",
   "execution_count": 57,
   "metadata": {},
   "outputs": [
    {
     "data": {
      "text/plain": [
       "0.8085070892410342"
      ]
     },
     "execution_count": 57,
     "metadata": {},
     "output_type": "execute_result"
    }
   ],
   "source": [
    "accuracy_score(data_test_Y, stacking_test_dataset.ET) "
   ]
  },
  {
   "cell_type": "markdown",
   "metadata": {},
   "source": [
    "Dalsi pokus o vylepsenie neuspel, stale mensi acuracy score."
   ]
  },
  {
   "cell_type": "markdown",
   "metadata": {},
   "source": [
    "----"
   ]
  },
  {
   "cell_type": "markdown",
   "metadata": {},
   "source": [
    "# 3. Pouzijeme feature selection pre vyber tych najlepsich atributov\n",
    "#### Najprv pouzijeme variance treshold na vyber atributov"
   ]
  },
  {
   "cell_type": "code",
   "execution_count": 58,
   "metadata": {},
   "outputs": [],
   "source": [
    "from sklearn.feature_selection import VarianceThreshold"
   ]
  },
  {
   "cell_type": "code",
   "execution_count": 78,
   "metadata": {},
   "outputs": [],
   "source": [
    "selector = VarianceThreshold(threshold=0.1)\n",
    "selector.fit_transform(data_train_X)\n",
    "\n",
    "X_train_new = pd.DataFrame(selector.transform(data_train_X))"
   ]
  },
  {
   "cell_type": "markdown",
   "metadata": {},
   "source": [
    "Vyberieme nove atributy pre trenovacie data"
   ]
  },
  {
   "cell_type": "code",
   "execution_count": 79,
   "metadata": {},
   "outputs": [],
   "source": [
    "selector.fit_transform(data_test_X)\n",
    "\n",
    "X_test_new = pd.DataFrame(selector.transform(data_test_X))"
   ]
  },
  {
   "cell_type": "markdown",
   "metadata": {},
   "source": [
    "Vyberieme nove atributy pre testovacie data"
   ]
  },
  {
   "cell_type": "code",
   "execution_count": 80,
   "metadata": {},
   "outputs": [
    {
     "name": "stderr",
     "output_type": "stream",
     "text": [
      "/Users/edvin/anaconda3/lib/python3.6/site-packages/sklearn/linear_model/logistic.py:432: FutureWarning: Default solver will be changed to 'lbfgs' in 0.22. Specify a solver to silence this warning.\n",
      "  FutureWarning)\n",
      "/Users/edvin/anaconda3/lib/python3.6/site-packages/sklearn/linear_model/logistic.py:432: FutureWarning: Default solver will be changed to 'lbfgs' in 0.22. Specify a solver to silence this warning.\n",
      "  FutureWarning)\n"
     ]
    },
    {
     "name": "stdout",
     "output_type": "stream",
     "text": [
      "0.8768454416548502\n",
      "0.8723830177662858\n",
      "0.8772207857202435\n",
      "0.8777838018183335\n",
      "0.8778255067144883\n"
     ]
    },
    {
     "data": {
      "text/plain": [
       "Pipeline(memory=None,\n",
       "     steps=[('classifiers', FeatureUnion(n_jobs=None,\n",
       "       transformer_list=[('Logistic Regression with L1 regularization', <transformers.ModelTransformer.ModelTransformer object at 0x1a1dc59780>), ('Logistic Regression with L2 regularization', <transformers.ModelTransformer.ModelTransformer object at 0x1a1dc597f0>), ('kNN', <transformers.ModelTransformer.M...9908>), ('Decission Tree', <transformers.ModelTransformer.ModelTransformer object at 0x1a1dc59978>)],\n",
       "       transformer_weights=None))])"
      ]
     },
     "execution_count": 80,
     "metadata": {},
     "output_type": "execute_result"
    }
   ],
   "source": [
    "pred_algo_pipeline.fit(X_train_new, data_train_Y)  "
   ]
  },
  {
   "cell_type": "markdown",
   "metadata": {},
   "source": [
    "Dame novy dataset do pipeliny, kde sa nafituju na zadefinovane algoritmy."
   ]
  },
  {
   "cell_type": "code",
   "execution_count": 83,
   "metadata": {},
   "outputs": [
    {
     "data": {
      "text/plain": [
       "array([[1, 1, 1, 1, 1],\n",
       "       [1, 1, 1, 1, 1],\n",
       "       [0, 0, 0, 0, 0],\n",
       "       ...,\n",
       "       [0, 0, 0, 0, 0],\n",
       "       [1, 1, 1, 1, 1],\n",
       "       [1, 1, 1, 1, 1]])"
      ]
     },
     "execution_count": 83,
     "metadata": {},
     "output_type": "execute_result"
    }
   ],
   "source": [
    "# Urobime predikciu nad testovacimi datami\n",
    "predicted = pred_algo_pipeline.transform(X_test_new)\n",
    "\n",
    "# Dostaneme array kde kazdy stlpec zodpoveda predpokladu daneho algoritmu\n",
    "predicted"
   ]
  },
  {
   "cell_type": "code",
   "execution_count": 86,
   "metadata": {},
   "outputs": [
    {
     "name": "stdout",
     "output_type": "stream",
     "text": [
      " ********************** Results *************************** \n",
      "Alghoritm used= \n",
      "Logistic Regression with L1 regularization\n",
      " \n",
      "Accuracy Score= \n",
      "0.8221851542952461\n",
      " \n",
      "Confusion Matrix= \n",
      "[[3757 1159]\n",
      " [ 973 6101]]\n",
      " \n",
      "Precision/Recall/F1 Score=\n",
      "              precision    recall  f1-score   support\n",
      "\n",
      "           0       0.79      0.76      0.78      4916\n",
      "           1       0.84      0.86      0.85      7074\n",
      "\n",
      "   micro avg       0.82      0.82      0.82     11990\n",
      "   macro avg       0.82      0.81      0.82     11990\n",
      "weighted avg       0.82      0.82      0.82     11990\n",
      "\n",
      " \n",
      "Area Under Curve=\n",
      "0.8133466379938408\n",
      " **********************************************************\n",
      " \n",
      " \n",
      " ********************** Results *************************** \n",
      "Alghoritm used= \n",
      "Logistic Regression with L2 regularization\n",
      " \n",
      "Accuracy Score= \n",
      "0.8209341117597998\n",
      " \n",
      "Confusion Matrix= \n",
      "[[3680 1236]\n",
      " [ 911 6163]]\n",
      " \n",
      "Precision/Recall/F1 Score=\n",
      "              precision    recall  f1-score   support\n",
      "\n",
      "           0       0.80      0.75      0.77      4916\n",
      "           1       0.83      0.87      0.85      7074\n",
      "\n",
      "   micro avg       0.82      0.82      0.82     11990\n",
      "   macro avg       0.82      0.81      0.81     11990\n",
      "weighted avg       0.82      0.82      0.82     11990\n",
      "\n",
      " \n",
      "Area Under Curve=\n",
      "0.8098973124516762\n",
      " **********************************************************\n",
      " \n",
      " \n",
      " ********************** Results *************************** \n",
      "Alghoritm used= \n",
      "kNN\n",
      " \n",
      "Accuracy Score= \n",
      "0.8237698081734779\n",
      " \n",
      "Confusion Matrix= \n",
      "[[3762 1154]\n",
      " [ 959 6115]]\n",
      " \n",
      "Precision/Recall/F1 Score=\n",
      "              precision    recall  f1-score   support\n",
      "\n",
      "           0       0.80      0.77      0.78      4916\n",
      "           1       0.84      0.86      0.85      7074\n",
      "\n",
      "   micro avg       0.82      0.82      0.82     11990\n",
      "   macro avg       0.82      0.81      0.82     11990\n",
      "weighted avg       0.82      0.82      0.82     11990\n",
      "\n",
      " \n",
      "Area Under Curve=\n",
      "0.8148447206826451\n",
      " **********************************************************\n",
      " \n",
      " \n",
      " ********************** Results *************************** \n",
      "Alghoritm used= \n",
      "Random Forest\n",
      " \n",
      "Accuracy Score= \n",
      "0.8205170975813177\n",
      " \n",
      "Confusion Matrix= \n",
      "[[3773 1143]\n",
      " [1009 6065]]\n",
      " \n",
      "Precision/Recall/F1 Score=\n",
      "              precision    recall  f1-score   support\n",
      "\n",
      "           0       0.79      0.77      0.78      4916\n",
      "           1       0.84      0.86      0.85      7074\n",
      "\n",
      "   micro avg       0.82      0.82      0.82     11990\n",
      "   macro avg       0.82      0.81      0.81     11990\n",
      "weighted avg       0.82      0.82      0.82     11990\n",
      "\n",
      " \n",
      "Area Under Curve=\n",
      "0.8124294480319985\n",
      " **********************************************************\n",
      " \n",
      " \n",
      " ********************** Results *************************** \n",
      "Alghoritm used= \n",
      "Decission Tree\n",
      " \n",
      "Accuracy Score= \n",
      "0.8209341117597998\n",
      " \n",
      "Confusion Matrix= \n",
      "[[3774 1142]\n",
      " [1005 6069]]\n",
      " \n",
      "Precision/Recall/F1 Score=\n",
      "              precision    recall  f1-score   support\n",
      "\n",
      "           0       0.79      0.77      0.78      4916\n",
      "           1       0.84      0.86      0.85      7074\n",
      "\n",
      "   micro avg       0.82      0.82      0.82     11990\n",
      "   macro avg       0.82      0.81      0.81     11990\n",
      "weighted avg       0.82      0.82      0.82     11990\n",
      "\n",
      " \n",
      "Area Under Curve=\n",
      "0.8128138822118287\n",
      " **********************************************************\n",
      " \n",
      " \n"
     ]
    }
   ],
   "source": [
    "transformer_list = pred_algo_pipeline.steps[0][1].transformer_list\n",
    "print_results(transformer_list, predicted, data_test_Y)"
   ]
  },
  {
   "cell_type": "markdown",
   "metadata": {},
   "source": [
    "Vidime ze oproti predoslych vysledkov, sa nam po vyberu atributov zlepsili."
   ]
  },
  {
   "cell_type": "markdown",
   "metadata": {},
   "source": [
    "#### Teraz skusime genericunivariate feature selection pristup"
   ]
  },
  {
   "cell_type": "code",
   "execution_count": 87,
   "metadata": {},
   "outputs": [],
   "source": [
    "from sklearn.feature_selection import GenericUnivariateSelect, chi2"
   ]
  },
  {
   "cell_type": "markdown",
   "metadata": {},
   "source": [
    "Urobime transformaciu pre trenovacie data."
   ]
  },
  {
   "cell_type": "code",
   "execution_count": 90,
   "metadata": {},
   "outputs": [],
   "source": [
    "transformer = GenericUnivariateSelect(chi2, 'k_best', param=20)\n",
    "X_train_new = pd.DataFrame(transformer.fit_transform(data_train_X, data_train_Y))"
   ]
  },
  {
   "cell_type": "markdown",
   "metadata": {},
   "source": [
    "Taktiez pre testovacie."
   ]
  },
  {
   "cell_type": "code",
   "execution_count": 93,
   "metadata": {},
   "outputs": [],
   "source": [
    "X_test_new = pd.DataFrame(transformer.fit_transform(data_test_X, data_test_Y))"
   ]
  },
  {
   "cell_type": "markdown",
   "metadata": {},
   "source": [
    "Dame do pipeliny."
   ]
  },
  {
   "cell_type": "code",
   "execution_count": 94,
   "metadata": {},
   "outputs": [
    {
     "name": "stderr",
     "output_type": "stream",
     "text": [
      "/Users/edvin/anaconda3/lib/python3.6/site-packages/sklearn/linear_model/logistic.py:432: FutureWarning: Default solver will be changed to 'lbfgs' in 0.22. Specify a solver to silence this warning.\n",
      "  FutureWarning)\n"
     ]
    },
    {
     "name": "stdout",
     "output_type": "stream",
     "text": [
      "0.8800984235549254\n",
      "0.8722370506297439\n"
     ]
    },
    {
     "name": "stderr",
     "output_type": "stream",
     "text": [
      "/Users/edvin/anaconda3/lib/python3.6/site-packages/sklearn/linear_model/logistic.py:432: FutureWarning: Default solver will be changed to 'lbfgs' in 0.22. Specify a solver to silence this warning.\n",
      "  FutureWarning)\n"
     ]
    },
    {
     "name": "stdout",
     "output_type": "stream",
     "text": [
      "0.8758236716990575\n",
      "0.8805154725164734\n",
      "0.8812036033030278\n"
     ]
    },
    {
     "data": {
      "text/plain": [
       "Pipeline(memory=None,\n",
       "     steps=[('classifiers', FeatureUnion(n_jobs=None,\n",
       "       transformer_list=[('Logistic Regression with L1 regularization', <transformers.ModelTransformer.ModelTransformer object at 0x1a1dc59780>), ('Logistic Regression with L2 regularization', <transformers.ModelTransformer.ModelTransformer object at 0x1a1dc597f0>), ('kNN', <transformers.ModelTransformer.M...9908>), ('Decission Tree', <transformers.ModelTransformer.ModelTransformer object at 0x1a1dc59978>)],\n",
       "       transformer_weights=None))])"
      ]
     },
     "execution_count": 94,
     "metadata": {},
     "output_type": "execute_result"
    }
   ],
   "source": [
    "pred_algo_pipeline.fit(X_train_new, data_train_Y) "
   ]
  },
  {
   "cell_type": "markdown",
   "metadata": {},
   "source": [
    "Vidime ze v porovnani z predoslim vyberom, accuracy na trenovacie data je vacsi."
   ]
  },
  {
   "cell_type": "code",
   "execution_count": 95,
   "metadata": {},
   "outputs": [
    {
     "data": {
      "text/plain": [
       "array([[1, 1, 1, 1, 1],\n",
       "       [1, 1, 1, 1, 1],\n",
       "       [0, 0, 0, 0, 0],\n",
       "       ...,\n",
       "       [0, 0, 0, 0, 0],\n",
       "       [1, 1, 1, 1, 1],\n",
       "       [1, 1, 1, 1, 1]])"
      ]
     },
     "execution_count": 95,
     "metadata": {},
     "output_type": "execute_result"
    }
   ],
   "source": [
    "# Urobime predikciu nad testovacimi datami\n",
    "predicted = pred_algo_pipeline.transform(X_test_new)\n",
    "\n",
    "# Dostaneme array kde kazdy stlpec zodpoveda predpokladu daneho algoritmu\n",
    "predicted"
   ]
  },
  {
   "cell_type": "code",
   "execution_count": 96,
   "metadata": {},
   "outputs": [
    {
     "name": "stdout",
     "output_type": "stream",
     "text": [
      " ********************** Results *************************** \n",
      "Alghoritm used= \n",
      "Logistic Regression with L1 regularization\n",
      " \n",
      "Accuracy Score= \n",
      "0.8059216013344453\n",
      " \n",
      "Confusion Matrix= \n",
      "[[3834 1082]\n",
      " [1245 5829]]\n",
      " \n",
      "Precision/Recall/F1 Score=\n",
      "              precision    recall  f1-score   support\n",
      "\n",
      "           0       0.75      0.78      0.77      4916\n",
      "           1       0.84      0.82      0.83      7074\n",
      "\n",
      "   micro avg       0.81      0.81      0.81     11990\n",
      "   macro avg       0.80      0.80      0.80     11990\n",
      "weighted avg       0.81      0.81      0.81     11990\n",
      "\n",
      " \n",
      "Area Under Curve=\n",
      "0.8019528761738342\n",
      " **********************************************************\n",
      " \n",
      " \n",
      " ********************** Results *************************** \n",
      "Alghoritm used= \n",
      "Logistic Regression with L2 regularization\n",
      " \n",
      "Accuracy Score= \n",
      "0.8209341117597998\n",
      " \n",
      "Confusion Matrix= \n",
      "[[3678 1238]\n",
      " [ 909 6165]]\n",
      " \n",
      "Precision/Recall/F1 Score=\n",
      "              precision    recall  f1-score   support\n",
      "\n",
      "           0       0.80      0.75      0.77      4916\n",
      "           1       0.83      0.87      0.85      7074\n",
      "\n",
      "   micro avg       0.82      0.82      0.82     11990\n",
      "   macro avg       0.82      0.81      0.81     11990\n",
      "weighted avg       0.82      0.82      0.82     11990\n",
      "\n",
      " \n",
      "Area Under Curve=\n",
      "0.8098352577759282\n",
      " **********************************************************\n",
      " \n",
      " \n",
      " ********************** Results *************************** \n",
      "Alghoritm used= \n",
      "kNN\n",
      " \n",
      "Accuracy Score= \n",
      "0.8210175145954962\n",
      " \n",
      "Confusion Matrix= \n",
      "[[3762 1154]\n",
      " [ 992 6082]]\n",
      " \n",
      "Precision/Recall/F1 Score=\n",
      "              precision    recall  f1-score   support\n",
      "\n",
      "           0       0.79      0.77      0.78      4916\n",
      "           1       0.84      0.86      0.85      7074\n",
      "\n",
      "   micro avg       0.82      0.82      0.82     11990\n",
      "   macro avg       0.82      0.81      0.81     11990\n",
      "weighted avg       0.82      0.82      0.82     11990\n",
      "\n",
      " \n",
      "Area Under Curve=\n",
      "0.8125122355257326\n",
      " **********************************************************\n",
      " \n",
      " \n",
      " ********************** Results *************************** \n",
      "Alghoritm used= \n",
      "Random Forest\n",
      " \n",
      "Accuracy Score= \n",
      "0.8068390325271059\n",
      " \n",
      "Confusion Matrix= \n",
      "[[3793 1123]\n",
      " [1193 5881]]\n",
      " \n",
      "Precision/Recall/F1 Score=\n",
      "              precision    recall  f1-score   support\n",
      "\n",
      "           0       0.76      0.77      0.77      4916\n",
      "           1       0.84      0.83      0.84      7074\n",
      "\n",
      "   micro avg       0.81      0.81      0.81     11990\n",
      "   macro avg       0.80      0.80      0.80     11990\n",
      "weighted avg       0.81      0.81      0.81     11990\n",
      "\n",
      " \n",
      "Area Under Curve=\n",
      "0.8014582503733056\n",
      " **********************************************************\n",
      " \n",
      " \n",
      " ********************** Results *************************** \n",
      "Alghoritm used= \n",
      "Decission Tree\n",
      " \n",
      "Accuracy Score= \n",
      "0.8110091743119267\n",
      " \n",
      "Confusion Matrix= \n",
      "[[3794 1122]\n",
      " [1144 5930]]\n",
      " \n",
      "Precision/Recall/F1 Score=\n",
      "              precision    recall  f1-score   support\n",
      "\n",
      "           0       0.77      0.77      0.77      4916\n",
      "           1       0.84      0.84      0.84      7074\n",
      "\n",
      "   micro avg       0.81      0.81      0.81     11990\n",
      "   macro avg       0.80      0.81      0.80     11990\n",
      "weighted avg       0.81      0.81      0.81     11990\n",
      "\n",
      " \n",
      "Area Under Curve=\n",
      "0.8050233461307444\n",
      " **********************************************************\n",
      " \n",
      " \n"
     ]
    }
   ],
   "source": [
    "transformer_list = pred_algo_pipeline.steps[0][1].transformer_list\n",
    "print_results(transformer_list, predicted, data_test_Y)"
   ]
  },
  {
   "cell_type": "markdown",
   "metadata": {},
   "source": [
    "Ale accuracy score na testovacich datach je horsi ako v predoslom pripade."
   ]
  },
  {
   "cell_type": "markdown",
   "metadata": {},
   "source": [
    "# 4. Pouzijeme grid search pre najdenie najlepsich parametrov pre logisticku regresiu."
   ]
  },
  {
   "cell_type": "code",
   "execution_count": 97,
   "metadata": {},
   "outputs": [],
   "source": [
    "from sklearn.model_selection import GridSearchCV"
   ]
  },
  {
   "cell_type": "markdown",
   "metadata": {},
   "source": [
    "Zadefinujeme si gridsearch a parametre ktore nech vyskusa."
   ]
  },
  {
   "cell_type": "code",
   "execution_count": 98,
   "metadata": {},
   "outputs": [
    {
     "name": "stderr",
     "output_type": "stream",
     "text": [
      "/Users/edvin/anaconda3/lib/python3.6/site-packages/sklearn/linear_model/logistic.py:432: FutureWarning: Default solver will be changed to 'lbfgs' in 0.22. Specify a solver to silence this warning.\n",
      "  FutureWarning)\n",
      "/Users/edvin/anaconda3/lib/python3.6/site-packages/sklearn/linear_model/logistic.py:432: FutureWarning: Default solver will be changed to 'lbfgs' in 0.22. Specify a solver to silence this warning.\n",
      "  FutureWarning)\n",
      "/Users/edvin/anaconda3/lib/python3.6/site-packages/sklearn/linear_model/logistic.py:432: FutureWarning: Default solver will be changed to 'lbfgs' in 0.22. Specify a solver to silence this warning.\n",
      "  FutureWarning)\n",
      "/Users/edvin/anaconda3/lib/python3.6/site-packages/sklearn/linear_model/logistic.py:432: FutureWarning: Default solver will be changed to 'lbfgs' in 0.22. Specify a solver to silence this warning.\n",
      "  FutureWarning)\n",
      "/Users/edvin/anaconda3/lib/python3.6/site-packages/sklearn/linear_model/logistic.py:432: FutureWarning: Default solver will be changed to 'lbfgs' in 0.22. Specify a solver to silence this warning.\n",
      "  FutureWarning)\n",
      "/Users/edvin/anaconda3/lib/python3.6/site-packages/sklearn/linear_model/logistic.py:432: FutureWarning: Default solver will be changed to 'lbfgs' in 0.22. Specify a solver to silence this warning.\n",
      "  FutureWarning)\n",
      "/Users/edvin/anaconda3/lib/python3.6/site-packages/sklearn/linear_model/logistic.py:432: FutureWarning: Default solver will be changed to 'lbfgs' in 0.22. Specify a solver to silence this warning.\n",
      "  FutureWarning)\n",
      "/Users/edvin/anaconda3/lib/python3.6/site-packages/sklearn/linear_model/logistic.py:432: FutureWarning: Default solver will be changed to 'lbfgs' in 0.22. Specify a solver to silence this warning.\n",
      "  FutureWarning)\n",
      "/Users/edvin/anaconda3/lib/python3.6/site-packages/sklearn/linear_model/logistic.py:432: FutureWarning: Default solver will be changed to 'lbfgs' in 0.22. Specify a solver to silence this warning.\n",
      "  FutureWarning)\n",
      "/Users/edvin/anaconda3/lib/python3.6/site-packages/sklearn/linear_model/logistic.py:432: FutureWarning: Default solver will be changed to 'lbfgs' in 0.22. Specify a solver to silence this warning.\n",
      "  FutureWarning)\n",
      "/Users/edvin/anaconda3/lib/python3.6/site-packages/sklearn/linear_model/logistic.py:432: FutureWarning: Default solver will be changed to 'lbfgs' in 0.22. Specify a solver to silence this warning.\n",
      "  FutureWarning)\n",
      "/Users/edvin/anaconda3/lib/python3.6/site-packages/sklearn/linear_model/logistic.py:432: FutureWarning: Default solver will be changed to 'lbfgs' in 0.22. Specify a solver to silence this warning.\n",
      "  FutureWarning)\n",
      "/Users/edvin/anaconda3/lib/python3.6/site-packages/sklearn/linear_model/logistic.py:432: FutureWarning: Default solver will be changed to 'lbfgs' in 0.22. Specify a solver to silence this warning.\n",
      "  FutureWarning)\n",
      "/Users/edvin/anaconda3/lib/python3.6/site-packages/sklearn/linear_model/logistic.py:432: FutureWarning: Default solver will be changed to 'lbfgs' in 0.22. Specify a solver to silence this warning.\n",
      "  FutureWarning)\n",
      "/Users/edvin/anaconda3/lib/python3.6/site-packages/sklearn/linear_model/logistic.py:432: FutureWarning: Default solver will be changed to 'lbfgs' in 0.22. Specify a solver to silence this warning.\n",
      "  FutureWarning)\n",
      "/Users/edvin/anaconda3/lib/python3.6/site-packages/sklearn/linear_model/logistic.py:432: FutureWarning: Default solver will be changed to 'lbfgs' in 0.22. Specify a solver to silence this warning.\n",
      "  FutureWarning)\n",
      "/Users/edvin/anaconda3/lib/python3.6/site-packages/sklearn/linear_model/logistic.py:432: FutureWarning: Default solver will be changed to 'lbfgs' in 0.22. Specify a solver to silence this warning.\n",
      "  FutureWarning)\n",
      "/Users/edvin/anaconda3/lib/python3.6/site-packages/sklearn/linear_model/logistic.py:432: FutureWarning: Default solver will be changed to 'lbfgs' in 0.22. Specify a solver to silence this warning.\n",
      "  FutureWarning)\n",
      "/Users/edvin/anaconda3/lib/python3.6/site-packages/sklearn/linear_model/logistic.py:432: FutureWarning: Default solver will be changed to 'lbfgs' in 0.22. Specify a solver to silence this warning.\n",
      "  FutureWarning)\n",
      "/Users/edvin/anaconda3/lib/python3.6/site-packages/sklearn/linear_model/logistic.py:432: FutureWarning: Default solver will be changed to 'lbfgs' in 0.22. Specify a solver to silence this warning.\n",
      "  FutureWarning)\n",
      "/Users/edvin/anaconda3/lib/python3.6/site-packages/sklearn/linear_model/logistic.py:432: FutureWarning: Default solver will be changed to 'lbfgs' in 0.22. Specify a solver to silence this warning.\n",
      "  FutureWarning)\n",
      "/Users/edvin/anaconda3/lib/python3.6/site-packages/sklearn/linear_model/logistic.py:432: FutureWarning: Default solver will be changed to 'lbfgs' in 0.22. Specify a solver to silence this warning.\n",
      "  FutureWarning)\n",
      "/Users/edvin/anaconda3/lib/python3.6/site-packages/sklearn/linear_model/logistic.py:432: FutureWarning: Default solver will be changed to 'lbfgs' in 0.22. Specify a solver to silence this warning.\n",
      "  FutureWarning)\n",
      "/Users/edvin/anaconda3/lib/python3.6/site-packages/sklearn/linear_model/logistic.py:432: FutureWarning: Default solver will be changed to 'lbfgs' in 0.22. Specify a solver to silence this warning.\n",
      "  FutureWarning)\n",
      "/Users/edvin/anaconda3/lib/python3.6/site-packages/sklearn/linear_model/logistic.py:432: FutureWarning: Default solver will be changed to 'lbfgs' in 0.22. Specify a solver to silence this warning.\n",
      "  FutureWarning)\n",
      "/Users/edvin/anaconda3/lib/python3.6/site-packages/sklearn/linear_model/logistic.py:432: FutureWarning: Default solver will be changed to 'lbfgs' in 0.22. Specify a solver to silence this warning.\n",
      "  FutureWarning)\n",
      "/Users/edvin/anaconda3/lib/python3.6/site-packages/sklearn/linear_model/logistic.py:432: FutureWarning: Default solver will be changed to 'lbfgs' in 0.22. Specify a solver to silence this warning.\n",
      "  FutureWarning)\n",
      "/Users/edvin/anaconda3/lib/python3.6/site-packages/sklearn/linear_model/logistic.py:432: FutureWarning: Default solver will be changed to 'lbfgs' in 0.22. Specify a solver to silence this warning.\n",
      "  FutureWarning)\n",
      "/Users/edvin/anaconda3/lib/python3.6/site-packages/sklearn/linear_model/logistic.py:432: FutureWarning: Default solver will be changed to 'lbfgs' in 0.22. Specify a solver to silence this warning.\n",
      "  FutureWarning)\n",
      "/Users/edvin/anaconda3/lib/python3.6/site-packages/sklearn/linear_model/logistic.py:432: FutureWarning: Default solver will be changed to 'lbfgs' in 0.22. Specify a solver to silence this warning.\n",
      "  FutureWarning)\n",
      "/Users/edvin/anaconda3/lib/python3.6/site-packages/sklearn/linear_model/logistic.py:432: FutureWarning: Default solver will be changed to 'lbfgs' in 0.22. Specify a solver to silence this warning.\n",
      "  FutureWarning)\n",
      "/Users/edvin/anaconda3/lib/python3.6/site-packages/sklearn/linear_model/logistic.py:432: FutureWarning: Default solver will be changed to 'lbfgs' in 0.22. Specify a solver to silence this warning.\n",
      "  FutureWarning)\n",
      "/Users/edvin/anaconda3/lib/python3.6/site-packages/sklearn/linear_model/logistic.py:432: FutureWarning: Default solver will be changed to 'lbfgs' in 0.22. Specify a solver to silence this warning.\n",
      "  FutureWarning)\n",
      "/Users/edvin/anaconda3/lib/python3.6/site-packages/sklearn/linear_model/logistic.py:432: FutureWarning: Default solver will be changed to 'lbfgs' in 0.22. Specify a solver to silence this warning.\n",
      "  FutureWarning)\n",
      "/Users/edvin/anaconda3/lib/python3.6/site-packages/sklearn/linear_model/logistic.py:432: FutureWarning: Default solver will be changed to 'lbfgs' in 0.22. Specify a solver to silence this warning.\n",
      "  FutureWarning)\n",
      "/Users/edvin/anaconda3/lib/python3.6/site-packages/sklearn/linear_model/logistic.py:432: FutureWarning: Default solver will be changed to 'lbfgs' in 0.22. Specify a solver to silence this warning.\n",
      "  FutureWarning)\n",
      "/Users/edvin/anaconda3/lib/python3.6/site-packages/sklearn/linear_model/logistic.py:432: FutureWarning: Default solver will be changed to 'lbfgs' in 0.22. Specify a solver to silence this warning.\n",
      "  FutureWarning)\n",
      "/Users/edvin/anaconda3/lib/python3.6/site-packages/sklearn/linear_model/logistic.py:432: FutureWarning: Default solver will be changed to 'lbfgs' in 0.22. Specify a solver to silence this warning.\n",
      "  FutureWarning)\n",
      "/Users/edvin/anaconda3/lib/python3.6/site-packages/sklearn/linear_model/logistic.py:432: FutureWarning: Default solver will be changed to 'lbfgs' in 0.22. Specify a solver to silence this warning.\n",
      "  FutureWarning)\n"
     ]
    },
    {
     "name": "stderr",
     "output_type": "stream",
     "text": [
      "/Users/edvin/anaconda3/lib/python3.6/site-packages/sklearn/linear_model/logistic.py:432: FutureWarning: Default solver will be changed to 'lbfgs' in 0.22. Specify a solver to silence this warning.\n",
      "  FutureWarning)\n",
      "/Users/edvin/anaconda3/lib/python3.6/site-packages/sklearn/linear_model/logistic.py:432: FutureWarning: Default solver will be changed to 'lbfgs' in 0.22. Specify a solver to silence this warning.\n",
      "  FutureWarning)\n",
      "/Users/edvin/anaconda3/lib/python3.6/site-packages/sklearn/linear_model/logistic.py:432: FutureWarning: Default solver will be changed to 'lbfgs' in 0.22. Specify a solver to silence this warning.\n",
      "  FutureWarning)\n",
      "/Users/edvin/anaconda3/lib/python3.6/site-packages/sklearn/linear_model/logistic.py:432: FutureWarning: Default solver will be changed to 'lbfgs' in 0.22. Specify a solver to silence this warning.\n",
      "  FutureWarning)\n",
      "/Users/edvin/anaconda3/lib/python3.6/site-packages/sklearn/linear_model/logistic.py:432: FutureWarning: Default solver will be changed to 'lbfgs' in 0.22. Specify a solver to silence this warning.\n",
      "  FutureWarning)\n",
      "/Users/edvin/anaconda3/lib/python3.6/site-packages/sklearn/linear_model/logistic.py:432: FutureWarning: Default solver will be changed to 'lbfgs' in 0.22. Specify a solver to silence this warning.\n",
      "  FutureWarning)\n",
      "/Users/edvin/anaconda3/lib/python3.6/site-packages/sklearn/linear_model/logistic.py:432: FutureWarning: Default solver will be changed to 'lbfgs' in 0.22. Specify a solver to silence this warning.\n",
      "  FutureWarning)\n",
      "/Users/edvin/anaconda3/lib/python3.6/site-packages/sklearn/linear_model/logistic.py:432: FutureWarning: Default solver will be changed to 'lbfgs' in 0.22. Specify a solver to silence this warning.\n",
      "  FutureWarning)\n",
      "/Users/edvin/anaconda3/lib/python3.6/site-packages/sklearn/linear_model/logistic.py:432: FutureWarning: Default solver will be changed to 'lbfgs' in 0.22. Specify a solver to silence this warning.\n",
      "  FutureWarning)\n",
      "/Users/edvin/anaconda3/lib/python3.6/site-packages/sklearn/linear_model/logistic.py:432: FutureWarning: Default solver will be changed to 'lbfgs' in 0.22. Specify a solver to silence this warning.\n",
      "  FutureWarning)\n",
      "/Users/edvin/anaconda3/lib/python3.6/site-packages/sklearn/linear_model/logistic.py:432: FutureWarning: Default solver will be changed to 'lbfgs' in 0.22. Specify a solver to silence this warning.\n",
      "  FutureWarning)\n",
      "/Users/edvin/anaconda3/lib/python3.6/site-packages/sklearn/linear_model/logistic.py:432: FutureWarning: Default solver will be changed to 'lbfgs' in 0.22. Specify a solver to silence this warning.\n",
      "  FutureWarning)\n"
     ]
    }
   ],
   "source": [
    "clf = LogisticRegression()\n",
    "\n",
    "params = {'C': [0.01, 0.1, 1, 10, 20], 'penalty': ['l1', 'l2']}\n",
    "\n",
    "grid = GridSearchCV(estimator=clf, param_grid=params, cv=5)\n",
    "grid = grid.fit(data_train_X, data_train_Y)"
   ]
  },
  {
   "cell_type": "markdown",
   "metadata": {},
   "source": [
    "Pozrieme sa ktore parametre boli najlepsie."
   ]
  },
  {
   "cell_type": "code",
   "execution_count": 99,
   "metadata": {},
   "outputs": [
    {
     "data": {
      "text/plain": [
       "{'C': 10, 'penalty': 'l1'}"
      ]
     },
     "execution_count": 99,
     "metadata": {},
     "output_type": "execute_result"
    }
   ],
   "source": [
    "grid.best_params_"
   ]
  },
  {
   "cell_type": "markdown",
   "metadata": {},
   "source": [
    "Pouzijeme dane parametre na natrenovanie logistickej regresie a pouzijeme ich na predpoved."
   ]
  },
  {
   "cell_type": "code",
   "execution_count": 100,
   "metadata": {},
   "outputs": [
    {
     "name": "stderr",
     "output_type": "stream",
     "text": [
      "/Users/edvin/anaconda3/lib/python3.6/site-packages/sklearn/linear_model/logistic.py:432: FutureWarning: Default solver will be changed to 'lbfgs' in 0.22. Specify a solver to silence this warning.\n",
      "  FutureWarning)\n"
     ]
    },
    {
     "data": {
      "text/plain": [
       "LogisticRegression(C=10, class_weight=None, dual=False, fit_intercept=True,\n",
       "          intercept_scaling=1, max_iter=100, multi_class='warn',\n",
       "          n_jobs=None, penalty='l1', random_state=None, solver='warn',\n",
       "          tol=0.0001, verbose=0, warm_start=False)"
      ]
     },
     "execution_count": 100,
     "metadata": {},
     "output_type": "execute_result"
    }
   ],
   "source": [
    "clf = LogisticRegression(C=10, penalty='l1')\n",
    "clf.fit(data_train_X, data_train_Y)"
   ]
  },
  {
   "cell_type": "code",
   "execution_count": 101,
   "metadata": {},
   "outputs": [
    {
     "data": {
      "text/plain": [
       "array([1, 1, 0, ..., 0, 1, 1])"
      ]
     },
     "execution_count": 101,
     "metadata": {},
     "output_type": "execute_result"
    }
   ],
   "source": [
    "predictions = clf.predict(data_test_X)\n",
    "predictions"
   ]
  },
  {
   "cell_type": "code",
   "execution_count": 102,
   "metadata": {},
   "outputs": [
    {
     "name": "stdout",
     "output_type": "stream",
     "text": [
      "0.8010842368640534\n"
     ]
    }
   ],
   "source": [
    "print(accuracy_score(data_test_Y, predictions))"
   ]
  },
  {
   "cell_type": "markdown",
   "metadata": {},
   "source": [
    "Vidime ze ani takto sa accuracy score nezlepsil."
   ]
  },
  {
   "cell_type": "markdown",
   "metadata": {},
   "source": [
    "# 5. Pouzijeme feature importance pre vytiahnutie najdolezitejsich atributov s ExtraTreesClassifieru."
   ]
  },
  {
   "cell_type": "code",
   "execution_count": 103,
   "metadata": {},
   "outputs": [],
   "source": [
    "from sklearn.ensemble import ExtraTreesClassifier\n",
    "from sklearn.feature_selection import SelectFromModel"
   ]
  },
  {
   "cell_type": "code",
   "execution_count": 104,
   "metadata": {},
   "outputs": [],
   "source": [
    "# Nafitujeme model z 30-timi stromcekmy\n",
    "model = ExtraTreesClassifier(n_estimators = 30)\n",
    "model.fit(data_train_X, data_train_Y)\n",
    "\n",
    "# Vyberieme najlepsie atributy\n",
    "sel = SelectFromModel(model, prefit=True)\n",
    "\n",
    "# Vytvorime nove datasety z najlepsimi atributmy.\n",
    "X_train_new = pd.DataFrame(sel.transform(data_train_X))\n",
    "X_test_new = pd.DataFrame(sel.transform(data_test_X))"
   ]
  },
  {
   "cell_type": "code",
   "execution_count": 105,
   "metadata": {},
   "outputs": [
    {
     "name": "stderr",
     "output_type": "stream",
     "text": [
      "/Users/edvin/anaconda3/lib/python3.6/site-packages/sklearn/linear_model/logistic.py:432: FutureWarning: Default solver will be changed to 'lbfgs' in 0.22. Specify a solver to silence this warning.\n",
      "  FutureWarning)\n"
     ]
    },
    {
     "name": "stdout",
     "output_type": "stream",
     "text": [
      "0.8790349487029777\n",
      "0.8731128534489949\n"
     ]
    },
    {
     "name": "stderr",
     "output_type": "stream",
     "text": [
      "/Users/edvin/anaconda3/lib/python3.6/site-packages/sklearn/linear_model/logistic.py:432: FutureWarning: Default solver will be changed to 'lbfgs' in 0.22. Specify a solver to silence this warning.\n",
      "  FutureWarning)\n"
     ]
    },
    {
     "name": "stdout",
     "output_type": "stream",
     "text": [
      "0.8748019017432647\n",
      "0.8795771123529902\n",
      "0.8794519976645259\n"
     ]
    },
    {
     "data": {
      "text/plain": [
       "Pipeline(memory=None,\n",
       "     steps=[('classifiers', FeatureUnion(n_jobs=None,\n",
       "       transformer_list=[('Logistic Regression with L1 regularization', <transformers.ModelTransformer.ModelTransformer object at 0x1a1dc59780>), ('Logistic Regression with L2 regularization', <transformers.ModelTransformer.ModelTransformer object at 0x1a1dc597f0>), ('kNN', <transformers.ModelTransformer.M...9908>), ('Decission Tree', <transformers.ModelTransformer.ModelTransformer object at 0x1a1dc59978>)],\n",
       "       transformer_weights=None))])"
      ]
     },
     "execution_count": 105,
     "metadata": {},
     "output_type": "execute_result"
    }
   ],
   "source": [
    "pred_algo_pipeline.fit(X_train_new, data_train_Y) "
   ]
  },
  {
   "cell_type": "code",
   "execution_count": 106,
   "metadata": {
    "scrolled": true
   },
   "outputs": [
    {
     "data": {
      "text/plain": [
       "array([[1, 1, 1, 1, 1],\n",
       "       [1, 1, 1, 1, 1],\n",
       "       [0, 0, 0, 0, 0],\n",
       "       ...,\n",
       "       [0, 0, 0, 0, 0],\n",
       "       [1, 1, 1, 1, 1],\n",
       "       [1, 1, 1, 1, 1]])"
      ]
     },
     "execution_count": 106,
     "metadata": {},
     "output_type": "execute_result"
    }
   ],
   "source": [
    "# Urobime predikciu nad testovacimi datami\n",
    "predicted = pred_algo_pipeline.transform(X_test_new)\n",
    "\n",
    "# Dostaneme array kde kazdy stlpec zodpoveda predpokladu daneho algoritmu\n",
    "predicted"
   ]
  },
  {
   "cell_type": "code",
   "execution_count": 107,
   "metadata": {},
   "outputs": [
    {
     "name": "stdout",
     "output_type": "stream",
     "text": [
      " ********************** Results *************************** \n",
      "Alghoritm used= \n",
      "Logistic Regression with L1 regularization\n",
      " \n",
      "Accuracy Score= \n",
      "0.8011676396997498\n",
      " \n",
      "Confusion Matrix= \n",
      "[[3799 1117]\n",
      " [1267 5807]]\n",
      " \n",
      "Precision/Recall/F1 Score=\n",
      "              precision    recall  f1-score   support\n",
      "\n",
      "           0       0.75      0.77      0.76      4916\n",
      "           1       0.84      0.82      0.83      7074\n",
      "\n",
      "   micro avg       0.80      0.80      0.80     11990\n",
      "   macro avg       0.79      0.80      0.80     11990\n",
      "weighted avg       0.80      0.80      0.80     11990\n",
      "\n",
      " \n",
      "Area Under Curve=\n",
      "0.7968380813499418\n",
      " **********************************************************\n",
      " \n",
      " \n",
      " ********************** Results *************************** \n",
      "Alghoritm used= \n",
      "Logistic Regression with L2 regularization\n",
      " \n",
      "Accuracy Score= \n",
      "0.8211009174311926\n",
      " \n",
      "Confusion Matrix= \n",
      "[[3686 1230]\n",
      " [ 915 6159]]\n",
      " \n",
      "Precision/Recall/F1 Score=\n",
      "              precision    recall  f1-score   support\n",
      "\n",
      "           0       0.80      0.75      0.77      4916\n",
      "           1       0.83      0.87      0.85      7074\n",
      "\n",
      "   micro avg       0.82      0.82      0.82     11990\n",
      "   macro avg       0.82      0.81      0.81     11990\n",
      "weighted avg       0.82      0.82      0.82     11990\n",
      "\n",
      " \n",
      "Area Under Curve=\n",
      "0.8102248392157025\n",
      " **********************************************************\n",
      " \n",
      " \n",
      " ********************** Results *************************** \n",
      "Alghoritm used= \n",
      "kNN\n",
      " \n",
      "Accuracy Score= \n",
      "0.8070058381984988\n",
      " \n",
      "Confusion Matrix= \n",
      "[[3789 1127]\n",
      " [1187 5887]]\n",
      " \n",
      "Precision/Recall/F1 Score=\n",
      "              precision    recall  f1-score   support\n",
      "\n",
      "           0       0.76      0.77      0.77      4916\n",
      "           1       0.84      0.83      0.84      7074\n",
      "\n",
      "   micro avg       0.81      0.81      0.81     11990\n",
      "   macro avg       0.80      0.80      0.80     11990\n",
      "weighted avg       0.81      0.81      0.81     11990\n",
      "\n",
      " \n",
      "Area Under Curve=\n",
      "0.8014755037585924\n",
      " **********************************************************\n",
      " \n",
      " \n",
      " ********************** Results *************************** \n",
      "Alghoritm used= \n",
      "Random Forest\n",
      " \n",
      "Accuracy Score= \n",
      "0.8085904920767306\n",
      " \n",
      "Confusion Matrix= \n",
      "[[3794 1122]\n",
      " [1173 5901]]\n",
      " \n",
      "Precision/Recall/F1 Score=\n",
      "              precision    recall  f1-score   support\n",
      "\n",
      "           0       0.76      0.77      0.77      4916\n",
      "           1       0.84      0.83      0.84      7074\n",
      "\n",
      "   micro avg       0.81      0.81      0.81     11990\n",
      "   macro avg       0.80      0.80      0.80     11990\n",
      "weighted avg       0.81      0.81      0.81     11990\n",
      "\n",
      " \n",
      "Area Under Curve=\n",
      "0.8029735864473969\n",
      " **********************************************************\n",
      " \n",
      " \n",
      " ********************** Results *************************** \n",
      "Alghoritm used= \n",
      "Decission Tree\n",
      " \n",
      "Accuracy Score= \n",
      "0.8085904920767306\n",
      " \n",
      "Confusion Matrix= \n",
      "[[3796 1120]\n",
      " [1175 5899]]\n",
      " \n",
      "Precision/Recall/F1 Score=\n",
      "              precision    recall  f1-score   support\n",
      "\n",
      "           0       0.76      0.77      0.77      4916\n",
      "           1       0.84      0.83      0.84      7074\n",
      "\n",
      "   micro avg       0.81      0.81      0.81     11990\n",
      "   macro avg       0.80      0.80      0.80     11990\n",
      "weighted avg       0.81      0.81      0.81     11990\n",
      "\n",
      " \n",
      "Area Under Curve=\n",
      "0.8030356411231447\n",
      " **********************************************************\n",
      " \n",
      " \n"
     ]
    }
   ],
   "source": [
    "transformer_list = pred_algo_pipeline.steps[0][1].transformer_list\n",
    "print_results(transformer_list, predicted, data_test_Y)"
   ]
  },
  {
   "cell_type": "markdown",
   "metadata": {},
   "source": [
    "Ani tato metoda nam vysledky predikcie nezlepsila na viac ako 82%."
   ]
  },
  {
   "cell_type": "code",
   "execution_count": null,
   "metadata": {},
   "outputs": [],
   "source": []
  }
 ],
 "metadata": {
  "kernelspec": {
   "display_name": "Python 3",
   "language": "python",
   "name": "python3"
  },
  "language_info": {
   "codemirror_mode": {
    "name": "ipython",
    "version": 3
   },
   "file_extension": ".py",
   "mimetype": "text/x-python",
   "name": "python",
   "nbconvert_exporter": "python",
   "pygments_lexer": "ipython3",
   "version": "3.6.5"
  }
 },
 "nbformat": 4,
 "nbformat_minor": 2
}
