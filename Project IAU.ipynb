{
 "cells": [
  {
   "cell_type": "markdown",
   "metadata": {},
   "source": [
    "# Predikcia ochorenie stitnej zlazy"
   ]
  },
  {
   "cell_type": "markdown",
   "metadata": {},
   "source": [
    "-----"
   ]
  },
  {
   "cell_type": "markdown",
   "metadata": {},
   "source": [
    "## Analyza dat"
   ]
  },
  {
   "cell_type": "markdown",
   "metadata": {},
   "source": [
    "#### Nacitanie potrebnych kniznic"
   ]
  },
  {
   "cell_type": "code",
   "execution_count": 1,
   "metadata": {},
   "outputs": [],
   "source": [
    "%matplotlib inline\n",
    "import pandas as pd\n",
    "import numpy as np\n",
    "import matplotlib.pyplot as plt\n",
    "import seaborn as sns\n",
    "import scipy.stats as stats"
   ]
  },
  {
   "cell_type": "markdown",
   "metadata": {},
   "source": [
    "#### Nastavenie zobrazovania tabuliek"
   ]
  },
  {
   "cell_type": "code",
   "execution_count": 2,
   "metadata": {},
   "outputs": [],
   "source": [
    "pd.options.display.width = None\n",
    "pd.options.display.max_columns = None"
   ]
  },
  {
   "cell_type": "markdown",
   "metadata": {},
   "source": [
    "#### Nacitanie dat"
   ]
  },
  {
   "cell_type": "code",
   "execution_count": 3,
   "metadata": {},
   "outputs": [],
   "source": [
    "data_personal = pd.read_csv(\"data/personal_train.csv\")\n",
    "data_other = pd.read_csv(\"data/other_train.csv\")"
   ]
  },
  {
   "cell_type": "markdown",
   "metadata": {},
   "source": [
    "#### Samotna analyza"
   ]
  },
  {
   "cell_type": "code",
   "execution_count": 4,
   "metadata": {},
   "outputs": [
    {
     "data": {
      "text/html": [
       "<div>\n",
       "<style scoped>\n",
       "    .dataframe tbody tr th:only-of-type {\n",
       "        vertical-align: middle;\n",
       "    }\n",
       "\n",
       "    .dataframe tbody tr th {\n",
       "        vertical-align: top;\n",
       "    }\n",
       "\n",
       "    .dataframe thead th {\n",
       "        text-align: right;\n",
       "    }\n",
       "</style>\n",
       "<table border=\"1\" class=\"dataframe\">\n",
       "  <thead>\n",
       "    <tr style=\"text-align: right;\">\n",
       "      <th></th>\n",
       "      <th>Unnamed: 0</th>\n",
       "      <th>name</th>\n",
       "      <th>address</th>\n",
       "      <th>age</th>\n",
       "      <th>sex</th>\n",
       "      <th>date_of_birth</th>\n",
       "    </tr>\n",
       "  </thead>\n",
       "  <tbody>\n",
       "    <tr>\n",
       "      <th>0</th>\n",
       "      <td>0</td>\n",
       "      <td>Terry Terry</td>\n",
       "      <td>11818 Lori Crossing Apt. 802\\nPughstad, DC 78165</td>\n",
       "      <td>24.0</td>\n",
       "      <td>M</td>\n",
       "      <td>94-05-02</td>\n",
       "    </tr>\n",
       "    <tr>\n",
       "      <th>1</th>\n",
       "      <td>1</td>\n",
       "      <td>Stephen Lalk</td>\n",
       "      <td>PSC 4657, Box 5446\\nAPO AP 58412</td>\n",
       "      <td>44.0</td>\n",
       "      <td>M</td>\n",
       "      <td>1974-04-29 00 00 00</td>\n",
       "    </tr>\n",
       "    <tr>\n",
       "      <th>2</th>\n",
       "      <td>2</td>\n",
       "      <td>Abraham Bruce</td>\n",
       "      <td>Unit 9759 Box 9470\\nDPO AP 45549</td>\n",
       "      <td>56.0</td>\n",
       "      <td>M</td>\n",
       "      <td>1962-06-09</td>\n",
       "    </tr>\n",
       "    <tr>\n",
       "      <th>3</th>\n",
       "      <td>3</td>\n",
       "      <td>Edith Boudreaux</td>\n",
       "      <td>137 Lewis Flat Suite 762\\nWest Elizabeth, AL 3...</td>\n",
       "      <td>71.0</td>\n",
       "      <td>F</td>\n",
       "      <td>1946-12-16 00 00 00</td>\n",
       "    </tr>\n",
       "    <tr>\n",
       "      <th>4</th>\n",
       "      <td>4</td>\n",
       "      <td>Janet Washington</td>\n",
       "      <td>995 Frank Stravenue\\nSouth Matthewport, TX 81402</td>\n",
       "      <td>63.0</td>\n",
       "      <td>F</td>\n",
       "      <td>1955-10-15</td>\n",
       "    </tr>\n",
       "  </tbody>\n",
       "</table>\n",
       "</div>"
      ],
      "text/plain": [
       "   Unnamed: 0              name  \\\n",
       "0           0       Terry Terry   \n",
       "1           1      Stephen Lalk   \n",
       "2           2     Abraham Bruce   \n",
       "3           3   Edith Boudreaux   \n",
       "4           4  Janet Washington   \n",
       "\n",
       "                                             address   age sex  \\\n",
       "0   11818 Lori Crossing Apt. 802\\nPughstad, DC 78165  24.0   M   \n",
       "1                   PSC 4657, Box 5446\\nAPO AP 58412  44.0   M   \n",
       "2                   Unit 9759 Box 9470\\nDPO AP 45549  56.0   M   \n",
       "3  137 Lewis Flat Suite 762\\nWest Elizabeth, AL 3...  71.0   F   \n",
       "4   995 Frank Stravenue\\nSouth Matthewport, TX 81402  63.0   F   \n",
       "\n",
       "         date_of_birth  \n",
       "0             94-05-02  \n",
       "1  1974-04-29 00 00 00  \n",
       "2           1962-06-09  \n",
       "3  1946-12-16 00 00 00  \n",
       "4           1955-10-15  "
      ]
     },
     "execution_count": 4,
     "metadata": {},
     "output_type": "execute_result"
    }
   ],
   "source": [
    "data_personal.head()"
   ]
  },
  {
   "cell_type": "code",
   "execution_count": 5,
   "metadata": {
    "scrolled": false
   },
   "outputs": [
    {
     "data": {
      "text/html": [
       "<div>\n",
       "<style scoped>\n",
       "    .dataframe tbody tr th:only-of-type {\n",
       "        vertical-align: middle;\n",
       "    }\n",
       "\n",
       "    .dataframe tbody tr th {\n",
       "        vertical-align: top;\n",
       "    }\n",
       "\n",
       "    .dataframe thead th {\n",
       "        text-align: right;\n",
       "    }\n",
       "</style>\n",
       "<table border=\"1\" class=\"dataframe\">\n",
       "  <thead>\n",
       "    <tr style=\"text-align: right;\">\n",
       "      <th></th>\n",
       "      <th>Unnamed: 0</th>\n",
       "      <th>name</th>\n",
       "      <th>address</th>\n",
       "      <th>FTI measured</th>\n",
       "      <th>education</th>\n",
       "      <th>lithium</th>\n",
       "      <th>TT4</th>\n",
       "      <th>T4U</th>\n",
       "      <th>capital-loss</th>\n",
       "      <th>capital-gain</th>\n",
       "      <th>on thyroxine</th>\n",
       "      <th>tumor</th>\n",
       "      <th>TSH</th>\n",
       "      <th>T3</th>\n",
       "      <th>fnlwgt</th>\n",
       "      <th>hours-per-week</th>\n",
       "      <th>relationship</th>\n",
       "      <th>thyroid surgery</th>\n",
       "      <th>workclass</th>\n",
       "      <th>I131 treatment</th>\n",
       "      <th>class</th>\n",
       "      <th>marital-status</th>\n",
       "      <th>goitre</th>\n",
       "      <th>native-country</th>\n",
       "      <th>hypopituitary</th>\n",
       "      <th>query on thyroxine</th>\n",
       "      <th>medical_info</th>\n",
       "      <th>T3 measured</th>\n",
       "      <th>referral source</th>\n",
       "      <th>education-num</th>\n",
       "      <th>occupation</th>\n",
       "      <th>TBG measured</th>\n",
       "      <th>TBG</th>\n",
       "      <th>race</th>\n",
       "      <th>pregnant</th>\n",
       "    </tr>\n",
       "  </thead>\n",
       "  <tbody>\n",
       "    <tr>\n",
       "      <th>0</th>\n",
       "      <td>0</td>\n",
       "      <td>Latonya Wilhelm</td>\n",
       "      <td>397 Joshua Forge Suite 012\\nEast Ericburgh, WV...</td>\n",
       "      <td>f</td>\n",
       "      <td>11th</td>\n",
       "      <td>f</td>\n",
       "      <td>NaN</td>\n",
       "      <td>NaN</td>\n",
       "      <td>0.0</td>\n",
       "      <td>0.0</td>\n",
       "      <td>f</td>\n",
       "      <td>f</td>\n",
       "      <td>NaN</td>\n",
       "      <td>NaN</td>\n",
       "      <td>28729.0</td>\n",
       "      <td>40.0</td>\n",
       "      <td>Not-in-family</td>\n",
       "      <td>f</td>\n",
       "      <td>Private</td>\n",
       "      <td>f</td>\n",
       "      <td>negative.|1821</td>\n",
       "      <td>Separated</td>\n",
       "      <td>f</td>\n",
       "      <td>United-States</td>\n",
       "      <td>f</td>\n",
       "      <td>F</td>\n",
       "      <td>{'TSH measured':'f','query hyperthyroid':'f','...</td>\n",
       "      <td>f</td>\n",
       "      <td>other</td>\n",
       "      <td>7.0</td>\n",
       "      <td>Machine-op-inspct</td>\n",
       "      <td>f</td>\n",
       "      <td>?</td>\n",
       "      <td>White</td>\n",
       "      <td>f</td>\n",
       "    </tr>\n",
       "    <tr>\n",
       "      <th>1</th>\n",
       "      <td>1</td>\n",
       "      <td>Stacy Martinson</td>\n",
       "      <td>59472 Brian Views Apt. 885\\nKeithhaven, KS 03608</td>\n",
       "      <td>t</td>\n",
       "      <td>11th</td>\n",
       "      <td>f</td>\n",
       "      <td>124.0</td>\n",
       "      <td>1.04</td>\n",
       "      <td>0.0</td>\n",
       "      <td>0.0</td>\n",
       "      <td>t</td>\n",
       "      <td>f</td>\n",
       "      <td>0.035</td>\n",
       "      <td>NaN</td>\n",
       "      <td>250121.0</td>\n",
       "      <td>40.0</td>\n",
       "      <td>Wife</td>\n",
       "      <td>f</td>\n",
       "      <td>Private</td>\n",
       "      <td>f</td>\n",
       "      <td>negative.|3498</td>\n",
       "      <td>Married-civ-spouse</td>\n",
       "      <td>f</td>\n",
       "      <td>United-States</td>\n",
       "      <td>f</td>\n",
       "      <td>f</td>\n",
       "      <td>{'TSH measured':'t','query hyperthyroid':'f','...</td>\n",
       "      <td>f</td>\n",
       "      <td>other</td>\n",
       "      <td>7.0</td>\n",
       "      <td>Other-service</td>\n",
       "      <td>f</td>\n",
       "      <td>?</td>\n",
       "      <td>White</td>\n",
       "      <td>f</td>\n",
       "    </tr>\n",
       "    <tr>\n",
       "      <th>2</th>\n",
       "      <td>2</td>\n",
       "      <td>Linda Derby</td>\n",
       "      <td>Unit 5333 Box 7103\\nDPO AA 03763</td>\n",
       "      <td>t</td>\n",
       "      <td>HS-grad</td>\n",
       "      <td>f</td>\n",
       "      <td>60.0</td>\n",
       "      <td>1.04</td>\n",
       "      <td>0.0</td>\n",
       "      <td>0.0</td>\n",
       "      <td>f</td>\n",
       "      <td>f</td>\n",
       "      <td>11.000</td>\n",
       "      <td>0.8</td>\n",
       "      <td>296125.0</td>\n",
       "      <td>30.0</td>\n",
       "      <td>Unmarried</td>\n",
       "      <td>f</td>\n",
       "      <td>Private</td>\n",
       "      <td>f</td>\n",
       "      <td>negative.|3768</td>\n",
       "      <td>Separated</td>\n",
       "      <td>f</td>\n",
       "      <td>United-States</td>\n",
       "      <td>f</td>\n",
       "      <td>f</td>\n",
       "      <td>{'TSH measured':'t','query hyperthyroid':'f','...</td>\n",
       "      <td>t</td>\n",
       "      <td>SVI</td>\n",
       "      <td>9.0</td>\n",
       "      <td>Priv-house-serv</td>\n",
       "      <td>f</td>\n",
       "      <td>?</td>\n",
       "      <td>Black</td>\n",
       "      <td>f</td>\n",
       "    </tr>\n",
       "    <tr>\n",
       "      <th>3</th>\n",
       "      <td>3</td>\n",
       "      <td>Albert Cipriano</td>\n",
       "      <td>38302 Bradshaw Rue\\nNorth Hannahshire, NC 34515</td>\n",
       "      <td>t</td>\n",
       "      <td>Bachelors</td>\n",
       "      <td>f</td>\n",
       "      <td>101.0</td>\n",
       "      <td>0.81</td>\n",
       "      <td>0.0</td>\n",
       "      <td>0.0</td>\n",
       "      <td>f</td>\n",
       "      <td>f</td>\n",
       "      <td>0.250</td>\n",
       "      <td>2.0</td>\n",
       "      <td>187830.0</td>\n",
       "      <td>50.0</td>\n",
       "      <td>Not-in-family</td>\n",
       "      <td>f</td>\n",
       "      <td>Private</td>\n",
       "      <td>f</td>\n",
       "      <td>negative.|2403</td>\n",
       "      <td>Never-married</td>\n",
       "      <td>f</td>\n",
       "      <td>United-States</td>\n",
       "      <td>f</td>\n",
       "      <td>FALSE</td>\n",
       "      <td>{'TSH measured':'t','query hyperthyroid':'f','...</td>\n",
       "      <td>t</td>\n",
       "      <td>SVI</td>\n",
       "      <td>13.0</td>\n",
       "      <td>Exec-managerial</td>\n",
       "      <td>f</td>\n",
       "      <td>?</td>\n",
       "      <td>White</td>\n",
       "      <td>f</td>\n",
       "    </tr>\n",
       "    <tr>\n",
       "      <th>4</th>\n",
       "      <td>4</td>\n",
       "      <td>David Cook</td>\n",
       "      <td>7984 Jason Motorway Suite 440\\nNelsonville, OK...</td>\n",
       "      <td>t</td>\n",
       "      <td>Some-college</td>\n",
       "      <td>f</td>\n",
       "      <td>89.0</td>\n",
       "      <td>0.83</td>\n",
       "      <td>0.0</td>\n",
       "      <td>0.0</td>\n",
       "      <td>f</td>\n",
       "      <td>f</td>\n",
       "      <td>1.800</td>\n",
       "      <td>2.3</td>\n",
       "      <td>312017.0</td>\n",
       "      <td>40.0</td>\n",
       "      <td>Not-in-family</td>\n",
       "      <td>f</td>\n",
       "      <td>Private</td>\n",
       "      <td>f</td>\n",
       "      <td>negative.|1588</td>\n",
       "      <td>Never-married</td>\n",
       "      <td>f</td>\n",
       "      <td>United-States</td>\n",
       "      <td>f</td>\n",
       "      <td>f</td>\n",
       "      <td>{'TSH measured':'t','query hyperthyroid':'f','...</td>\n",
       "      <td>t</td>\n",
       "      <td>other</td>\n",
       "      <td>10.0</td>\n",
       "      <td>Exec-managerial</td>\n",
       "      <td>f</td>\n",
       "      <td>?</td>\n",
       "      <td>White</td>\n",
       "      <td>f</td>\n",
       "    </tr>\n",
       "  </tbody>\n",
       "</table>\n",
       "</div>"
      ],
      "text/plain": [
       "   Unnamed: 0             name  \\\n",
       "0           0  Latonya Wilhelm   \n",
       "1           1  Stacy Martinson   \n",
       "2           2      Linda Derby   \n",
       "3           3  Albert Cipriano   \n",
       "4           4       David Cook   \n",
       "\n",
       "                                             address FTI measured  \\\n",
       "0  397 Joshua Forge Suite 012\\nEast Ericburgh, WV...            f   \n",
       "1   59472 Brian Views Apt. 885\\nKeithhaven, KS 03608            t   \n",
       "2                   Unit 5333 Box 7103\\nDPO AA 03763            t   \n",
       "3    38302 Bradshaw Rue\\nNorth Hannahshire, NC 34515            t   \n",
       "4  7984 Jason Motorway Suite 440\\nNelsonville, OK...            t   \n",
       "\n",
       "       education lithium    TT4   T4U  capital-loss  capital-gain  \\\n",
       "0           11th       f    NaN   NaN           0.0           0.0   \n",
       "1           11th       f  124.0  1.04           0.0           0.0   \n",
       "2        HS-grad       f   60.0  1.04           0.0           0.0   \n",
       "3      Bachelors       f  101.0  0.81           0.0           0.0   \n",
       "4   Some-college       f   89.0  0.83           0.0           0.0   \n",
       "\n",
       "  on thyroxine tumor     TSH   T3    fnlwgt  hours-per-week    relationship  \\\n",
       "0            f     f     NaN  NaN   28729.0            40.0   Not-in-family   \n",
       "1            t     f   0.035  NaN  250121.0            40.0            Wife   \n",
       "2            f     f  11.000  0.8  296125.0            30.0       Unmarried   \n",
       "3            f     f   0.250  2.0  187830.0            50.0   Not-in-family   \n",
       "4            f     f   1.800  2.3  312017.0            40.0   Not-in-family   \n",
       "\n",
       "  thyroid surgery workclass I131 treatment           class  \\\n",
       "0               f   Private              f  negative.|1821   \n",
       "1               f   Private              f  negative.|3498   \n",
       "2               f   Private              f  negative.|3768   \n",
       "3               f   Private              f  negative.|2403   \n",
       "4               f   Private              f  negative.|1588   \n",
       "\n",
       "        marital-status goitre  native-country hypopituitary  \\\n",
       "0            Separated      f   United-States             f   \n",
       "1   Married-civ-spouse      f   United-States             f   \n",
       "2            Separated      f   United-States             f   \n",
       "3        Never-married      f   United-States             f   \n",
       "4        Never-married      f   United-States             f   \n",
       "\n",
       "  query on thyroxine                                       medical_info  \\\n",
       "0                  F  {'TSH measured':'f','query hyperthyroid':'f','...   \n",
       "1                  f  {'TSH measured':'t','query hyperthyroid':'f','...   \n",
       "2                  f  {'TSH measured':'t','query hyperthyroid':'f','...   \n",
       "3              FALSE  {'TSH measured':'t','query hyperthyroid':'f','...   \n",
       "4                  f  {'TSH measured':'t','query hyperthyroid':'f','...   \n",
       "\n",
       "  T3 measured referral source  education-num          occupation TBG measured  \\\n",
       "0           f           other            7.0   Machine-op-inspct            f   \n",
       "1           f           other            7.0       Other-service            f   \n",
       "2           t             SVI            9.0     Priv-house-serv            f   \n",
       "3           t             SVI           13.0     Exec-managerial            f   \n",
       "4           t           other           10.0     Exec-managerial            f   \n",
       "\n",
       "  TBG    race pregnant  \n",
       "0   ?   White        f  \n",
       "1   ?   White        f  \n",
       "2   ?   Black        f  \n",
       "3   ?   White        f  \n",
       "4   ?   White        f  "
      ]
     },
     "execution_count": 5,
     "metadata": {},
     "output_type": "execute_result"
    }
   ],
   "source": [
    "data_other.head()"
   ]
  },
  {
   "cell_type": "code",
   "execution_count": 6,
   "metadata": {},
   "outputs": [
    {
     "name": "stdout",
     "output_type": "stream",
     "text": [
      "<class 'pandas.core.frame.DataFrame'>\n",
      "RangeIndex: 2237 entries, 0 to 2236\n",
      "Data columns (total 6 columns):\n",
      "Unnamed: 0       2237 non-null int64\n",
      "name             2237 non-null object\n",
      "address          2237 non-null object\n",
      "age              2236 non-null float64\n",
      "sex              2237 non-null object\n",
      "date_of_birth    2236 non-null object\n",
      "dtypes: float64(1), int64(1), object(4)\n",
      "memory usage: 104.9+ KB\n"
     ]
    }
   ],
   "source": [
    "data_personal.info()"
   ]
  },
  {
   "cell_type": "code",
   "execution_count": 7,
   "metadata": {},
   "outputs": [
    {
     "data": {
      "text/html": [
       "<div>\n",
       "<style scoped>\n",
       "    .dataframe tbody tr th:only-of-type {\n",
       "        vertical-align: middle;\n",
       "    }\n",
       "\n",
       "    .dataframe tbody tr th {\n",
       "        vertical-align: top;\n",
       "    }\n",
       "\n",
       "    .dataframe thead th {\n",
       "        text-align: right;\n",
       "    }\n",
       "</style>\n",
       "<table border=\"1\" class=\"dataframe\">\n",
       "  <thead>\n",
       "    <tr style=\"text-align: right;\">\n",
       "      <th></th>\n",
       "      <th>Unnamed: 0</th>\n",
       "      <th>name</th>\n",
       "      <th>address</th>\n",
       "      <th>age</th>\n",
       "      <th>sex</th>\n",
       "      <th>date_of_birth</th>\n",
       "    </tr>\n",
       "  </thead>\n",
       "  <tbody>\n",
       "    <tr>\n",
       "      <th>count</th>\n",
       "      <td>2237.000000</td>\n",
       "      <td>2237</td>\n",
       "      <td>2237</td>\n",
       "      <td>2236.000000</td>\n",
       "      <td>2237</td>\n",
       "      <td>2236</td>\n",
       "    </tr>\n",
       "    <tr>\n",
       "      <th>unique</th>\n",
       "      <td>NaN</td>\n",
       "      <td>2236</td>\n",
       "      <td>2237</td>\n",
       "      <td>NaN</td>\n",
       "      <td>3</td>\n",
       "      <td>2196</td>\n",
       "    </tr>\n",
       "    <tr>\n",
       "      <th>top</th>\n",
       "      <td>NaN</td>\n",
       "      <td>Terry Murphy</td>\n",
       "      <td>814 Brenda Plains Suite 374\\nRobertbury, AK 69778</td>\n",
       "      <td>NaN</td>\n",
       "      <td>F</td>\n",
       "      <td>1959-02-02</td>\n",
       "    </tr>\n",
       "    <tr>\n",
       "      <th>freq</th>\n",
       "      <td>NaN</td>\n",
       "      <td>2</td>\n",
       "      <td>1</td>\n",
       "      <td>NaN</td>\n",
       "      <td>1448</td>\n",
       "      <td>2</td>\n",
       "    </tr>\n",
       "    <tr>\n",
       "      <th>mean</th>\n",
       "      <td>1118.000000</td>\n",
       "      <td>NaN</td>\n",
       "      <td>NaN</td>\n",
       "      <td>51.822004</td>\n",
       "      <td>NaN</td>\n",
       "      <td>NaN</td>\n",
       "    </tr>\n",
       "    <tr>\n",
       "      <th>std</th>\n",
       "      <td>645.910598</td>\n",
       "      <td>NaN</td>\n",
       "      <td>NaN</td>\n",
       "      <td>20.884439</td>\n",
       "      <td>NaN</td>\n",
       "      <td>NaN</td>\n",
       "    </tr>\n",
       "    <tr>\n",
       "      <th>min</th>\n",
       "      <td>0.000000</td>\n",
       "      <td>NaN</td>\n",
       "      <td>NaN</td>\n",
       "      <td>1.000000</td>\n",
       "      <td>NaN</td>\n",
       "      <td>NaN</td>\n",
       "    </tr>\n",
       "    <tr>\n",
       "      <th>25%</th>\n",
       "      <td>559.000000</td>\n",
       "      <td>NaN</td>\n",
       "      <td>NaN</td>\n",
       "      <td>36.000000</td>\n",
       "      <td>NaN</td>\n",
       "      <td>NaN</td>\n",
       "    </tr>\n",
       "    <tr>\n",
       "      <th>50%</th>\n",
       "      <td>1118.000000</td>\n",
       "      <td>NaN</td>\n",
       "      <td>NaN</td>\n",
       "      <td>54.000000</td>\n",
       "      <td>NaN</td>\n",
       "      <td>NaN</td>\n",
       "    </tr>\n",
       "    <tr>\n",
       "      <th>75%</th>\n",
       "      <td>1677.000000</td>\n",
       "      <td>NaN</td>\n",
       "      <td>NaN</td>\n",
       "      <td>67.000000</td>\n",
       "      <td>NaN</td>\n",
       "      <td>NaN</td>\n",
       "    </tr>\n",
       "    <tr>\n",
       "      <th>max</th>\n",
       "      <td>2236.000000</td>\n",
       "      <td>NaN</td>\n",
       "      <td>NaN</td>\n",
       "      <td>455.000000</td>\n",
       "      <td>NaN</td>\n",
       "      <td>NaN</td>\n",
       "    </tr>\n",
       "  </tbody>\n",
       "</table>\n",
       "</div>"
      ],
      "text/plain": [
       "         Unnamed: 0          name  \\\n",
       "count   2237.000000          2237   \n",
       "unique          NaN          2236   \n",
       "top             NaN  Terry Murphy   \n",
       "freq            NaN             2   \n",
       "mean    1118.000000           NaN   \n",
       "std      645.910598           NaN   \n",
       "min        0.000000           NaN   \n",
       "25%      559.000000           NaN   \n",
       "50%     1118.000000           NaN   \n",
       "75%     1677.000000           NaN   \n",
       "max     2236.000000           NaN   \n",
       "\n",
       "                                                  address          age   sex  \\\n",
       "count                                                2237  2236.000000  2237   \n",
       "unique                                               2237          NaN     3   \n",
       "top     814 Brenda Plains Suite 374\\nRobertbury, AK 69778          NaN     F   \n",
       "freq                                                    1          NaN  1448   \n",
       "mean                                                  NaN    51.822004   NaN   \n",
       "std                                                   NaN    20.884439   NaN   \n",
       "min                                                   NaN     1.000000   NaN   \n",
       "25%                                                   NaN    36.000000   NaN   \n",
       "50%                                                   NaN    54.000000   NaN   \n",
       "75%                                                   NaN    67.000000   NaN   \n",
       "max                                                   NaN   455.000000   NaN   \n",
       "\n",
       "       date_of_birth  \n",
       "count           2236  \n",
       "unique          2196  \n",
       "top       1959-02-02  \n",
       "freq               2  \n",
       "mean             NaN  \n",
       "std              NaN  \n",
       "min              NaN  \n",
       "25%              NaN  \n",
       "50%              NaN  \n",
       "75%              NaN  \n",
       "max              NaN  "
      ]
     },
     "execution_count": 7,
     "metadata": {},
     "output_type": "execute_result"
    }
   ],
   "source": [
    "data_personal.describe(include='all')"
   ]
  },
  {
   "cell_type": "markdown",
   "metadata": {},
   "source": [
    "Vidime ze mame tam column Unnamed 0, ktory je vlastne index poradia daneho pozorovania, ktore nam poksytuje defaulte dataframe z pandas, cize mozme tento stlpec zotriet"
   ]
  },
  {
   "cell_type": "code",
   "execution_count": 8,
   "metadata": {},
   "outputs": [],
   "source": [
    "data_personal = data_personal.drop(['Unnamed: 0'], axis=1)"
   ]
  },
  {
   "cell_type": "code",
   "execution_count": 9,
   "metadata": {},
   "outputs": [
    {
     "name": "stdout",
     "output_type": "stream",
     "text": [
      "<class 'pandas.core.frame.DataFrame'>\n",
      "RangeIndex: 2287 entries, 0 to 2286\n",
      "Data columns (total 35 columns):\n",
      "Unnamed: 0            2287 non-null int64\n",
      "name                  2287 non-null object\n",
      "address               2287 non-null object\n",
      "FTI measured          2280 non-null object\n",
      "education             2279 non-null object\n",
      "lithium               2278 non-null object\n",
      "TT4                   2126 non-null float64\n",
      "T4U                   2039 non-null float64\n",
      "capital-loss          2281 non-null float64\n",
      "capital-gain          2279 non-null float64\n",
      "on thyroxine          2272 non-null object\n",
      "tumor                 2276 non-null object\n",
      "TSH                   2038 non-null float64\n",
      "T3                    1804 non-null float64\n",
      "fnlwgt                2277 non-null float64\n",
      "hours-per-week        2276 non-null float64\n",
      "relationship          2278 non-null object\n",
      "thyroid surgery       2283 non-null object\n",
      "workclass             2109 non-null object\n",
      "I131 treatment        2278 non-null object\n",
      "class                 2280 non-null object\n",
      "marital-status        2281 non-null object\n",
      "goitre                2282 non-null object\n",
      "native-country        2282 non-null object\n",
      "hypopituitary         2276 non-null object\n",
      "query on thyroxine    2279 non-null object\n",
      "medical_info          2280 non-null object\n",
      "T3 measured           2274 non-null object\n",
      "referral source       2278 non-null object\n",
      "education-num         2056 non-null float64\n",
      "occupation            2279 non-null object\n",
      "TBG measured          2276 non-null object\n",
      "TBG                   2280 non-null object\n",
      "race                  2280 non-null object\n",
      "pregnant              2276 non-null object\n",
      "dtypes: float64(9), int64(1), object(25)\n",
      "memory usage: 625.4+ KB\n"
     ]
    }
   ],
   "source": [
    "data_other.info()"
   ]
  },
  {
   "cell_type": "markdown",
   "metadata": {},
   "source": [
    "# Uzitocne informacie o jednotlivych atributoch\n",
    "- I131 treatment: radioaktivna terapia pre overactive stitnu zlazu\n",
    "- goitre: swelling in the neck (napuchnutie stitnej zlaze)\n",
    "- TSH/T3/T4U: hormony produkujuce stitnou zlazou\n",
    "- capital-loss/gain: prijem z investicnych zdrojov\n",
    "- fnlwgt: sampling weight nad hore vysssich atributov\n",
    "- class: nejake divne hodnoty nasledujuce odelene | a nasledovane hodnotami (negative, positive)\n",
    "- on thyroxine: ci prijma hormon T4U\n",
    "- TGB: plazma protein ktory viaze thyroxin v krvi\n",
    "\n",
    "## Poznamka\n",
    "- Prilis vela T4 thyroxine, sposobuje goitre\n",
    "- Vacsina atributov obsahujuce T/F hodnoty, maju aj jednu hodnotu s cislom, ktoru bude treba spracovat\n",
    "- Atribut 'hypopituitary' obsahuje vsetky hodnoty FALSE (mozne ho vyhodit?)\n",
    "- Date-of-birth je nekonzistentny\n",
    "- Medical-info JSON stlpec (mozno rozdelit do dalsich stlpcov)"
   ]
  },
  {
   "cell_type": "code",
   "execution_count": 10,
   "metadata": {},
   "outputs": [
    {
     "data": {
      "text/html": [
       "<div>\n",
       "<style scoped>\n",
       "    .dataframe tbody tr th:only-of-type {\n",
       "        vertical-align: middle;\n",
       "    }\n",
       "\n",
       "    .dataframe tbody tr th {\n",
       "        vertical-align: top;\n",
       "    }\n",
       "\n",
       "    .dataframe thead th {\n",
       "        text-align: right;\n",
       "    }\n",
       "</style>\n",
       "<table border=\"1\" class=\"dataframe\">\n",
       "  <thead>\n",
       "    <tr style=\"text-align: right;\">\n",
       "      <th></th>\n",
       "      <th>Unnamed: 0</th>\n",
       "      <th>name</th>\n",
       "      <th>address</th>\n",
       "      <th>FTI measured</th>\n",
       "      <th>education</th>\n",
       "      <th>lithium</th>\n",
       "      <th>TT4</th>\n",
       "      <th>T4U</th>\n",
       "      <th>capital-loss</th>\n",
       "      <th>capital-gain</th>\n",
       "      <th>on thyroxine</th>\n",
       "      <th>tumor</th>\n",
       "      <th>TSH</th>\n",
       "      <th>T3</th>\n",
       "      <th>fnlwgt</th>\n",
       "      <th>hours-per-week</th>\n",
       "      <th>relationship</th>\n",
       "      <th>thyroid surgery</th>\n",
       "      <th>workclass</th>\n",
       "      <th>I131 treatment</th>\n",
       "      <th>class</th>\n",
       "      <th>marital-status</th>\n",
       "      <th>goitre</th>\n",
       "      <th>native-country</th>\n",
       "      <th>hypopituitary</th>\n",
       "      <th>query on thyroxine</th>\n",
       "      <th>medical_info</th>\n",
       "      <th>T3 measured</th>\n",
       "      <th>referral source</th>\n",
       "      <th>education-num</th>\n",
       "      <th>occupation</th>\n",
       "      <th>TBG measured</th>\n",
       "      <th>TBG</th>\n",
       "      <th>race</th>\n",
       "      <th>pregnant</th>\n",
       "    </tr>\n",
       "  </thead>\n",
       "  <tbody>\n",
       "    <tr>\n",
       "      <th>count</th>\n",
       "      <td>2287.000000</td>\n",
       "      <td>2287</td>\n",
       "      <td>2287</td>\n",
       "      <td>2280</td>\n",
       "      <td>2279</td>\n",
       "      <td>2278</td>\n",
       "      <td>2126.000000</td>\n",
       "      <td>2039.000000</td>\n",
       "      <td>2281.000000</td>\n",
       "      <td>2279.000000</td>\n",
       "      <td>2272</td>\n",
       "      <td>2276</td>\n",
       "      <td>2038.000000</td>\n",
       "      <td>1804.000000</td>\n",
       "      <td>2277.000000</td>\n",
       "      <td>2276.000000</td>\n",
       "      <td>2278</td>\n",
       "      <td>2283</td>\n",
       "      <td>2109</td>\n",
       "      <td>2278</td>\n",
       "      <td>2280</td>\n",
       "      <td>2281</td>\n",
       "      <td>2282</td>\n",
       "      <td>2282</td>\n",
       "      <td>2276</td>\n",
       "      <td>2279</td>\n",
       "      <td>2280</td>\n",
       "      <td>2274</td>\n",
       "      <td>2278</td>\n",
       "      <td>2056.000000</td>\n",
       "      <td>2279</td>\n",
       "      <td>2276</td>\n",
       "      <td>2280</td>\n",
       "      <td>2280</td>\n",
       "      <td>2276</td>\n",
       "    </tr>\n",
       "    <tr>\n",
       "      <th>unique</th>\n",
       "      <td>NaN</td>\n",
       "      <td>2236</td>\n",
       "      <td>2237</td>\n",
       "      <td>3</td>\n",
       "      <td>24</td>\n",
       "      <td>3</td>\n",
       "      <td>NaN</td>\n",
       "      <td>NaN</td>\n",
       "      <td>NaN</td>\n",
       "      <td>NaN</td>\n",
       "      <td>2</td>\n",
       "      <td>3</td>\n",
       "      <td>NaN</td>\n",
       "      <td>NaN</td>\n",
       "      <td>NaN</td>\n",
       "      <td>NaN</td>\n",
       "      <td>6</td>\n",
       "      <td>3</td>\n",
       "      <td>9</td>\n",
       "      <td>3</td>\n",
       "      <td>2237</td>\n",
       "      <td>6</td>\n",
       "      <td>3</td>\n",
       "      <td>36</td>\n",
       "      <td>2</td>\n",
       "      <td>6</td>\n",
       "      <td>539</td>\n",
       "      <td>3</td>\n",
       "      <td>10</td>\n",
       "      <td>NaN</td>\n",
       "      <td>14</td>\n",
       "      <td>2</td>\n",
       "      <td>1</td>\n",
       "      <td>5</td>\n",
       "      <td>3</td>\n",
       "    </tr>\n",
       "    <tr>\n",
       "      <th>top</th>\n",
       "      <td>NaN</td>\n",
       "      <td>Christian Ortega</td>\n",
       "      <td>1058 Matthew Forges\\nChristopherland, KS 28828</td>\n",
       "      <td>t</td>\n",
       "      <td>HS-grad</td>\n",
       "      <td>f</td>\n",
       "      <td>NaN</td>\n",
       "      <td>NaN</td>\n",
       "      <td>NaN</td>\n",
       "      <td>NaN</td>\n",
       "      <td>f</td>\n",
       "      <td>f</td>\n",
       "      <td>NaN</td>\n",
       "      <td>NaN</td>\n",
       "      <td>NaN</td>\n",
       "      <td>NaN</td>\n",
       "      <td>Not-in-family</td>\n",
       "      <td>f</td>\n",
       "      <td>Private</td>\n",
       "      <td>f</td>\n",
       "      <td>negative.|1571</td>\n",
       "      <td>Never-married</td>\n",
       "      <td>f</td>\n",
       "      <td>United-States</td>\n",
       "      <td>f</td>\n",
       "      <td>f</td>\n",
       "      <td>{'TSH measured':'f','query hyperthyroid':'f','...</td>\n",
       "      <td>t</td>\n",
       "      <td>other</td>\n",
       "      <td>NaN</td>\n",
       "      <td>Adm-clerical</td>\n",
       "      <td>f</td>\n",
       "      <td>?</td>\n",
       "      <td>White</td>\n",
       "      <td>f</td>\n",
       "    </tr>\n",
       "    <tr>\n",
       "      <th>freq</th>\n",
       "      <td>NaN</td>\n",
       "      <td>3</td>\n",
       "      <td>3</td>\n",
       "      <td>2043</td>\n",
       "      <td>634</td>\n",
       "      <td>2266</td>\n",
       "      <td>NaN</td>\n",
       "      <td>NaN</td>\n",
       "      <td>NaN</td>\n",
       "      <td>NaN</td>\n",
       "      <td>2005</td>\n",
       "      <td>2221</td>\n",
       "      <td>NaN</td>\n",
       "      <td>NaN</td>\n",
       "      <td>NaN</td>\n",
       "      <td>NaN</td>\n",
       "      <td>734</td>\n",
       "      <td>2250</td>\n",
       "      <td>1465</td>\n",
       "      <td>2239</td>\n",
       "      <td>3</td>\n",
       "      <td>889</td>\n",
       "      <td>2259</td>\n",
       "      <td>2053</td>\n",
       "      <td>2275</td>\n",
       "      <td>2023</td>\n",
       "      <td>109</td>\n",
       "      <td>1797</td>\n",
       "      <td>1177</td>\n",
       "      <td>NaN</td>\n",
       "      <td>390</td>\n",
       "      <td>2275</td>\n",
       "      <td>2280</td>\n",
       "      <td>1891</td>\n",
       "      <td>2241</td>\n",
       "    </tr>\n",
       "    <tr>\n",
       "      <th>mean</th>\n",
       "      <td>1143.000000</td>\n",
       "      <td>NaN</td>\n",
       "      <td>NaN</td>\n",
       "      <td>NaN</td>\n",
       "      <td>NaN</td>\n",
       "      <td>NaN</td>\n",
       "      <td>109.462088</td>\n",
       "      <td>0.996436</td>\n",
       "      <td>194.064007</td>\n",
       "      <td>817.727512</td>\n",
       "      <td>NaN</td>\n",
       "      <td>NaN</td>\n",
       "      <td>4.691447</td>\n",
       "      <td>2.020926</td>\n",
       "      <td>187889.619675</td>\n",
       "      <td>38.293058</td>\n",
       "      <td>NaN</td>\n",
       "      <td>NaN</td>\n",
       "      <td>NaN</td>\n",
       "      <td>NaN</td>\n",
       "      <td>NaN</td>\n",
       "      <td>NaN</td>\n",
       "      <td>NaN</td>\n",
       "      <td>NaN</td>\n",
       "      <td>NaN</td>\n",
       "      <td>NaN</td>\n",
       "      <td>NaN</td>\n",
       "      <td>NaN</td>\n",
       "      <td>NaN</td>\n",
       "      <td>10.050584</td>\n",
       "      <td>NaN</td>\n",
       "      <td>NaN</td>\n",
       "      <td>NaN</td>\n",
       "      <td>NaN</td>\n",
       "      <td>NaN</td>\n",
       "    </tr>\n",
       "    <tr>\n",
       "      <th>std</th>\n",
       "      <td>660.344355</td>\n",
       "      <td>NaN</td>\n",
       "      <td>NaN</td>\n",
       "      <td>NaN</td>\n",
       "      <td>NaN</td>\n",
       "      <td>NaN</td>\n",
       "      <td>35.879295</td>\n",
       "      <td>0.191213</td>\n",
       "      <td>9116.985776</td>\n",
       "      <td>5971.192914</td>\n",
       "      <td>NaN</td>\n",
       "      <td>NaN</td>\n",
       "      <td>22.630656</td>\n",
       "      <td>0.814135</td>\n",
       "      <td>103904.464111</td>\n",
       "      <td>12.341755</td>\n",
       "      <td>NaN</td>\n",
       "      <td>NaN</td>\n",
       "      <td>NaN</td>\n",
       "      <td>NaN</td>\n",
       "      <td>NaN</td>\n",
       "      <td>NaN</td>\n",
       "      <td>NaN</td>\n",
       "      <td>NaN</td>\n",
       "      <td>NaN</td>\n",
       "      <td>NaN</td>\n",
       "      <td>NaN</td>\n",
       "      <td>NaN</td>\n",
       "      <td>NaN</td>\n",
       "      <td>2.494250</td>\n",
       "      <td>NaN</td>\n",
       "      <td>NaN</td>\n",
       "      <td>NaN</td>\n",
       "      <td>NaN</td>\n",
       "      <td>NaN</td>\n",
       "    </tr>\n",
       "    <tr>\n",
       "      <th>min</th>\n",
       "      <td>0.000000</td>\n",
       "      <td>NaN</td>\n",
       "      <td>NaN</td>\n",
       "      <td>NaN</td>\n",
       "      <td>NaN</td>\n",
       "      <td>NaN</td>\n",
       "      <td>2.000000</td>\n",
       "      <td>0.310000</td>\n",
       "      <td>-200100.000000</td>\n",
       "      <td>0.000000</td>\n",
       "      <td>NaN</td>\n",
       "      <td>NaN</td>\n",
       "      <td>0.005000</td>\n",
       "      <td>0.050000</td>\n",
       "      <td>19395.000000</td>\n",
       "      <td>1.000000</td>\n",
       "      <td>NaN</td>\n",
       "      <td>NaN</td>\n",
       "      <td>NaN</td>\n",
       "      <td>NaN</td>\n",
       "      <td>NaN</td>\n",
       "      <td>NaN</td>\n",
       "      <td>NaN</td>\n",
       "      <td>NaN</td>\n",
       "      <td>NaN</td>\n",
       "      <td>NaN</td>\n",
       "      <td>NaN</td>\n",
       "      <td>NaN</td>\n",
       "      <td>NaN</td>\n",
       "      <td>1.000000</td>\n",
       "      <td>NaN</td>\n",
       "      <td>NaN</td>\n",
       "      <td>NaN</td>\n",
       "      <td>NaN</td>\n",
       "      <td>NaN</td>\n",
       "    </tr>\n",
       "    <tr>\n",
       "      <th>25%</th>\n",
       "      <td>571.500000</td>\n",
       "      <td>NaN</td>\n",
       "      <td>NaN</td>\n",
       "      <td>NaN</td>\n",
       "      <td>NaN</td>\n",
       "      <td>NaN</td>\n",
       "      <td>88.000000</td>\n",
       "      <td>0.880000</td>\n",
       "      <td>0.000000</td>\n",
       "      <td>0.000000</td>\n",
       "      <td>NaN</td>\n",
       "      <td>NaN</td>\n",
       "      <td>0.440000</td>\n",
       "      <td>1.600000</td>\n",
       "      <td>115631.000000</td>\n",
       "      <td>35.000000</td>\n",
       "      <td>NaN</td>\n",
       "      <td>NaN</td>\n",
       "      <td>NaN</td>\n",
       "      <td>NaN</td>\n",
       "      <td>NaN</td>\n",
       "      <td>NaN</td>\n",
       "      <td>NaN</td>\n",
       "      <td>NaN</td>\n",
       "      <td>NaN</td>\n",
       "      <td>NaN</td>\n",
       "      <td>NaN</td>\n",
       "      <td>NaN</td>\n",
       "      <td>NaN</td>\n",
       "      <td>9.000000</td>\n",
       "      <td>NaN</td>\n",
       "      <td>NaN</td>\n",
       "      <td>NaN</td>\n",
       "      <td>NaN</td>\n",
       "      <td>NaN</td>\n",
       "    </tr>\n",
       "    <tr>\n",
       "      <th>50%</th>\n",
       "      <td>1143.000000</td>\n",
       "      <td>NaN</td>\n",
       "      <td>NaN</td>\n",
       "      <td>NaN</td>\n",
       "      <td>NaN</td>\n",
       "      <td>NaN</td>\n",
       "      <td>104.000000</td>\n",
       "      <td>0.980000</td>\n",
       "      <td>0.000000</td>\n",
       "      <td>0.000000</td>\n",
       "      <td>NaN</td>\n",
       "      <td>NaN</td>\n",
       "      <td>1.400000</td>\n",
       "      <td>2.000000</td>\n",
       "      <td>176262.000000</td>\n",
       "      <td>40.000000</td>\n",
       "      <td>NaN</td>\n",
       "      <td>NaN</td>\n",
       "      <td>NaN</td>\n",
       "      <td>NaN</td>\n",
       "      <td>NaN</td>\n",
       "      <td>NaN</td>\n",
       "      <td>NaN</td>\n",
       "      <td>NaN</td>\n",
       "      <td>NaN</td>\n",
       "      <td>NaN</td>\n",
       "      <td>NaN</td>\n",
       "      <td>NaN</td>\n",
       "      <td>NaN</td>\n",
       "      <td>10.000000</td>\n",
       "      <td>NaN</td>\n",
       "      <td>NaN</td>\n",
       "      <td>NaN</td>\n",
       "      <td>NaN</td>\n",
       "      <td>NaN</td>\n",
       "    </tr>\n",
       "    <tr>\n",
       "      <th>75%</th>\n",
       "      <td>1714.500000</td>\n",
       "      <td>NaN</td>\n",
       "      <td>NaN</td>\n",
       "      <td>NaN</td>\n",
       "      <td>NaN</td>\n",
       "      <td>NaN</td>\n",
       "      <td>126.000000</td>\n",
       "      <td>1.080000</td>\n",
       "      <td>0.000000</td>\n",
       "      <td>0.000000</td>\n",
       "      <td>NaN</td>\n",
       "      <td>NaN</td>\n",
       "      <td>2.600000</td>\n",
       "      <td>2.400000</td>\n",
       "      <td>237141.000000</td>\n",
       "      <td>40.000000</td>\n",
       "      <td>NaN</td>\n",
       "      <td>NaN</td>\n",
       "      <td>NaN</td>\n",
       "      <td>NaN</td>\n",
       "      <td>NaN</td>\n",
       "      <td>NaN</td>\n",
       "      <td>NaN</td>\n",
       "      <td>NaN</td>\n",
       "      <td>NaN</td>\n",
       "      <td>NaN</td>\n",
       "      <td>NaN</td>\n",
       "      <td>NaN</td>\n",
       "      <td>NaN</td>\n",
       "      <td>12.000000</td>\n",
       "      <td>NaN</td>\n",
       "      <td>NaN</td>\n",
       "      <td>NaN</td>\n",
       "      <td>NaN</td>\n",
       "      <td>NaN</td>\n",
       "    </tr>\n",
       "    <tr>\n",
       "      <th>max</th>\n",
       "      <td>2286.000000</td>\n",
       "      <td>NaN</td>\n",
       "      <td>NaN</td>\n",
       "      <td>NaN</td>\n",
       "      <td>NaN</td>\n",
       "      <td>NaN</td>\n",
       "      <td>430.000000</td>\n",
       "      <td>2.120000</td>\n",
       "      <td>190200.000000</td>\n",
       "      <td>99999.000000</td>\n",
       "      <td>NaN</td>\n",
       "      <td>NaN</td>\n",
       "      <td>478.000000</td>\n",
       "      <td>10.600000</td>\n",
       "      <td>806316.000000</td>\n",
       "      <td>99.000000</td>\n",
       "      <td>NaN</td>\n",
       "      <td>NaN</td>\n",
       "      <td>NaN</td>\n",
       "      <td>NaN</td>\n",
       "      <td>NaN</td>\n",
       "      <td>NaN</td>\n",
       "      <td>NaN</td>\n",
       "      <td>NaN</td>\n",
       "      <td>NaN</td>\n",
       "      <td>NaN</td>\n",
       "      <td>NaN</td>\n",
       "      <td>NaN</td>\n",
       "      <td>NaN</td>\n",
       "      <td>16.000000</td>\n",
       "      <td>NaN</td>\n",
       "      <td>NaN</td>\n",
       "      <td>NaN</td>\n",
       "      <td>NaN</td>\n",
       "      <td>NaN</td>\n",
       "    </tr>\n",
       "  </tbody>\n",
       "</table>\n",
       "</div>"
      ],
      "text/plain": [
       "         Unnamed: 0              name  \\\n",
       "count   2287.000000              2287   \n",
       "unique          NaN              2236   \n",
       "top             NaN  Christian Ortega   \n",
       "freq            NaN                 3   \n",
       "mean    1143.000000               NaN   \n",
       "std      660.344355               NaN   \n",
       "min        0.000000               NaN   \n",
       "25%      571.500000               NaN   \n",
       "50%     1143.000000               NaN   \n",
       "75%     1714.500000               NaN   \n",
       "max     2286.000000               NaN   \n",
       "\n",
       "                                               address FTI measured education  \\\n",
       "count                                             2287         2280      2279   \n",
       "unique                                            2237            3        24   \n",
       "top     1058 Matthew Forges\\nChristopherland, KS 28828            t   HS-grad   \n",
       "freq                                                 3         2043       634   \n",
       "mean                                               NaN          NaN       NaN   \n",
       "std                                                NaN          NaN       NaN   \n",
       "min                                                NaN          NaN       NaN   \n",
       "25%                                                NaN          NaN       NaN   \n",
       "50%                                                NaN          NaN       NaN   \n",
       "75%                                                NaN          NaN       NaN   \n",
       "max                                                NaN          NaN       NaN   \n",
       "\n",
       "       lithium          TT4          T4U   capital-loss  capital-gain  \\\n",
       "count     2278  2126.000000  2039.000000    2281.000000   2279.000000   \n",
       "unique       3          NaN          NaN            NaN           NaN   \n",
       "top          f          NaN          NaN            NaN           NaN   \n",
       "freq      2266          NaN          NaN            NaN           NaN   \n",
       "mean       NaN   109.462088     0.996436     194.064007    817.727512   \n",
       "std        NaN    35.879295     0.191213    9116.985776   5971.192914   \n",
       "min        NaN     2.000000     0.310000 -200100.000000      0.000000   \n",
       "25%        NaN    88.000000     0.880000       0.000000      0.000000   \n",
       "50%        NaN   104.000000     0.980000       0.000000      0.000000   \n",
       "75%        NaN   126.000000     1.080000       0.000000      0.000000   \n",
       "max        NaN   430.000000     2.120000  190200.000000  99999.000000   \n",
       "\n",
       "       on thyroxine tumor          TSH           T3         fnlwgt  \\\n",
       "count          2272  2276  2038.000000  1804.000000    2277.000000   \n",
       "unique            2     3          NaN          NaN            NaN   \n",
       "top               f     f          NaN          NaN            NaN   \n",
       "freq           2005  2221          NaN          NaN            NaN   \n",
       "mean            NaN   NaN     4.691447     2.020926  187889.619675   \n",
       "std             NaN   NaN    22.630656     0.814135  103904.464111   \n",
       "min             NaN   NaN     0.005000     0.050000   19395.000000   \n",
       "25%             NaN   NaN     0.440000     1.600000  115631.000000   \n",
       "50%             NaN   NaN     1.400000     2.000000  176262.000000   \n",
       "75%             NaN   NaN     2.600000     2.400000  237141.000000   \n",
       "max             NaN   NaN   478.000000    10.600000  806316.000000   \n",
       "\n",
       "        hours-per-week    relationship thyroid surgery workclass  \\\n",
       "count      2276.000000            2278            2283      2109   \n",
       "unique             NaN               6               3         9   \n",
       "top                NaN   Not-in-family               f   Private   \n",
       "freq               NaN             734            2250      1465   \n",
       "mean         38.293058             NaN             NaN       NaN   \n",
       "std          12.341755             NaN             NaN       NaN   \n",
       "min           1.000000             NaN             NaN       NaN   \n",
       "25%          35.000000             NaN             NaN       NaN   \n",
       "50%          40.000000             NaN             NaN       NaN   \n",
       "75%          40.000000             NaN             NaN       NaN   \n",
       "max          99.000000             NaN             NaN       NaN   \n",
       "\n",
       "       I131 treatment           class  marital-status goitre  native-country  \\\n",
       "count            2278            2280            2281   2282            2282   \n",
       "unique              3            2237               6      3              36   \n",
       "top                 f  negative.|1571   Never-married      f   United-States   \n",
       "freq             2239               3             889   2259            2053   \n",
       "mean              NaN             NaN             NaN    NaN             NaN   \n",
       "std               NaN             NaN             NaN    NaN             NaN   \n",
       "min               NaN             NaN             NaN    NaN             NaN   \n",
       "25%               NaN             NaN             NaN    NaN             NaN   \n",
       "50%               NaN             NaN             NaN    NaN             NaN   \n",
       "75%               NaN             NaN             NaN    NaN             NaN   \n",
       "max               NaN             NaN             NaN    NaN             NaN   \n",
       "\n",
       "       hypopituitary query on thyroxine  \\\n",
       "count           2276               2279   \n",
       "unique             2                  6   \n",
       "top                f                  f   \n",
       "freq            2275               2023   \n",
       "mean             NaN                NaN   \n",
       "std              NaN                NaN   \n",
       "min              NaN                NaN   \n",
       "25%              NaN                NaN   \n",
       "50%              NaN                NaN   \n",
       "75%              NaN                NaN   \n",
       "max              NaN                NaN   \n",
       "\n",
       "                                             medical_info T3 measured  \\\n",
       "count                                                2280        2274   \n",
       "unique                                                539           3   \n",
       "top     {'TSH measured':'f','query hyperthyroid':'f','...           t   \n",
       "freq                                                  109        1797   \n",
       "mean                                                  NaN         NaN   \n",
       "std                                                   NaN         NaN   \n",
       "min                                                   NaN         NaN   \n",
       "25%                                                   NaN         NaN   \n",
       "50%                                                   NaN         NaN   \n",
       "75%                                                   NaN         NaN   \n",
       "max                                                   NaN         NaN   \n",
       "\n",
       "       referral source  education-num     occupation TBG measured   TBG  \\\n",
       "count             2278    2056.000000           2279         2276  2280   \n",
       "unique              10            NaN             14            2     1   \n",
       "top              other            NaN   Adm-clerical            f     ?   \n",
       "freq              1177            NaN            390         2275  2280   \n",
       "mean               NaN      10.050584            NaN          NaN   NaN   \n",
       "std                NaN       2.494250            NaN          NaN   NaN   \n",
       "min                NaN       1.000000            NaN          NaN   NaN   \n",
       "25%                NaN       9.000000            NaN          NaN   NaN   \n",
       "50%                NaN      10.000000            NaN          NaN   NaN   \n",
       "75%                NaN      12.000000            NaN          NaN   NaN   \n",
       "max                NaN      16.000000            NaN          NaN   NaN   \n",
       "\n",
       "          race pregnant  \n",
       "count     2280     2276  \n",
       "unique       5        3  \n",
       "top      White        f  \n",
       "freq      1891     2241  \n",
       "mean       NaN      NaN  \n",
       "std        NaN      NaN  \n",
       "min        NaN      NaN  \n",
       "25%        NaN      NaN  \n",
       "50%        NaN      NaN  \n",
       "75%        NaN      NaN  \n",
       "max        NaN      NaN  "
      ]
     },
     "execution_count": 10,
     "metadata": {},
     "output_type": "execute_result"
    }
   ],
   "source": [
    "data_other.describe(include='all')"
   ]
  },
  {
   "cell_type": "markdown",
   "metadata": {},
   "source": [
    "Podobne aj pri tomto datasete"
   ]
  },
  {
   "cell_type": "code",
   "execution_count": 11,
   "metadata": {
    "scrolled": true
   },
   "outputs": [],
   "source": [
    "data_other = data_other.drop(['Unnamed: 0'], axis=1)"
   ]
  },
  {
   "cell_type": "markdown",
   "metadata": {},
   "source": [
    "## Atributy datasetu personal"
   ]
  },
  {
   "cell_type": "markdown",
   "metadata": {},
   "source": [
    "### Ideme preskumat atribut 'age'"
   ]
  },
  {
   "cell_type": "code",
   "execution_count": 12,
   "metadata": {
    "scrolled": false
   },
   "outputs": [
    {
     "data": {
      "text/plain": [
       "<matplotlib.axes._subplots.AxesSubplot at 0x7f722e091c50>"
      ]
     },
     "execution_count": 12,
     "metadata": {},
     "output_type": "execute_result"
    },
    {
     "data": {
      "image/png": "[encoded data removed]",
      "text/plain": [
       "<Figure size 432x288 with 1 Axes>"
      ]
     },
     "metadata": {},
     "output_type": "display_data"
    }
   ],
   "source": [
    "sns.distplot(data_personal['age'].dropna(), bins=40)"
   ]
  },
  {
   "cell_type": "markdown",
   "metadata": {},
   "source": [
    "Z tohto plotu nam vyplyva ze pacienti su vo veku okolo 50 rokov (vacsina za 50 rokov)."
   ]
  },
  {
   "cell_type": "code",
   "execution_count": 13,
   "metadata": {
    "scrolled": true
   },
   "outputs": [
    {
     "data": {
      "text/plain": [
       "<matplotlib.axes._subplots.AxesSubplot at 0x7f722ddf3c18>"
      ]
     },
     "execution_count": 13,
     "metadata": {},
     "output_type": "execute_result"
    },
    {
     "data": {
      "image/png": "[encoded data removed]",
      "text/plain": [
       "<Figure size 432x288 with 1 Axes>"
      ]
     },
     "metadata": {},
     "output_type": "display_data"
    }
   ],
   "source": [
    "sns.boxplot(y=\"age\", x=\"sex\", data=data_personal)"
   ]
  },
  {
   "cell_type": "markdown",
   "metadata": {},
   "source": [
    "- Z tohto boxplotu vidime ze mame outliner, ktory bude treba nahradit"
   ]
  },
  {
   "cell_type": "markdown",
   "metadata": {},
   "source": [
    "### Preskumame atribut 'sex'"
   ]
  },
  {
   "cell_type": "code",
   "execution_count": 14,
   "metadata": {},
   "outputs": [
    {
     "data": {
      "text/plain": [
       "F    1448\n",
       "M     701\n",
       "?      88\n",
       "Name: sex, dtype: int64"
      ]
     },
     "execution_count": 14,
     "metadata": {},
     "output_type": "execute_result"
    }
   ],
   "source": [
    "data_personal['sex'].value_counts()"
   ]
  },
  {
   "cell_type": "code",
   "execution_count": 15,
   "metadata": {},
   "outputs": [
    {
     "data": {
      "text/html": [
       "<div>\n",
       "<style scoped>\n",
       "    .dataframe tbody tr th:only-of-type {\n",
       "        vertical-align: middle;\n",
       "    }\n",
       "\n",
       "    .dataframe tbody tr th {\n",
       "        vertical-align: top;\n",
       "    }\n",
       "\n",
       "    .dataframe thead th {\n",
       "        text-align: right;\n",
       "    }\n",
       "</style>\n",
       "<table border=\"1\" class=\"dataframe\">\n",
       "  <thead>\n",
       "    <tr style=\"text-align: right;\">\n",
       "      <th></th>\n",
       "      <th>name</th>\n",
       "      <th>address</th>\n",
       "      <th>age</th>\n",
       "      <th>sex</th>\n",
       "      <th>date_of_birth</th>\n",
       "    </tr>\n",
       "  </thead>\n",
       "  <tbody>\n",
       "    <tr>\n",
       "      <th>7</th>\n",
       "      <td>Roy Wilson</td>\n",
       "      <td>49824 Kim View\\nWest Ericborough, VT 42457</td>\n",
       "      <td>54.0</td>\n",
       "      <td>?</td>\n",
       "      <td>1964-06-07</td>\n",
       "    </tr>\n",
       "    <tr>\n",
       "      <th>15</th>\n",
       "      <td>Ronald Speigel</td>\n",
       "      <td>509 Antonio Haven Suite 117\\nWest Ricky, OK 35203</td>\n",
       "      <td>72.0</td>\n",
       "      <td>?</td>\n",
       "      <td>1946-10-06</td>\n",
       "    </tr>\n",
       "    <tr>\n",
       "      <th>44</th>\n",
       "      <td>John Short</td>\n",
       "      <td>4081 Montoya Points\\nDavidside, WA 68358</td>\n",
       "      <td>31.0</td>\n",
       "      <td>?</td>\n",
       "      <td>1986-10-29</td>\n",
       "    </tr>\n",
       "    <tr>\n",
       "      <th>95</th>\n",
       "      <td>Carl Dellosso</td>\n",
       "      <td>794 Ho Island\\nEast Anitamouth, ME 91583</td>\n",
       "      <td>38.0</td>\n",
       "      <td>?</td>\n",
       "      <td>1980-05-20</td>\n",
       "    </tr>\n",
       "    <tr>\n",
       "      <th>99</th>\n",
       "      <td>Dennis Neese</td>\n",
       "      <td>6051 Jennings Mount\\nSandraland, WI 13559</td>\n",
       "      <td>30.0</td>\n",
       "      <td>?</td>\n",
       "      <td>1988-08-06</td>\n",
       "    </tr>\n",
       "  </tbody>\n",
       "</table>\n",
       "</div>"
      ],
      "text/plain": [
       "              name                                            address   age  \\\n",
       "7       Roy Wilson         49824 Kim View\\nWest Ericborough, VT 42457  54.0   \n",
       "15  Ronald Speigel  509 Antonio Haven Suite 117\\nWest Ricky, OK 35203  72.0   \n",
       "44      John Short           4081 Montoya Points\\nDavidside, WA 68358  31.0   \n",
       "95   Carl Dellosso           794 Ho Island\\nEast Anitamouth, ME 91583  38.0   \n",
       "99    Dennis Neese          6051 Jennings Mount\\nSandraland, WI 13559  30.0   \n",
       "\n",
       "   sex date_of_birth  \n",
       "7    ?    1964-06-07  \n",
       "15   ?    1946-10-06  \n",
       "44   ?    1986-10-29  \n",
       "95   ?    1980-05-20  \n",
       "99   ?    1988-08-06  "
      ]
     },
     "execution_count": 15,
     "metadata": {},
     "output_type": "execute_result"
    }
   ],
   "source": [
    "data_personal[data_personal['sex'] == '?'].head()"
   ]
  },
  {
   "cell_type": "code",
   "execution_count": 16,
   "metadata": {},
   "outputs": [
    {
     "data": {
      "image/png": "[encoded data removed]",
      "text/plain": [
       "<Figure size 432x288 with 1 Axes>"
      ]
     },
     "metadata": {},
     "output_type": "display_data"
    }
   ],
   "source": [
    "labels = 'M', 'F', '?'\n",
    "sizes = [len(data_personal[data_personal['sex']=='M'].dropna()), len(data_personal[data_personal['sex']=='F'].dropna()), len(data_personal[data_personal['sex']=='?'].dropna())]\n",
    "\n",
    "fig1, ax1 = plt.subplots()\n",
    "ax1.pie(sizes, labels=labels, autopct='%1.1f%%', shadow=True, startangle=90)\n",
    "ax1.axis('equal')\n",
    "\n",
    "plt.show()"
   ]
  },
  {
   "cell_type": "markdown",
   "metadata": {},
   "source": [
    "Z piechartu nam je jasne ze v datasete 'data_personal' sa nachadzaju viac zien ako muzov a par ludi nemaju pohlavie vyplnene, co asi bude treba doplnit v predspracovani nasledovne:"
   ]
  },
  {
   "cell_type": "markdown",
   "metadata": {},
   "source": [
    "- Bud pouzijuc najcastejsiu hodnotu, cize F\n",
    "- Alebo natrenovat nejaku linearnu regresiu, alebo kNN aby nam dala chybajuce hodnoty a hodnoty namiesto '?'"
   ]
  },
  {
   "cell_type": "markdown",
   "metadata": {},
   "source": [
    "### Atribut 'date_of_birth'"
   ]
  },
  {
   "cell_type": "code",
   "execution_count": 17,
   "metadata": {},
   "outputs": [
    {
     "data": {
      "text/plain": [
       "array(['94-05-02', '1974-04-29 00 00 00', '1962-06-09', ..., '1983-08-14',\n",
       "       '1932-06-13', '1937/03/19'], dtype=object)"
      ]
     },
     "execution_count": 17,
     "metadata": {},
     "output_type": "execute_result"
    }
   ],
   "source": [
    "data_personal['date_of_birth'].unique()"
   ]
  },
  {
   "cell_type": "markdown",
   "metadata": {},
   "source": [
    "- Nekonzistetne hodnoty v zapisu datumu narodenia, bude ich treba upravit na jeden format."
   ]
  },
  {
   "cell_type": "markdown",
   "metadata": {},
   "source": [
    "## Atributy datasetu other"
   ]
  },
  {
   "cell_type": "markdown",
   "metadata": {},
   "source": [
    "### Atribut 'class'"
   ]
  },
  {
   "cell_type": "code",
   "execution_count": 18,
   "metadata": {},
   "outputs": [
    {
     "data": {
      "text/plain": [
       "0    negative.|1821\n",
       "1    negative.|3498\n",
       "2    negative.|3768\n",
       "3    negative.|2403\n",
       "4    negative.|1588\n",
       "Name: class, dtype: object"
      ]
     },
     "execution_count": 18,
     "metadata": {},
     "output_type": "execute_result"
    }
   ],
   "source": [
    "data_other['class'].head()"
   ]
  },
  {
   "cell_type": "markdown",
   "metadata": {},
   "source": [
    "Potrebujeme rozdelit dany popis (negative) a cislo zanim."
   ]
  },
  {
   "cell_type": "code",
   "execution_count": 19,
   "metadata": {},
   "outputs": [],
   "source": [
    "data_other['correct_class'] = data_other['class'].map(lambda x: str(x).split('.')[0])"
   ]
  },
  {
   "cell_type": "code",
   "execution_count": 20,
   "metadata": {},
   "outputs": [],
   "source": [
    "def split_class_number(x):\n",
    "    x = str(x).split('.')\n",
    "    return x[len(x) - 1]\n",
    "\n",
    "data_other['class_number'] = data_other['class'].map(lambda x: split_class_number(x))"
   ]
  },
  {
   "cell_type": "code",
   "execution_count": 21,
   "metadata": {},
   "outputs": [
    {
     "data": {
      "text/plain": [
       "<matplotlib.axes._subplots.AxesSubplot at 0x7f722dc77be0>"
      ]
     },
     "execution_count": 21,
     "metadata": {},
     "output_type": "execute_result"
    },
    {
     "data": {
      "image/png": "[encoded data removed]",
      "text/plain": [
       "<Figure size 432x288 with 1 Axes>"
      ]
     },
     "metadata": {},
     "output_type": "display_data"
    }
   ],
   "source": [
    "data_other['correct_class'].value_counts().plot(kind='bar')"
   ]
  },
  {
   "cell_type": "markdown",
   "metadata": {},
   "source": [
    "-------"
   ]
  },
  {
   "cell_type": "markdown",
   "metadata": {},
   "source": [
    "### Ideme si zobrazit vsetky stlpce s boolovskymi hodnotami"
   ]
  },
  {
   "cell_type": "code",
   "execution_count": 22,
   "metadata": {},
   "outputs": [],
   "source": [
    "def print_bool_attribute(column_name):\n",
    "    print(\"****\")\n",
    "    print(column_name)\n",
    "    print(data_other[column_name].value_counts())\n",
    "    print(\"****\")\n",
    "    print(\" \")"
   ]
  },
  {
   "cell_type": "code",
   "execution_count": 23,
   "metadata": {},
   "outputs": [
    {
     "name": "stdout",
     "output_type": "stream",
     "text": [
      "****\n",
      "FTI measured\n",
      "t      2043\n",
      "f       236\n",
      "t.4       1\n",
      "Name: FTI measured, dtype: int64\n",
      "****\n",
      " \n",
      "****\n",
      "lithium\n",
      "f      2266\n",
      "t        11\n",
      "f.9       1\n",
      "Name: lithium, dtype: int64\n",
      "****\n",
      " \n",
      "****\n",
      "on thyroxine\n",
      "f    2005\n",
      "t     267\n",
      "Name: on thyroxine, dtype: int64\n",
      "****\n",
      " \n",
      "****\n",
      "tumor\n",
      "f       2221\n",
      "t         54\n",
      "f.11       1\n",
      "Name: tumor, dtype: int64\n",
      "****\n",
      " \n",
      "****\n",
      "thyroid surgery\n",
      "f      2250\n",
      "t        32\n",
      "f.5       1\n",
      "Name: thyroid surgery, dtype: int64\n",
      "****\n",
      " \n",
      "****\n",
      "I131 treatment\n",
      "f      2239\n",
      "t        38\n",
      "f.6       1\n",
      "Name: I131 treatment, dtype: int64\n",
      "****\n",
      " \n",
      "****\n",
      "goitre\n",
      "f       2259\n",
      "t         22\n",
      "f.10       1\n",
      "Name: goitre, dtype: int64\n",
      "****\n",
      " \n",
      "****\n",
      "hypopituitary\n",
      "f       2275\n",
      "f.12       1\n",
      "Name: hypopituitary, dtype: int64\n",
      "****\n",
      " \n",
      "****\n",
      "query on thyroxine\n",
      "f        2023\n",
      "F         112\n",
      "FALSE     110\n",
      "t          29\n",
      "T           4\n",
      "f.1         1\n",
      "Name: query on thyroxine, dtype: int64\n",
      "****\n",
      " \n",
      "****\n",
      "T3 measured\n",
      "t      1797\n",
      "f       476\n",
      "t.1       1\n",
      "Name: T3 measured, dtype: int64\n",
      "****\n",
      " \n",
      "****\n",
      "TBG measured\n",
      "f       2275\n",
      "f.14       1\n",
      "Name: TBG measured, dtype: int64\n",
      "****\n",
      " \n",
      "****\n",
      "TBG\n",
      "?    2280\n",
      "Name: TBG, dtype: int64\n",
      "****\n",
      " \n",
      "****\n",
      "pregnant\n",
      "f      2241\n",
      "t        34\n",
      "f.4       1\n",
      "Name: pregnant, dtype: int64\n",
      "****\n",
      " \n"
     ]
    }
   ],
   "source": [
    "print_bool_attribute('FTI measured')\n",
    "print_bool_attribute('lithium')\n",
    "print_bool_attribute('on thyroxine')\n",
    "print_bool_attribute('tumor')\n",
    "print_bool_attribute('thyroid surgery')\n",
    "print_bool_attribute('I131 treatment')\n",
    "print_bool_attribute('goitre')\n",
    "print_bool_attribute('hypopituitary')\n",
    "print_bool_attribute('query on thyroxine')\n",
    "print_bool_attribute('T3 measured')\n",
    "print_bool_attribute('TBG measured')\n",
    "print_bool_attribute('TBG')\n",
    "print_bool_attribute('pregnant')"
   ]
  },
  {
   "cell_type": "markdown",
   "metadata": {},
   "source": [
    "- Premapovat hodnoty na binarne hodnoty (0/1)\n",
    "    - Odstranit nekonzistenciu v pripade inych hodnot ako t/f podla toho ze aka hodnota sa nachadza pred botkou a cislom\n",
    "    - V pripade atributu 'query on thyroxine' sa vyskytuju aj ine hodnoty ako TRUE,FALSE,T,F ktore taktiez treba premapovat na t/f.\n",
    "    - Atribut 'TBG' by sme mohli odstranit kedze neobsahuje ziadne zmysluplne informacie (same otazniky)\n",
    "    - Atribut 'TBG measured' ma tiez iba f hodnoty."
   ]
  },
  {
   "cell_type": "code",
   "execution_count": 24,
   "metadata": {},
   "outputs": [
    {
     "data": {
      "text/html": [
       "<div>\n",
       "<style scoped>\n",
       "    .dataframe tbody tr th:only-of-type {\n",
       "        vertical-align: middle;\n",
       "    }\n",
       "\n",
       "    .dataframe tbody tr th {\n",
       "        vertical-align: top;\n",
       "    }\n",
       "\n",
       "    .dataframe thead th {\n",
       "        text-align: right;\n",
       "    }\n",
       "</style>\n",
       "<table border=\"1\" class=\"dataframe\">\n",
       "  <thead>\n",
       "    <tr style=\"text-align: right;\">\n",
       "      <th></th>\n",
       "      <th>name</th>\n",
       "      <th>address</th>\n",
       "      <th>FTI measured</th>\n",
       "      <th>education</th>\n",
       "      <th>lithium</th>\n",
       "      <th>TT4</th>\n",
       "      <th>T4U</th>\n",
       "      <th>capital-loss</th>\n",
       "      <th>capital-gain</th>\n",
       "      <th>on thyroxine</th>\n",
       "      <th>tumor</th>\n",
       "      <th>TSH</th>\n",
       "      <th>T3</th>\n",
       "      <th>fnlwgt</th>\n",
       "      <th>hours-per-week</th>\n",
       "      <th>relationship</th>\n",
       "      <th>thyroid surgery</th>\n",
       "      <th>workclass</th>\n",
       "      <th>I131 treatment</th>\n",
       "      <th>class</th>\n",
       "      <th>marital-status</th>\n",
       "      <th>goitre</th>\n",
       "      <th>native-country</th>\n",
       "      <th>hypopituitary</th>\n",
       "      <th>query on thyroxine</th>\n",
       "      <th>medical_info</th>\n",
       "      <th>T3 measured</th>\n",
       "      <th>referral source</th>\n",
       "      <th>education-num</th>\n",
       "      <th>occupation</th>\n",
       "      <th>TBG measured</th>\n",
       "      <th>TBG</th>\n",
       "      <th>race</th>\n",
       "      <th>pregnant</th>\n",
       "      <th>correct_class</th>\n",
       "      <th>class_number</th>\n",
       "    </tr>\n",
       "  </thead>\n",
       "  <tbody>\n",
       "    <tr>\n",
       "      <th>543</th>\n",
       "      <td>Norma Dimarco</td>\n",
       "      <td>655 Hood Hollow\\nRobertport, NM 56008</td>\n",
       "      <td>t.4</td>\n",
       "      <td>Some_college</td>\n",
       "      <td>f.9</td>\n",
       "      <td>125.0</td>\n",
       "      <td>1.14</td>\n",
       "      <td>0.0</td>\n",
       "      <td>0.0</td>\n",
       "      <td>f</td>\n",
       "      <td>f.11</td>\n",
       "      <td>1.3</td>\n",
       "      <td>2.5</td>\n",
       "      <td>143554.0</td>\n",
       "      <td>38.0</td>\n",
       "      <td>Not-in-family</td>\n",
       "      <td>f.5</td>\n",
       "      <td>Private</td>\n",
       "      <td>f.6</td>\n",
       "      <td>negative.|3733</td>\n",
       "      <td>Separated</td>\n",
       "      <td>f.10</td>\n",
       "      <td>United-States</td>\n",
       "      <td>f.12</td>\n",
       "      <td>f.1</td>\n",
       "      <td>{'TSH measured':'t','query hyperthyroid':'f.8'...</td>\n",
       "      <td>t.1</td>\n",
       "      <td>SVHC</td>\n",
       "      <td>10.0</td>\n",
       "      <td>Adm-clerical</td>\n",
       "      <td>f.14</td>\n",
       "      <td>?</td>\n",
       "      <td>White</td>\n",
       "      <td>f.4</td>\n",
       "      <td>negative</td>\n",
       "      <td>|3733</td>\n",
       "    </tr>\n",
       "  </tbody>\n",
       "</table>\n",
       "</div>"
      ],
      "text/plain": [
       "              name                                address FTI measured  \\\n",
       "543  Norma Dimarco  655 Hood Hollow\\nRobertport, NM 56008          t.4   \n",
       "\n",
       "         education lithium    TT4   T4U  capital-loss  capital-gain  \\\n",
       "543   Some_college     f.9  125.0  1.14           0.0           0.0   \n",
       "\n",
       "    on thyroxine tumor  TSH   T3    fnlwgt  hours-per-week    relationship  \\\n",
       "543            f  f.11  1.3  2.5  143554.0            38.0   Not-in-family   \n",
       "\n",
       "    thyroid surgery workclass I131 treatment           class marital-status  \\\n",
       "543             f.5   Private            f.6  negative.|3733      Separated   \n",
       "\n",
       "    goitre  native-country hypopituitary query on thyroxine  \\\n",
       "543   f.10   United-States          f.12                f.1   \n",
       "\n",
       "                                          medical_info T3 measured  \\\n",
       "543  {'TSH measured':'t','query hyperthyroid':'f.8'...         t.1   \n",
       "\n",
       "    referral source  education-num     occupation TBG measured TBG    race  \\\n",
       "543            SVHC           10.0   Adm-clerical         f.14   ?   White   \n",
       "\n",
       "    pregnant correct_class class_number  \n",
       "543      f.4      negative        |3733  "
      ]
     },
     "execution_count": 24,
     "metadata": {},
     "output_type": "execute_result"
    }
   ],
   "source": [
    "data_other[data_other['FTI measured'] == 't.4']"
   ]
  },
  {
   "cell_type": "markdown",
   "metadata": {},
   "source": [
    "- Zistili sme ze vsetky ine hodnoty t/f boli sposobene jednym riadkom."
   ]
  },
  {
   "cell_type": "markdown",
   "metadata": {},
   "source": [
    "#### Preskumanie stlpcov s hormonami (TT4/T4U/TSH)"
   ]
  },
  {
   "cell_type": "code",
   "execution_count": 25,
   "metadata": {},
   "outputs": [
    {
     "data": {
      "text/plain": [
       "<matplotlib.axes._subplots.AxesSubplot at 0x7f722a24de80>"
      ]
     },
     "execution_count": 25,
     "metadata": {},
     "output_type": "execute_result"
    },
    {
     "data": {
      "image/png": "[encoded data removed]",
      "text/plain": [
       "<Figure size 432x288 with 1 Axes>"
      ]
     },
     "metadata": {},
     "output_type": "display_data"
    }
   ],
   "source": [
    "data_other['TT4'].hist()"
   ]
  },
  {
   "cell_type": "markdown",
   "metadata": {},
   "source": [
    "Z histogramu vidno ze je to normalne rozdelenie, cize mozeme si vyplotovat boxplot"
   ]
  },
  {
   "cell_type": "code",
   "execution_count": 26,
   "metadata": {},
   "outputs": [
    {
     "data": {
      "text/plain": [
       "<matplotlib.axes._subplots.AxesSubplot at 0x7f722a1b6b70>"
      ]
     },
     "execution_count": 26,
     "metadata": {},
     "output_type": "execute_result"
    },
    {
     "data": {
      "image/png": "[encoded data removed]",
      "text/plain": [
       "<Figure size 432x288 with 1 Axes>"
      ]
     },
     "metadata": {},
     "output_type": "display_data"
    }
   ],
   "source": [
    "sns.boxplot(y=\"TT4\", data=data_other)"
   ]
  },
  {
   "cell_type": "markdown",
   "metadata": {},
   "source": [
    "Odstranit outlayeri alebo nahradenit vychylene hodnoty hranicnymi hodnotami."
   ]
  },
  {
   "cell_type": "code",
   "execution_count": 27,
   "metadata": {},
   "outputs": [
    {
     "data": {
      "text/plain": [
       "<matplotlib.axes._subplots.AxesSubplot at 0x7f722a19e2e8>"
      ]
     },
     "execution_count": 27,
     "metadata": {},
     "output_type": "execute_result"
    },
    {
     "data": {
      "image/png": "[encoded data removed]",
      "text/plain": [
       "<Figure size 432x288 with 1 Axes>"
      ]
     },
     "metadata": {},
     "output_type": "display_data"
    }
   ],
   "source": [
    "data_other['T4U'].hist()"
   ]
  },
  {
   "cell_type": "code",
   "execution_count": 28,
   "metadata": {},
   "outputs": [
    {
     "data": {
      "text/plain": [
       "<matplotlib.axes._subplots.AxesSubplot at 0x7f722a106dd8>"
      ]
     },
     "execution_count": 28,
     "metadata": {},
     "output_type": "execute_result"
    },
    {
     "data": {
      "image/png": "[encoded data removed]",
      "text/plain": [
       "<Figure size 432x288 with 1 Axes>"
      ]
     },
     "metadata": {},
     "output_type": "display_data"
    }
   ],
   "source": [
    "sns.boxplot(y=\"T4U\", data=data_other)"
   ]
  },
  {
   "cell_type": "markdown",
   "metadata": {},
   "source": [
    "Odstranit outlayeri alebo nahradenit vychylene hodnoty hranicnymi hodnotami."
   ]
  },
  {
   "cell_type": "code",
   "execution_count": 29,
   "metadata": {},
   "outputs": [
    {
     "data": {
      "text/plain": [
       "<matplotlib.axes._subplots.AxesSubplot at 0x7f722a0ed940>"
      ]
     },
     "execution_count": 29,
     "metadata": {},
     "output_type": "execute_result"
    },
    {
     "data": {
      "image/png": "[encoded data removed]",
      "text/plain": [
       "<Figure size 432x288 with 1 Axes>"
      ]
     },
     "metadata": {},
     "output_type": "display_data"
    }
   ],
   "source": [
    "data_other['TSH'].hist(bins=40)"
   ]
  },
  {
   "cell_type": "code",
   "execution_count": 30,
   "metadata": {},
   "outputs": [
    {
     "data": {
      "text/plain": [
       "count    2038.000000\n",
       "mean        4.691447\n",
       "std        22.630656\n",
       "min         0.005000\n",
       "25%         0.440000\n",
       "50%         1.400000\n",
       "75%         2.600000\n",
       "max       478.000000\n",
       "Name: TSH, dtype: float64"
      ]
     },
     "execution_count": 30,
     "metadata": {},
     "output_type": "execute_result"
    }
   ],
   "source": [
    "data_other['TSH'].describe()"
   ]
  },
  {
   "cell_type": "markdown",
   "metadata": {},
   "source": [
    "75% kvartil je v hodnote 2.6, cize vsetky hodnoty su blizke 0. Nejde tu o normalne rozdelenie"
   ]
  },
  {
   "cell_type": "markdown",
   "metadata": {},
   "source": [
    "### Zobrazenie zavislosti medzi atributmi T4U a T3"
   ]
  },
  {
   "cell_type": "code",
   "execution_count": 31,
   "metadata": {},
   "outputs": [
    {
     "data": {
      "image/png": "[encoded data removed]",
      "text/plain": [
       "<Figure size 432x288 with 1 Axes>"
      ]
     },
     "metadata": {},
     "output_type": "display_data"
    }
   ],
   "source": [
    "sns.distplot(data_other['T4U'].dropna())\n",
    "sns.distplot(data_other['T3'].dropna())\n",
    "plt.xlabel(\"T3 / T4U\")\n",
    "plt.show()"
   ]
  },
  {
   "cell_type": "markdown",
   "metadata": {},
   "source": [
    "Vzajomna distribucia T3/T4U vo vzorke"
   ]
  },
  {
   "cell_type": "code",
   "execution_count": 32,
   "metadata": {},
   "outputs": [
    {
     "data": {
      "text/plain": [
       "<matplotlib.axes._subplots.AxesSubplot at 0x7f7229f35940>"
      ]
     },
     "execution_count": 32,
     "metadata": {},
     "output_type": "execute_result"
    },
    {
     "data": {
      "image/png": "[encoded data removed]",
      "text/plain": [
       "<Figure size 432x288 with 1 Axes>"
      ]
     },
     "metadata": {},
     "output_type": "display_data"
    }
   ],
   "source": [
    "sns.scatterplot(x='T4U', y='T3', hue='correct_class', data=data_other[data_other['correct_class'] != 'nan'])"
   ]
  },
  {
   "cell_type": "markdown",
   "metadata": {},
   "source": [
    "Z tohto plot pekne vidno zavislost medzi classou a hodnotami hormonou T3 a T4U"
   ]
  },
  {
   "cell_type": "markdown",
   "metadata": {},
   "source": [
    "-----"
   ]
  },
  {
   "cell_type": "code",
   "execution_count": 33,
   "metadata": {},
   "outputs": [
    {
     "name": "stderr",
     "output_type": "stream",
     "text": [
      "/opt/conda/lib/python3.6/site-packages/statsmodels/nonparametric/kde.py:448: RuntimeWarning: invalid value encountered in greater\n",
      "  X = X[np.logical_and(X > clip[0], X < clip[1])] # won't work for two columns.\n",
      "/opt/conda/lib/python3.6/site-packages/statsmodels/nonparametric/kde.py:448: RuntimeWarning: invalid value encountered in less\n",
      "  X = X[np.logical_and(X > clip[0], X < clip[1])] # won't work for two columns.\n"
     ]
    },
    {
     "data": {
      "text/plain": [
       "<seaborn.axisgrid.PairGrid at 0x7f722a195828>"
      ]
     },
     "execution_count": 33,
     "metadata": {},
     "output_type": "execute_result"
    },
    {
     "data": {
      "image/png": "[encoded data removed]",
      "text/plain": [
       "<Figure size 887.5x720 with 20 Axes>"
      ]
     },
     "metadata": {},
     "output_type": "display_data"
    }
   ],
   "source": [
    "sns.pairplot(data_other[data_other['correct_class'] != 'nan'], hue='correct_class', vars=['TT4', 'T4U', 'TSH', 'T3'])"
   ]
  },
  {
   "cell_type": "markdown",
   "metadata": {},
   "source": [
    "### Prezrieme si ako silno koreluju atributy medzi sebou"
   ]
  },
  {
   "cell_type": "code",
   "execution_count": 34,
   "metadata": {},
   "outputs": [
    {
     "data": {
      "text/plain": [
       "<matplotlib.axes._subplots.AxesSubplot at 0x7f7229802cc0>"
      ]
     },
     "execution_count": 34,
     "metadata": {},
     "output_type": "execute_result"
    },
    {
     "data": {
      "image/png": "[encoded data removed]",
      "text/plain": [
       "<Figure size 720x576 with 2 Axes>"
      ]
     },
     "metadata": {},
     "output_type": "display_data"
    }
   ],
   "source": [
    "fig, ax = plt.subplots(figsize=(10,8))\n",
    "sns.heatmap(data_other.corr(), ax=ax, annot=True, fmt=\".3f\")"
   ]
  },
  {
   "cell_type": "markdown",
   "metadata": {},
   "source": [
    "#### Z nasledovneho grafu jasno vidiet zavislosti medzi atributmy T3, T4U, A TT4"
   ]
  },
  {
   "cell_type": "markdown",
   "metadata": {},
   "source": [
    "----"
   ]
  },
  {
   "cell_type": "markdown",
   "metadata": {},
   "source": [
    "### Atribut 'native-country'"
   ]
  },
  {
   "cell_type": "code",
   "execution_count": 35,
   "metadata": {},
   "outputs": [
    {
     "data": {
      "text/plain": [
       "<matplotlib.axes._subplots.AxesSubplot at 0x7f722819f128>"
      ]
     },
     "execution_count": 35,
     "metadata": {},
     "output_type": "execute_result"
    },
    {
     "data": {
      "image/png": "[encoded data removed]",
      "text/plain": [
       "<Figure size 432x288 with 1 Axes>"
      ]
     },
     "metadata": {},
     "output_type": "display_data"
    }
   ],
   "source": [
    "data_other['native-country'].value_counts().plot(kind='bar')"
   ]
  },
  {
   "cell_type": "markdown",
   "metadata": {},
   "source": [
    "Vidime ze vacsina pacientov je zo spojenych statov"
   ]
  },
  {
   "cell_type": "code",
   "execution_count": 36,
   "metadata": {
    "scrolled": false
   },
   "outputs": [
    {
     "data": {
      "text/plain": [
       "<matplotlib.axes._subplots.AxesSubplot at 0x7f72280acd30>"
      ]
     },
     "execution_count": 36,
     "metadata": {},
     "output_type": "execute_result"
    },
    {
     "data": {
      "image/png": "[encoded data removed]",
      "text/plain": [
       "<Figure size 432x288 with 1 Axes>"
      ]
     },
     "metadata": {},
     "output_type": "display_data"
    }
   ],
   "source": [
    "data_other[data_other['native-country'] != ' United-States']['native-country'].value_counts().plot(kind='bar')"
   ]
  },
  {
   "cell_type": "markdown",
   "metadata": {},
   "source": [
    "- Potrebujeme trimnut vsetky stringy preto lebo sa tam nachadzaju medzeri na zaciatku alebo konci stringov"
   ]
  },
  {
   "cell_type": "markdown",
   "metadata": {},
   "source": [
    "### Atribut 'referral source'"
   ]
  },
  {
   "cell_type": "code",
   "execution_count": 37,
   "metadata": {},
   "outputs": [
    {
     "data": {
      "text/plain": [
       "<matplotlib.axes._subplots.AxesSubplot at 0x7f7222519f60>"
      ]
     },
     "execution_count": 37,
     "metadata": {},
     "output_type": "execute_result"
    },
    {
     "data": {
      "image/png": "[encoded data removed]",
      "text/plain": [
       "<Figure size 432x288 with 1 Axes>"
      ]
     },
     "metadata": {},
     "output_type": "display_data"
    }
   ],
   "source": [
    "data_other['referral source'].value_counts().plot(kind='bar')"
   ]
  },
  {
   "cell_type": "markdown",
   "metadata": {},
   "source": [
    "### Atribut 'education-num'"
   ]
  },
  {
   "cell_type": "code",
   "execution_count": 38,
   "metadata": {},
   "outputs": [
    {
     "data": {
      "text/plain": [
       "array([ 7.,  9., 13., 10., 14., nan, 12.,  6., 11., 15.,  4.,  8.,  3.,\n",
       "        5., 16.,  2.,  1.])"
      ]
     },
     "execution_count": 38,
     "metadata": {},
     "output_type": "execute_result"
    }
   ],
   "source": [
    "data_other['education-num'].unique()"
   ]
  },
  {
   "cell_type": "code",
   "execution_count": 39,
   "metadata": {},
   "outputs": [
    {
     "data": {
      "text/plain": [
       "<matplotlib.axes._subplots.AxesSubplot at 0x7f7222464d68>"
      ]
     },
     "execution_count": 39,
     "metadata": {},
     "output_type": "execute_result"
    },
    {
     "data": {
      "image/png": "[encoded data removed]",
      "text/plain": [
       "<Figure size 432x288 with 1 Axes>"
      ]
     },
     "metadata": {},
     "output_type": "display_data"
    }
   ],
   "source": [
    "data_other['education-num'].hist()"
   ]
  },
  {
   "cell_type": "markdown",
   "metadata": {},
   "source": [
    "Rozdelenie nie je uplne rovnomerne."
   ]
  },
  {
   "cell_type": "markdown",
   "metadata": {},
   "source": [
    "### Atribut 'education'"
   ]
  },
  {
   "cell_type": "code",
   "execution_count": 40,
   "metadata": {},
   "outputs": [
    {
     "data": {
      "text/plain": [
       " HS-grad         634\n",
       " Some-college    482\n",
       " Bachelors       362\n",
       " Masters         114\n",
       " Assoc-voc        97\n",
       " 11th             91\n",
       " 10th             86\n",
       " Assoc-acdm       84\n",
       " HS_grad          63\n",
       " Some_college     57\n",
       " Prof-school      37\n",
       " 7th-8th          35\n",
       " 12th             32\n",
       " 9th              29\n",
       " Doctorate        17\n",
       " 5th-6th          13\n",
       " Assoc_voc        10\n",
       " 1st-4th          10\n",
       " Assoc_acdm        8\n",
       " 7th_8th           6\n",
       " 5th_6th           4\n",
       " Preschool         4\n",
       " Prof_school       3\n",
       " 1st_4th           1\n",
       "Name: education, dtype: int64"
      ]
     },
     "execution_count": 40,
     "metadata": {},
     "output_type": "execute_result"
    }
   ],
   "source": [
    "data_other['education'].value_counts()"
   ]
  },
  {
   "cell_type": "code",
   "execution_count": 41,
   "metadata": {},
   "outputs": [
    {
     "data": {
      "text/plain": [
       "<matplotlib.axes._subplots.AxesSubplot at 0x7f72222209e8>"
      ]
     },
     "execution_count": 41,
     "metadata": {},
     "output_type": "execute_result"
    },
    {
     "data": {
      "image/png": "[encoded data removed]",
      "text/plain": [
       "<Figure size 432x288 with 1 Axes>"
      ]
     },
     "metadata": {},
     "output_type": "display_data"
    }
   ],
   "source": [
    "data_other['education'].value_counts().plot(kind=\"bar\")"
   ]
  },
  {
   "cell_type": "markdown",
   "metadata": {},
   "source": [
    "#### Vzajomne porovnanie 'education-num' a 'education'"
   ]
  },
  {
   "cell_type": "code",
   "execution_count": 47,
   "metadata": {},
   "outputs": [
    {
     "data": {
      "text/plain": [
       "<matplotlib.axes._subplots.AxesSubplot at 0x7f72220e5f60>"
      ]
     },
     "execution_count": 47,
     "metadata": {},
     "output_type": "execute_result"
    },
    {
     "data": {
      "image/png": "[encoded data removed]",
      "text/plain": [
       "<Figure size 432x288 with 1 Axes>"
      ]
     },
     "metadata": {},
     "output_type": "display_data"
    }
   ],
   "source": [
    " sns.scatterplot(x=\"education-num\", y=\"education\", data=data_other)"
   ]
  },
  {
   "cell_type": "markdown",
   "metadata": {},
   "source": [
    "Z daneho grafu vidno, ze jednotlive parametre spolu velmi nesuvisia."
   ]
  },
  {
   "cell_type": "markdown",
   "metadata": {},
   "source": [
    "### Atribut 'marital-status'"
   ]
  },
  {
   "cell_type": "code",
   "execution_count": 48,
   "metadata": {},
   "outputs": [
    {
     "data": {
      "text/plain": [
       " Never-married            889\n",
       " Married-civ-spouse       713\n",
       " Divorced                 404\n",
       " Widowed                  128\n",
       " Separated                111\n",
       " Married-spouse-absent     36\n",
       "Name: marital-status, dtype: int64"
      ]
     },
     "execution_count": 48,
     "metadata": {},
     "output_type": "execute_result"
    }
   ],
   "source": [
    "data_other['marital-status'].value_counts()"
   ]
  },
  {
   "cell_type": "code",
   "execution_count": 49,
   "metadata": {},
   "outputs": [
    {
     "data": {
      "text/plain": [
       "<matplotlib.axes._subplots.AxesSubplot at 0x7f7221f86d30>"
      ]
     },
     "execution_count": 49,
     "metadata": {},
     "output_type": "execute_result"
    },
    {
     "data": {
      "image/png": "[encoded data removed]",
      "text/plain": [
       "<Figure size 432x288 with 1 Axes>"
      ]
     },
     "metadata": {},
     "output_type": "display_data"
    }
   ],
   "source": [
    "data_other['marital-status'].value_counts().plot(kind=\"pie\")"
   ]
  },
  {
   "cell_type": "markdown",
   "metadata": {},
   "source": [
    "### Atribut 'workclass'"
   ]
  },
  {
   "cell_type": "code",
   "execution_count": 52,
   "metadata": {},
   "outputs": [
    {
     "data": {
      "text/plain": [
       " Private             1465\n",
       " ?                    140\n",
       " Self-emp-not-inc     129\n",
       " Local-gov            124\n",
       " State-gov             83\n",
       "??                     61\n",
       " Federal-gov           59\n",
       " Self-emp-inc          46\n",
       " Without-pay            2\n",
       "Name: workclass, dtype: int64"
      ]
     },
     "execution_count": 52,
     "metadata": {},
     "output_type": "execute_result"
    }
   ],
   "source": [
    "data_other['workclass'].value_counts()"
   ]
  },
  {
   "cell_type": "code",
   "execution_count": 54,
   "metadata": {},
   "outputs": [
    {
     "data": {
      "text/plain": [
       "<matplotlib.axes._subplots.AxesSubplot at 0x7f7221ecb128>"
      ]
     },
     "execution_count": 54,
     "metadata": {},
     "output_type": "execute_result"
    },
    {
     "data": {
      "image/png": "[encoded data removed]",
      "text/plain": [
       "<Figure size 432x288 with 1 Axes>"
      ]
     },
     "metadata": {},
     "output_type": "display_data"
    }
   ],
   "source": [
    "data_other['workclass'].value_counts().plot(kind=\"bar\")"
   ]
  },
  {
   "cell_type": "markdown",
   "metadata": {},
   "source": [
    "### Vzajomne porovnanie 'workclass' a 'marital_status'"
   ]
  },
  {
   "cell_type": "code",
   "execution_count": 57,
   "metadata": {},
   "outputs": [
    {
     "data": {
      "text/plain": [
       "<matplotlib.axes._subplots.AxesSubplot at 0x7f7221dd7c18>"
      ]
     },
     "execution_count": 57,
     "metadata": {},
     "output_type": "execute_result"
    },
    {
     "data": {
      "image/png": "[encoded data removed]",
      "text/plain": [
       "<Figure size 432x288 with 1 Axes>"
      ]
     },
     "metadata": {},
     "output_type": "display_data"
    }
   ],
   "source": [
    " sns.scatterplot(x=\"workclass\", y=\"marital-status\", data=data_other)"
   ]
  },
  {
   "cell_type": "markdown",
   "metadata": {},
   "source": [
    "Z grafu vidno, ze rozlozenie do 'workclass' je rovnomerne a nezda sa byt viazane na 'marital-status'"
   ]
  },
  {
   "cell_type": "markdown",
   "metadata": {},
   "source": [
    "### Atribut 'occupation'"
   ]
  },
  {
   "cell_type": "code",
   "execution_count": 43,
   "metadata": {},
   "outputs": [
    {
     "data": {
      "text/plain": [
       " Adm-clerical         390\n",
       " Other-service        378\n",
       " Prof-specialty       308\n",
       " Exec-managerial      257\n",
       " Sales                238\n",
       " ?                    161\n",
       " Craft-repair         154\n",
       " Machine-op-inspct    127\n",
       " Handlers-cleaners     60\n",
       " Tech-support          54\n",
       " Transport-moving      53\n",
       " Farming-fishing       44\n",
       " Protective-serv       34\n",
       " Priv-house-serv       21\n",
       "Name: occupation, dtype: int64"
      ]
     },
     "execution_count": 43,
     "metadata": {},
     "output_type": "execute_result"
    }
   ],
   "source": [
    "data_other['occupation'].value_counts()"
   ]
  },
  {
   "cell_type": "markdown",
   "metadata": {},
   "source": [
    "Doplnit chybajuce hodnoty vymenovanymi metodamy"
   ]
  },
  {
   "cell_type": "markdown",
   "metadata": {},
   "source": [
    "### Atribut 'race'"
   ]
  },
  {
   "cell_type": "code",
   "execution_count": 44,
   "metadata": {
    "scrolled": true
   },
   "outputs": [
    {
     "data": {
      "text/plain": [
       "<matplotlib.axes._subplots.AxesSubplot at 0x7f72224a7400>"
      ]
     },
     "execution_count": 44,
     "metadata": {},
     "output_type": "execute_result"
    },
    {
     "data": {
      "image/png": "[encoded data removed]",
      "text/plain": [
       "<Figure size 432x288 with 1 Axes>"
      ]
     },
     "metadata": {},
     "output_type": "display_data"
    }
   ],
   "source": [
    "data_other['race'].value_counts().plot(kind='pie')"
   ]
  },
  {
   "cell_type": "markdown",
   "metadata": {},
   "source": [
    "### Atribut 'pregnant'"
   ]
  },
  {
   "cell_type": "code",
   "execution_count": 45,
   "metadata": {},
   "outputs": [
    {
     "data": {
      "text/plain": [
       "<matplotlib.axes._subplots.AxesSubplot at 0x7f72220aafd0>"
      ]
     },
     "execution_count": 45,
     "metadata": {},
     "output_type": "execute_result"
    },
    {
     "data": {
      "image/png": "[encoded data removed]",
      "text/plain": [
       "<Figure size 432x288 with 1 Axes>"
      ]
     },
     "metadata": {},
     "output_type": "display_data"
    }
   ],
   "source": [
    "data_other['pregnant'].value_counts().plot(kind='pie')"
   ]
  },
  {
   "cell_type": "markdown",
   "metadata": {},
   "source": [
    "-----"
   ]
  },
  {
   "cell_type": "markdown",
   "metadata": {},
   "source": [
    "## Hypoteza 1\n",
    "Ked ma pacient zvysene hodnoty T3, T4U aj TSH budeme povazovat ze ma problem zo stitnou zlazou.\n",
    "Existuje rozdiel v strednych hodnotach T3 pre zdravych a chorych pacientov"
   ]
  },
  {
   "cell_type": "markdown",
   "metadata": {},
   "source": [
    "## Hypoteza 2\n",
    "Ked je goitre true, mozes mat problem zo stitnou zlazou"
   ]
  },
  {
   "cell_type": "markdown",
   "metadata": {},
   "source": [
    "------"
   ]
  },
  {
   "cell_type": "markdown",
   "metadata": {},
   "source": [
    "## Spojenie datasetov"
   ]
  },
  {
   "cell_type": "markdown",
   "metadata": {},
   "source": [
    " - Datasety 'personal' a 'other' maju spolocne 2 stlpce a to 'name' a 'address'. Na zaklade tychto atributov, by sme mohli datasety spojit.\n",
    " - Prvky, ktore by sme nevedeli namapovat z jedneho datasetu do druheho by sme vyhodili. "
   ]
  },
  {
   "cell_type": "markdown",
   "metadata": {},
   "source": [
    "TODO:\n",
    "- Overit hypotezi\n",
    "- Napisat akym sposobom spojit datasety"
   ]
  }
 ],
 "metadata": {
  "kernelspec": {
   "display_name": "Python 3",
   "language": "python",
   "name": "python3"
  },
  "language_info": {
   "codemirror_mode": {
    "name": "ipython",
    "version": 3
   },
   "file_extension": ".py",
   "mimetype": "text/x-python",
   "name": "python",
   "nbconvert_exporter": "python",
   "pygments_lexer": "ipython3",
   "version": "3.6.5"
  }
 },
 "nbformat": 4,
 "nbformat_minor": 2
}
